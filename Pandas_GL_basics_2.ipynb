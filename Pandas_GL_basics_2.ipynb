{
  "nbformat": 4,
  "nbformat_minor": 0,
  "metadata": {
    "colab": {
      "provenance": []
    },
    "kernelspec": {
      "name": "python3",
      "display_name": "Python 3"
    },
    "language_info": {
      "name": "python"
    }
  },
  "cells": [
    {
      "cell_type": "markdown",
      "metadata": {
        "id": "HEYw2QFIEkdB"
      },
      "source": [
        "Pandas\n",
        "\n",
        "Package for managing data similar to numpy but this is more robust methods using Series and dataframe.\n"
      ]
    },
    {
      "cell_type": "code",
      "metadata": {
        "id": "WvwCDrAREZ0y"
      },
      "source": [
        "import pandas as pd;\n",
        "import numpy as np;\n"
      ],
      "execution_count": null,
      "outputs": []
    },
    {
      "cell_type": "code",
      "metadata": {
        "colab": {
          "base_uri": "https://localhost:8080/"
        },
        "id": "dv-sSicWE0vB",
        "outputId": "11d42d19-1aa4-4721-aeb6-8887c5144c05"
      },
      "source": [
        "myList = [1,2,3,4,5];\n",
        "myArray = np.array(myList);\n",
        "print(myArray);"
      ],
      "execution_count": null,
      "outputs": [
        {
          "output_type": "stream",
          "text": [
            "[1 2 3 4 5]\n"
          ],
          "name": "stdout"
        }
      ]
    },
    {
      "cell_type": "code",
      "metadata": {
        "colab": {
          "base_uri": "https://localhost:8080/"
        },
        "id": "08BpO3fiFJeb",
        "outputId": "04cc3161-0274-4c7d-ba5e-d38271f39259"
      },
      "source": [
        "mySeries1 = pd.Series(data= myList);\n",
        "print(mySeries1);\n",
        "print(mySeries1[2]);\n",
        "print(\"------------\");\n",
        "mySeries2 = pd.Series(data = myArray);\n",
        "print(mySeries2);"
      ],
      "execution_count": null,
      "outputs": [
        {
          "output_type": "stream",
          "text": [
            "0    1\n",
            "1    2\n",
            "2    3\n",
            "3    4\n",
            "4    5\n",
            "dtype: int64\n",
            "3\n",
            "------------\n",
            "0    1\n",
            "1    2\n",
            "2    3\n",
            "3    4\n",
            "4    5\n",
            "dtype: int64\n"
          ],
          "name": "stdout"
        }
      ]
    },
    {
      "cell_type": "code",
      "metadata": {
        "colab": {
          "base_uri": "https://localhost:8080/"
        },
        "id": "1wHJmdM1F8iS",
        "outputId": "68ffd641-8914-4175-8cf9-c9830cc2197a"
      },
      "source": [
        "#we can create our own index for Series\n",
        "myLabel = ['first','second','third','fourth','fifth'];\n",
        "mySeries3 = pd.Series(data = myList, index = myLabel);\n",
        "print(mySeries3);"
      ],
      "execution_count": null,
      "outputs": [
        {
          "output_type": "stream",
          "text": [
            "first     1\n",
            "second    2\n",
            "third     3\n",
            "fourth    4\n",
            "fifth     5\n",
            "dtype: int64\n"
          ],
          "name": "stdout"
        }
      ]
    },
    {
      "cell_type": "code",
      "metadata": {
        "colab": {
          "base_uri": "https://localhost:8080/"
        },
        "id": "TBt3RW3RGTwu",
        "outputId": "e9c80f15-0d4e-4dde-b0f0-ff6bdd4fd897"
      },
      "source": [
        "mySeries4 = pd.Series(myList,myLabel);\n",
        "print(mySeries4);\n",
        "print(mySeries4['third']);"
      ],
      "execution_count": null,
      "outputs": [
        {
          "output_type": "stream",
          "text": [
            "first     1\n",
            "second    2\n",
            "third     3\n",
            "fourth    4\n",
            "fifth     5\n",
            "dtype: int64\n",
            "3\n"
          ],
          "name": "stdout"
        }
      ]
    },
    {
      "cell_type": "code",
      "metadata": {
        "colab": {
          "base_uri": "https://localhost:8080/"
        },
        "id": "cxDT0dYAJVkF",
        "outputId": "12bffa84-b251-4b73-8f8c-962e8d0b4658"
      },
      "source": [
        "mySeries5 = pd.Series([6,7,8,9],['first','third','fourth','sixth']);\n",
        "print(mySeries5);\n",
        "print('');\n",
        "print(mySeries5+mySeries4);"
      ],
      "execution_count": null,
      "outputs": [
        {
          "output_type": "stream",
          "text": [
            "first     6\n",
            "third     7\n",
            "fourth    8\n",
            "sixth     9\n",
            "dtype: int64\n",
            "\n",
            "fifth      NaN\n",
            "first      7.0\n",
            "fourth    12.0\n",
            "second     NaN\n",
            "sixth      NaN\n",
            "third     10.0\n",
            "dtype: float64\n"
          ],
          "name": "stdout"
        }
      ]
    },
    {
      "cell_type": "code",
      "metadata": {
        "colab": {
          "base_uri": "https://localhost:8080/",
          "height": 237
        },
        "id": "QYuxyskiKXnM",
        "outputId": "f9f96be6-bc0a-4d48-f3ac-146465c33199"
      },
      "source": [
        "df1 = pd.concat([mySeries4,mySeries5],axis =1 , sort= False);\n",
        "df1"
      ],
      "execution_count": null,
      "outputs": [
        {
          "output_type": "execute_result",
          "data": {
            "text/html": [
              "<div>\n",
              "<style scoped>\n",
              "    .dataframe tbody tr th:only-of-type {\n",
              "        vertical-align: middle;\n",
              "    }\n",
              "\n",
              "    .dataframe tbody tr th {\n",
              "        vertical-align: top;\n",
              "    }\n",
              "\n",
              "    .dataframe thead th {\n",
              "        text-align: right;\n",
              "    }\n",
              "</style>\n",
              "<table border=\"1\" class=\"dataframe\">\n",
              "  <thead>\n",
              "    <tr style=\"text-align: right;\">\n",
              "      <th></th>\n",
              "      <th>0</th>\n",
              "      <th>1</th>\n",
              "    </tr>\n",
              "  </thead>\n",
              "  <tbody>\n",
              "    <tr>\n",
              "      <th>first</th>\n",
              "      <td>1.0</td>\n",
              "      <td>6.0</td>\n",
              "    </tr>\n",
              "    <tr>\n",
              "      <th>second</th>\n",
              "      <td>2.0</td>\n",
              "      <td>NaN</td>\n",
              "    </tr>\n",
              "    <tr>\n",
              "      <th>third</th>\n",
              "      <td>3.0</td>\n",
              "      <td>7.0</td>\n",
              "    </tr>\n",
              "    <tr>\n",
              "      <th>fourth</th>\n",
              "      <td>4.0</td>\n",
              "      <td>8.0</td>\n",
              "    </tr>\n",
              "    <tr>\n",
              "      <th>fifth</th>\n",
              "      <td>5.0</td>\n",
              "      <td>NaN</td>\n",
              "    </tr>\n",
              "    <tr>\n",
              "      <th>sixth</th>\n",
              "      <td>NaN</td>\n",
              "      <td>9.0</td>\n",
              "    </tr>\n",
              "  </tbody>\n",
              "</table>\n",
              "</div>"
            ],
            "text/plain": [
              "          0    1\n",
              "first   1.0  6.0\n",
              "second  2.0  NaN\n",
              "third   3.0  7.0\n",
              "fourth  4.0  8.0\n",
              "fifth   5.0  NaN\n",
              "sixth   NaN  9.0"
            ]
          },
          "metadata": {
            "tags": []
          },
          "execution_count": 8
        }
      ]
    },
    {
      "cell_type": "code",
      "metadata": {
        "colab": {
          "base_uri": "https://localhost:8080/"
        },
        "id": "x5cLelDWLwCB",
        "outputId": "2120b684-713b-41e2-f9ce-f1570060fd75"
      },
      "source": [
        "df2 = pd.DataFrame(np.random.randn(5,5));\n",
        "print(df2);"
      ],
      "execution_count": null,
      "outputs": [
        {
          "output_type": "stream",
          "text": [
            "          0         1         2         3         4\n",
            "0 -0.330120 -1.938329 -0.940977 -1.586456 -0.558888\n",
            "1  0.150957 -0.989331 -0.870442  0.016839  0.538771\n",
            "2 -1.523125  0.776861 -1.373837 -0.039265 -0.768582\n",
            "3  0.171643 -1.808246 -0.677920 -0.093655  1.677455\n",
            "4  0.026121  1.578829 -0.546119 -1.503225  1.225691\n"
          ],
          "name": "stdout"
        }
      ]
    },
    {
      "cell_type": "code",
      "metadata": {
        "colab": {
          "base_uri": "https://localhost:8080/"
        },
        "id": "xNHn8_ZdMO2f",
        "outputId": "14b36c6d-902a-45be-f05a-2c2e0864c914"
      },
      "source": [
        "df3 = pd.DataFrame(np.random.randn(4,2), ['1st row','2nd row','3rd row','4th row'],['first','second']);\n",
        "print(df3);\n",
        "print(\"----\");\n",
        "print(df3['second']);\n",
        "print(df3[['second','first']]);"
      ],
      "execution_count": null,
      "outputs": [
        {
          "output_type": "stream",
          "text": [
            "            first    second\n",
            "1st row -1.683562 -0.017405\n",
            "2nd row -1.234513  0.081994\n",
            "3rd row -1.345732 -0.794459\n",
            "4th row  1.079657 -0.199138\n",
            "----\n",
            "1st row   -0.017405\n",
            "2nd row    0.081994\n",
            "3rd row   -0.794459\n",
            "4th row   -0.199138\n",
            "Name: second, dtype: float64\n",
            "           second     first\n",
            "1st row -0.017405 -1.683562\n",
            "2nd row  0.081994 -1.234513\n",
            "3rd row -0.794459 -1.345732\n",
            "4th row -0.199138  1.079657\n"
          ],
          "name": "stdout"
        }
      ]
    },
    {
      "cell_type": "code",
      "metadata": {
        "id": "l8Z4s6-culXy",
        "colab": {
          "base_uri": "https://localhost:8080/"
        },
        "outputId": "4010cc6f-61e0-42e1-e453-ebc42f4e2a6f"
      },
      "source": [
        "print(df3.loc['1st row']);\n",
        "print(df3.iloc[0]);\n",
        "\n",
        "print(\"----------\");\n",
        "print(df3.loc[['1st row','4th row']]);\n",
        "\n"
      ],
      "execution_count": null,
      "outputs": [
        {
          "output_type": "stream",
          "text": [
            "first    -1.683562\n",
            "second   -0.017405\n",
            "Name: 1st row, dtype: float64\n",
            "first    -1.683562\n",
            "second   -0.017405\n",
            "Name: 1st row, dtype: float64\n",
            "----------\n",
            "            first    second\n",
            "1st row -1.683562 -0.017405\n",
            "4th row  1.079657 -0.199138\n"
          ],
          "name": "stdout"
        }
      ]
    },
    {
      "cell_type": "code",
      "metadata": {
        "id": "hBIxAkKAvY46",
        "colab": {
          "base_uri": "https://localhost:8080/"
        },
        "outputId": "e1be545c-fc36-4e52-e742-b1e5763d69b9"
      },
      "source": [
        "print(df3>0);\n",
        "print(df3[df3>0])"
      ],
      "execution_count": null,
      "outputs": [
        {
          "output_type": "stream",
          "text": [
            "         first  second\n",
            "1st row  False   False\n",
            "2nd row  False    True\n",
            "3rd row  False   False\n",
            "4th row   True   False\n",
            "            first    second\n",
            "1st row       NaN       NaN\n",
            "2nd row       NaN  0.081994\n",
            "3rd row       NaN       NaN\n",
            "4th row  1.079657       NaN\n"
          ],
          "name": "stdout"
        }
      ]
    },
    {
      "cell_type": "code",
      "metadata": {
        "id": "HmBMqWHzvpGL",
        "colab": {
          "base_uri": "https://localhost:8080/",
          "height": 175
        },
        "outputId": "d5ffb276-b3cd-4560-9394-1533c0a22ccb"
      },
      "source": [
        "df3['third'] = np.random.randn(4,1);\n",
        "df3"
      ],
      "execution_count": null,
      "outputs": [
        {
          "output_type": "execute_result",
          "data": {
            "text/html": [
              "<div>\n",
              "<style scoped>\n",
              "    .dataframe tbody tr th:only-of-type {\n",
              "        vertical-align: middle;\n",
              "    }\n",
              "\n",
              "    .dataframe tbody tr th {\n",
              "        vertical-align: top;\n",
              "    }\n",
              "\n",
              "    .dataframe thead th {\n",
              "        text-align: right;\n",
              "    }\n",
              "</style>\n",
              "<table border=\"1\" class=\"dataframe\">\n",
              "  <thead>\n",
              "    <tr style=\"text-align: right;\">\n",
              "      <th></th>\n",
              "      <th>first</th>\n",
              "      <th>second</th>\n",
              "      <th>third</th>\n",
              "    </tr>\n",
              "  </thead>\n",
              "  <tbody>\n",
              "    <tr>\n",
              "      <th>1st row</th>\n",
              "      <td>-1.683562</td>\n",
              "      <td>-0.017405</td>\n",
              "      <td>-0.120003</td>\n",
              "    </tr>\n",
              "    <tr>\n",
              "      <th>2nd row</th>\n",
              "      <td>-1.234513</td>\n",
              "      <td>0.081994</td>\n",
              "      <td>-1.355192</td>\n",
              "    </tr>\n",
              "    <tr>\n",
              "      <th>3rd row</th>\n",
              "      <td>-1.345732</td>\n",
              "      <td>-0.794459</td>\n",
              "      <td>1.106069</td>\n",
              "    </tr>\n",
              "    <tr>\n",
              "      <th>4th row</th>\n",
              "      <td>1.079657</td>\n",
              "      <td>-0.199138</td>\n",
              "      <td>-2.569288</td>\n",
              "    </tr>\n",
              "  </tbody>\n",
              "</table>\n",
              "</div>"
            ],
            "text/plain": [
              "            first    second     third\n",
              "1st row -1.683562 -0.017405 -0.120003\n",
              "2nd row -1.234513  0.081994 -1.355192\n",
              "3rd row -1.345732 -0.794459  1.106069\n",
              "4th row  1.079657 -0.199138 -2.569288"
            ]
          },
          "metadata": {
            "tags": []
          },
          "execution_count": 13
        }
      ]
    },
    {
      "cell_type": "code",
      "metadata": {
        "id": "LnCIt72Cvwfc",
        "colab": {
          "base_uri": "https://localhost:8080/",
          "height": 175
        },
        "outputId": "2e1c4b28-2b6e-4796-82f7-0c6f8fb7a157"
      },
      "source": [
        "df4 = df3.drop('third',axis = 1);\n",
        "df4"
      ],
      "execution_count": null,
      "outputs": [
        {
          "output_type": "execute_result",
          "data": {
            "text/html": [
              "<div>\n",
              "<style scoped>\n",
              "    .dataframe tbody tr th:only-of-type {\n",
              "        vertical-align: middle;\n",
              "    }\n",
              "\n",
              "    .dataframe tbody tr th {\n",
              "        vertical-align: top;\n",
              "    }\n",
              "\n",
              "    .dataframe thead th {\n",
              "        text-align: right;\n",
              "    }\n",
              "</style>\n",
              "<table border=\"1\" class=\"dataframe\">\n",
              "  <thead>\n",
              "    <tr style=\"text-align: right;\">\n",
              "      <th></th>\n",
              "      <th>first</th>\n",
              "      <th>second</th>\n",
              "    </tr>\n",
              "  </thead>\n",
              "  <tbody>\n",
              "    <tr>\n",
              "      <th>1st row</th>\n",
              "      <td>-1.683562</td>\n",
              "      <td>-0.017405</td>\n",
              "    </tr>\n",
              "    <tr>\n",
              "      <th>2nd row</th>\n",
              "      <td>-1.234513</td>\n",
              "      <td>0.081994</td>\n",
              "    </tr>\n",
              "    <tr>\n",
              "      <th>3rd row</th>\n",
              "      <td>-1.345732</td>\n",
              "      <td>-0.794459</td>\n",
              "    </tr>\n",
              "    <tr>\n",
              "      <th>4th row</th>\n",
              "      <td>1.079657</td>\n",
              "      <td>-0.199138</td>\n",
              "    </tr>\n",
              "  </tbody>\n",
              "</table>\n",
              "</div>"
            ],
            "text/plain": [
              "            first    second\n",
              "1st row -1.683562 -0.017405\n",
              "2nd row -1.234513  0.081994\n",
              "3rd row -1.345732 -0.794459\n",
              "4th row  1.079657 -0.199138"
            ]
          },
          "metadata": {
            "tags": []
          },
          "execution_count": 14
        }
      ]
    },
    {
      "cell_type": "code",
      "metadata": {
        "id": "eulMmSIRwpeB",
        "colab": {
          "base_uri": "https://localhost:8080/",
          "height": 143
        },
        "outputId": "28b6bab9-5bd0-496e-ee20-39f03ecd8d85"
      },
      "source": [
        "df5 = df3.drop('4th row',axis=0);\n",
        "df5"
      ],
      "execution_count": null,
      "outputs": [
        {
          "output_type": "execute_result",
          "data": {
            "text/html": [
              "<div>\n",
              "<style scoped>\n",
              "    .dataframe tbody tr th:only-of-type {\n",
              "        vertical-align: middle;\n",
              "    }\n",
              "\n",
              "    .dataframe tbody tr th {\n",
              "        vertical-align: top;\n",
              "    }\n",
              "\n",
              "    .dataframe thead th {\n",
              "        text-align: right;\n",
              "    }\n",
              "</style>\n",
              "<table border=\"1\" class=\"dataframe\">\n",
              "  <thead>\n",
              "    <tr style=\"text-align: right;\">\n",
              "      <th></th>\n",
              "      <th>first</th>\n",
              "      <th>second</th>\n",
              "      <th>third</th>\n",
              "    </tr>\n",
              "  </thead>\n",
              "  <tbody>\n",
              "    <tr>\n",
              "      <th>1st row</th>\n",
              "      <td>-1.683562</td>\n",
              "      <td>-0.017405</td>\n",
              "      <td>-0.120003</td>\n",
              "    </tr>\n",
              "    <tr>\n",
              "      <th>2nd row</th>\n",
              "      <td>-1.234513</td>\n",
              "      <td>0.081994</td>\n",
              "      <td>-1.355192</td>\n",
              "    </tr>\n",
              "    <tr>\n",
              "      <th>3rd row</th>\n",
              "      <td>-1.345732</td>\n",
              "      <td>-0.794459</td>\n",
              "      <td>1.106069</td>\n",
              "    </tr>\n",
              "  </tbody>\n",
              "</table>\n",
              "</div>"
            ],
            "text/plain": [
              "            first    second     third\n",
              "1st row -1.683562 -0.017405 -0.120003\n",
              "2nd row -1.234513  0.081994 -1.355192\n",
              "3rd row -1.345732 -0.794459  1.106069"
            ]
          },
          "metadata": {
            "tags": []
          },
          "execution_count": 15
        }
      ]
    },
    {
      "cell_type": "code",
      "metadata": {
        "id": "fVHN6BZ4w3Ym",
        "colab": {
          "base_uri": "https://localhost:8080/",
          "height": 143
        },
        "outputId": "c16bb729-3b5a-4389-e87b-f8d7047741a6"
      },
      "source": [
        "df5.reset_index()"
      ],
      "execution_count": null,
      "outputs": [
        {
          "output_type": "execute_result",
          "data": {
            "text/html": [
              "<div>\n",
              "<style scoped>\n",
              "    .dataframe tbody tr th:only-of-type {\n",
              "        vertical-align: middle;\n",
              "    }\n",
              "\n",
              "    .dataframe tbody tr th {\n",
              "        vertical-align: top;\n",
              "    }\n",
              "\n",
              "    .dataframe thead th {\n",
              "        text-align: right;\n",
              "    }\n",
              "</style>\n",
              "<table border=\"1\" class=\"dataframe\">\n",
              "  <thead>\n",
              "    <tr style=\"text-align: right;\">\n",
              "      <th></th>\n",
              "      <th>index</th>\n",
              "      <th>first</th>\n",
              "      <th>second</th>\n",
              "      <th>third</th>\n",
              "    </tr>\n",
              "  </thead>\n",
              "  <tbody>\n",
              "    <tr>\n",
              "      <th>0</th>\n",
              "      <td>1st row</td>\n",
              "      <td>-1.683562</td>\n",
              "      <td>-0.017405</td>\n",
              "      <td>-0.120003</td>\n",
              "    </tr>\n",
              "    <tr>\n",
              "      <th>1</th>\n",
              "      <td>2nd row</td>\n",
              "      <td>-1.234513</td>\n",
              "      <td>0.081994</td>\n",
              "      <td>-1.355192</td>\n",
              "    </tr>\n",
              "    <tr>\n",
              "      <th>2</th>\n",
              "      <td>3rd row</td>\n",
              "      <td>-1.345732</td>\n",
              "      <td>-0.794459</td>\n",
              "      <td>1.106069</td>\n",
              "    </tr>\n",
              "  </tbody>\n",
              "</table>\n",
              "</div>"
            ],
            "text/plain": [
              "     index     first    second     third\n",
              "0  1st row -1.683562 -0.017405 -0.120003\n",
              "1  2nd row -1.234513  0.081994 -1.355192\n",
              "2  3rd row -1.345732 -0.794459  1.106069"
            ]
          },
          "metadata": {
            "tags": []
          },
          "execution_count": 16
        }
      ]
    },
    {
      "cell_type": "code",
      "metadata": {
        "id": "1TACv7pMxPuC",
        "colab": {
          "base_uri": "https://localhost:8080/"
        },
        "outputId": "c39d1574-75b4-4fc2-a37d-fe385d16f8a7"
      },
      "source": [
        "#df5.reset_index(inplace=True);\n",
        "#df5.set_index('index',inplace=True)\n",
        "#df5.drop('level_0',axis = 1, inplace= True);\n",
        "print(df5)"
      ],
      "execution_count": null,
      "outputs": [
        {
          "output_type": "stream",
          "text": [
            "            first    second     third\n",
            "1st row -1.683562 -0.017405 -0.120003\n",
            "2nd row -1.234513  0.081994 -1.355192\n",
            "3rd row -1.345732 -0.794459  1.106069\n"
          ],
          "name": "stdout"
        }
      ]
    },
    {
      "cell_type": "code",
      "metadata": {
        "id": "hxevVtohxt1Q",
        "colab": {
          "base_uri": "https://localhost:8080/",
          "height": 175
        },
        "outputId": "494d6243-1ecb-4b50-9eaf-63510842c758"
      },
      "source": [
        "df3.drop('first',axis = 1, inplace=True);\n",
        "df3"
      ],
      "execution_count": null,
      "outputs": [
        {
          "output_type": "execute_result",
          "data": {
            "text/html": [
              "<div>\n",
              "<style scoped>\n",
              "    .dataframe tbody tr th:only-of-type {\n",
              "        vertical-align: middle;\n",
              "    }\n",
              "\n",
              "    .dataframe tbody tr th {\n",
              "        vertical-align: top;\n",
              "    }\n",
              "\n",
              "    .dataframe thead th {\n",
              "        text-align: right;\n",
              "    }\n",
              "</style>\n",
              "<table border=\"1\" class=\"dataframe\">\n",
              "  <thead>\n",
              "    <tr style=\"text-align: right;\">\n",
              "      <th></th>\n",
              "      <th>second</th>\n",
              "      <th>third</th>\n",
              "    </tr>\n",
              "  </thead>\n",
              "  <tbody>\n",
              "    <tr>\n",
              "      <th>1st row</th>\n",
              "      <td>-0.017405</td>\n",
              "      <td>-0.120003</td>\n",
              "    </tr>\n",
              "    <tr>\n",
              "      <th>2nd row</th>\n",
              "      <td>0.081994</td>\n",
              "      <td>-1.355192</td>\n",
              "    </tr>\n",
              "    <tr>\n",
              "      <th>3rd row</th>\n",
              "      <td>-0.794459</td>\n",
              "      <td>1.106069</td>\n",
              "    </tr>\n",
              "    <tr>\n",
              "      <th>4th row</th>\n",
              "      <td>-0.199138</td>\n",
              "      <td>-2.569288</td>\n",
              "    </tr>\n",
              "  </tbody>\n",
              "</table>\n",
              "</div>"
            ],
            "text/plain": [
              "           second     third\n",
              "1st row -0.017405 -0.120003\n",
              "2nd row  0.081994 -1.355192\n",
              "3rd row -0.794459  1.106069\n",
              "4th row -0.199138 -2.569288"
            ]
          },
          "metadata": {
            "tags": []
          },
          "execution_count": 18
        }
      ]
    },
    {
      "cell_type": "markdown",
      "metadata": {
        "id": "6wG6NsiZznUR"
      },
      "source": [
        "Combining Data Frames\n",
        "\n",
        "1)Concat\n",
        "\n",
        "2)Join\n",
        "\n",
        "3)Merge"
      ]
    },
    {
      "cell_type": "code",
      "metadata": {
        "id": "12BjnxVFzugJ"
      },
      "source": [
        "df7 = pd.DataFrame({\"customer\":[1,2,3,4],\n",
        "                    \"cat\":[\"cat1\",\"cat2\",\"cat3\",\"cat4\"],\n",
        "                    \"imp\":['yes','no','yes','yes'],\n",
        "                    \"sales\":[100,115,90,80]},index = [0,1,2,3]);\n",
        "df8 = pd.DataFrame({\"customer\":[1,3,4,5],\n",
        "                    \"color\":[\"yellow\",\"pink\",\"pink\",\"green\"],\n",
        "                    \"dist\":[10, 50, 20, 15],\n",
        "                    \"sales\":[110,215,190,810]},index=[4,5,6,7]);"
      ],
      "execution_count": null,
      "outputs": []
    },
    {
      "cell_type": "code",
      "metadata": {
        "colab": {
          "base_uri": "https://localhost:8080/",
          "height": 300
        },
        "id": "IMbMgR-P0pNk",
        "outputId": "3a2d7f27-1535-487a-cc09-49e583ba6d7c"
      },
      "source": [
        "pd.concat([df7,df8],axis= 0, sort= False)"
      ],
      "execution_count": null,
      "outputs": [
        {
          "output_type": "execute_result",
          "data": {
            "text/html": [
              "<div>\n",
              "<style scoped>\n",
              "    .dataframe tbody tr th:only-of-type {\n",
              "        vertical-align: middle;\n",
              "    }\n",
              "\n",
              "    .dataframe tbody tr th {\n",
              "        vertical-align: top;\n",
              "    }\n",
              "\n",
              "    .dataframe thead th {\n",
              "        text-align: right;\n",
              "    }\n",
              "</style>\n",
              "<table border=\"1\" class=\"dataframe\">\n",
              "  <thead>\n",
              "    <tr style=\"text-align: right;\">\n",
              "      <th></th>\n",
              "      <th>customer</th>\n",
              "      <th>cat</th>\n",
              "      <th>imp</th>\n",
              "      <th>sales</th>\n",
              "      <th>color</th>\n",
              "      <th>dist</th>\n",
              "    </tr>\n",
              "  </thead>\n",
              "  <tbody>\n",
              "    <tr>\n",
              "      <th>0</th>\n",
              "      <td>1</td>\n",
              "      <td>cat1</td>\n",
              "      <td>yes</td>\n",
              "      <td>100</td>\n",
              "      <td>NaN</td>\n",
              "      <td>NaN</td>\n",
              "    </tr>\n",
              "    <tr>\n",
              "      <th>1</th>\n",
              "      <td>2</td>\n",
              "      <td>cat2</td>\n",
              "      <td>no</td>\n",
              "      <td>115</td>\n",
              "      <td>NaN</td>\n",
              "      <td>NaN</td>\n",
              "    </tr>\n",
              "    <tr>\n",
              "      <th>2</th>\n",
              "      <td>3</td>\n",
              "      <td>cat3</td>\n",
              "      <td>yes</td>\n",
              "      <td>90</td>\n",
              "      <td>NaN</td>\n",
              "      <td>NaN</td>\n",
              "    </tr>\n",
              "    <tr>\n",
              "      <th>3</th>\n",
              "      <td>4</td>\n",
              "      <td>cat4</td>\n",
              "      <td>yes</td>\n",
              "      <td>80</td>\n",
              "      <td>NaN</td>\n",
              "      <td>NaN</td>\n",
              "    </tr>\n",
              "    <tr>\n",
              "      <th>4</th>\n",
              "      <td>1</td>\n",
              "      <td>NaN</td>\n",
              "      <td>NaN</td>\n",
              "      <td>110</td>\n",
              "      <td>yellow</td>\n",
              "      <td>10.0</td>\n",
              "    </tr>\n",
              "    <tr>\n",
              "      <th>5</th>\n",
              "      <td>3</td>\n",
              "      <td>NaN</td>\n",
              "      <td>NaN</td>\n",
              "      <td>215</td>\n",
              "      <td>pink</td>\n",
              "      <td>50.0</td>\n",
              "    </tr>\n",
              "    <tr>\n",
              "      <th>6</th>\n",
              "      <td>4</td>\n",
              "      <td>NaN</td>\n",
              "      <td>NaN</td>\n",
              "      <td>190</td>\n",
              "      <td>pink</td>\n",
              "      <td>20.0</td>\n",
              "    </tr>\n",
              "    <tr>\n",
              "      <th>7</th>\n",
              "      <td>5</td>\n",
              "      <td>NaN</td>\n",
              "      <td>NaN</td>\n",
              "      <td>810</td>\n",
              "      <td>green</td>\n",
              "      <td>15.0</td>\n",
              "    </tr>\n",
              "  </tbody>\n",
              "</table>\n",
              "</div>"
            ],
            "text/plain": [
              "   customer   cat  imp  sales   color  dist\n",
              "0         1  cat1  yes    100     NaN   NaN\n",
              "1         2  cat2   no    115     NaN   NaN\n",
              "2         3  cat3  yes     90     NaN   NaN\n",
              "3         4  cat4  yes     80     NaN   NaN\n",
              "4         1   NaN  NaN    110  yellow  10.0\n",
              "5         3   NaN  NaN    215    pink  50.0\n",
              "6         4   NaN  NaN    190    pink  20.0\n",
              "7         5   NaN  NaN    810   green  15.0"
            ]
          },
          "metadata": {
            "tags": []
          },
          "execution_count": 20
        }
      ]
    },
    {
      "cell_type": "code",
      "metadata": {
        "colab": {
          "base_uri": "https://localhost:8080/",
          "height": 300
        },
        "id": "2mz-UceSP1iC",
        "outputId": "bac398c1-e825-48cf-d19e-89e2221a5b6e"
      },
      "source": [
        "pd.concat([df7,df8],axis=1,sort=False)\n",
        "#this axis =1 concat works based on index. If we manually give the index this will affect the result"
      ],
      "execution_count": null,
      "outputs": [
        {
          "output_type": "execute_result",
          "data": {
            "text/html": [
              "<div>\n",
              "<style scoped>\n",
              "    .dataframe tbody tr th:only-of-type {\n",
              "        vertical-align: middle;\n",
              "    }\n",
              "\n",
              "    .dataframe tbody tr th {\n",
              "        vertical-align: top;\n",
              "    }\n",
              "\n",
              "    .dataframe thead th {\n",
              "        text-align: right;\n",
              "    }\n",
              "</style>\n",
              "<table border=\"1\" class=\"dataframe\">\n",
              "  <thead>\n",
              "    <tr style=\"text-align: right;\">\n",
              "      <th></th>\n",
              "      <th>customer</th>\n",
              "      <th>cat</th>\n",
              "      <th>imp</th>\n",
              "      <th>sales</th>\n",
              "      <th>customer</th>\n",
              "      <th>color</th>\n",
              "      <th>dist</th>\n",
              "      <th>sales</th>\n",
              "    </tr>\n",
              "  </thead>\n",
              "  <tbody>\n",
              "    <tr>\n",
              "      <th>0</th>\n",
              "      <td>1.0</td>\n",
              "      <td>cat1</td>\n",
              "      <td>yes</td>\n",
              "      <td>100.0</td>\n",
              "      <td>NaN</td>\n",
              "      <td>NaN</td>\n",
              "      <td>NaN</td>\n",
              "      <td>NaN</td>\n",
              "    </tr>\n",
              "    <tr>\n",
              "      <th>1</th>\n",
              "      <td>2.0</td>\n",
              "      <td>cat2</td>\n",
              "      <td>no</td>\n",
              "      <td>115.0</td>\n",
              "      <td>NaN</td>\n",
              "      <td>NaN</td>\n",
              "      <td>NaN</td>\n",
              "      <td>NaN</td>\n",
              "    </tr>\n",
              "    <tr>\n",
              "      <th>2</th>\n",
              "      <td>3.0</td>\n",
              "      <td>cat3</td>\n",
              "      <td>yes</td>\n",
              "      <td>90.0</td>\n",
              "      <td>NaN</td>\n",
              "      <td>NaN</td>\n",
              "      <td>NaN</td>\n",
              "      <td>NaN</td>\n",
              "    </tr>\n",
              "    <tr>\n",
              "      <th>3</th>\n",
              "      <td>4.0</td>\n",
              "      <td>cat4</td>\n",
              "      <td>yes</td>\n",
              "      <td>80.0</td>\n",
              "      <td>NaN</td>\n",
              "      <td>NaN</td>\n",
              "      <td>NaN</td>\n",
              "      <td>NaN</td>\n",
              "    </tr>\n",
              "    <tr>\n",
              "      <th>4</th>\n",
              "      <td>NaN</td>\n",
              "      <td>NaN</td>\n",
              "      <td>NaN</td>\n",
              "      <td>NaN</td>\n",
              "      <td>1.0</td>\n",
              "      <td>yellow</td>\n",
              "      <td>10.0</td>\n",
              "      <td>110.0</td>\n",
              "    </tr>\n",
              "    <tr>\n",
              "      <th>5</th>\n",
              "      <td>NaN</td>\n",
              "      <td>NaN</td>\n",
              "      <td>NaN</td>\n",
              "      <td>NaN</td>\n",
              "      <td>3.0</td>\n",
              "      <td>pink</td>\n",
              "      <td>50.0</td>\n",
              "      <td>215.0</td>\n",
              "    </tr>\n",
              "    <tr>\n",
              "      <th>6</th>\n",
              "      <td>NaN</td>\n",
              "      <td>NaN</td>\n",
              "      <td>NaN</td>\n",
              "      <td>NaN</td>\n",
              "      <td>4.0</td>\n",
              "      <td>pink</td>\n",
              "      <td>20.0</td>\n",
              "      <td>190.0</td>\n",
              "    </tr>\n",
              "    <tr>\n",
              "      <th>7</th>\n",
              "      <td>NaN</td>\n",
              "      <td>NaN</td>\n",
              "      <td>NaN</td>\n",
              "      <td>NaN</td>\n",
              "      <td>5.0</td>\n",
              "      <td>green</td>\n",
              "      <td>15.0</td>\n",
              "      <td>810.0</td>\n",
              "    </tr>\n",
              "  </tbody>\n",
              "</table>\n",
              "</div>"
            ],
            "text/plain": [
              "   customer   cat  imp  sales  customer   color  dist  sales\n",
              "0       1.0  cat1  yes  100.0       NaN     NaN   NaN    NaN\n",
              "1       2.0  cat2   no  115.0       NaN     NaN   NaN    NaN\n",
              "2       3.0  cat3  yes   90.0       NaN     NaN   NaN    NaN\n",
              "3       4.0  cat4  yes   80.0       NaN     NaN   NaN    NaN\n",
              "4       NaN   NaN  NaN    NaN       1.0  yellow  10.0  110.0\n",
              "5       NaN   NaN  NaN    NaN       3.0    pink  50.0  215.0\n",
              "6       NaN   NaN  NaN    NaN       4.0    pink  20.0  190.0\n",
              "7       NaN   NaN  NaN    NaN       5.0   green  15.0  810.0"
            ]
          },
          "metadata": {
            "tags": []
          },
          "execution_count": 21
        }
      ]
    },
    {
      "cell_type": "markdown",
      "metadata": {
        "id": "5GBrF03ZQhiK"
      },
      "source": [
        "Merge and Join\n",
        "\n",
        "Merge will concat dataframe based on a specific column instead of index."
      ]
    },
    {
      "cell_type": "code",
      "metadata": {
        "colab": {
          "base_uri": "https://localhost:8080/",
          "height": 206
        },
        "id": "K9nedGTmQend",
        "outputId": "e1ff332a-1b5a-4a08-84d7-fab33c683c1c"
      },
      "source": [
        "pd.merge(df7,df8,how='outer',on='customer') #outer is union"
      ],
      "execution_count": null,
      "outputs": [
        {
          "output_type": "execute_result",
          "data": {
            "text/html": [
              "<div>\n",
              "<style scoped>\n",
              "    .dataframe tbody tr th:only-of-type {\n",
              "        vertical-align: middle;\n",
              "    }\n",
              "\n",
              "    .dataframe tbody tr th {\n",
              "        vertical-align: top;\n",
              "    }\n",
              "\n",
              "    .dataframe thead th {\n",
              "        text-align: right;\n",
              "    }\n",
              "</style>\n",
              "<table border=\"1\" class=\"dataframe\">\n",
              "  <thead>\n",
              "    <tr style=\"text-align: right;\">\n",
              "      <th></th>\n",
              "      <th>customer</th>\n",
              "      <th>cat</th>\n",
              "      <th>imp</th>\n",
              "      <th>sales_x</th>\n",
              "      <th>color</th>\n",
              "      <th>dist</th>\n",
              "      <th>sales_y</th>\n",
              "    </tr>\n",
              "  </thead>\n",
              "  <tbody>\n",
              "    <tr>\n",
              "      <th>0</th>\n",
              "      <td>1</td>\n",
              "      <td>cat1</td>\n",
              "      <td>yes</td>\n",
              "      <td>100.0</td>\n",
              "      <td>yellow</td>\n",
              "      <td>10.0</td>\n",
              "      <td>110.0</td>\n",
              "    </tr>\n",
              "    <tr>\n",
              "      <th>1</th>\n",
              "      <td>2</td>\n",
              "      <td>cat2</td>\n",
              "      <td>no</td>\n",
              "      <td>115.0</td>\n",
              "      <td>NaN</td>\n",
              "      <td>NaN</td>\n",
              "      <td>NaN</td>\n",
              "    </tr>\n",
              "    <tr>\n",
              "      <th>2</th>\n",
              "      <td>3</td>\n",
              "      <td>cat3</td>\n",
              "      <td>yes</td>\n",
              "      <td>90.0</td>\n",
              "      <td>pink</td>\n",
              "      <td>50.0</td>\n",
              "      <td>215.0</td>\n",
              "    </tr>\n",
              "    <tr>\n",
              "      <th>3</th>\n",
              "      <td>4</td>\n",
              "      <td>cat4</td>\n",
              "      <td>yes</td>\n",
              "      <td>80.0</td>\n",
              "      <td>pink</td>\n",
              "      <td>20.0</td>\n",
              "      <td>190.0</td>\n",
              "    </tr>\n",
              "    <tr>\n",
              "      <th>4</th>\n",
              "      <td>5</td>\n",
              "      <td>NaN</td>\n",
              "      <td>NaN</td>\n",
              "      <td>NaN</td>\n",
              "      <td>green</td>\n",
              "      <td>15.0</td>\n",
              "      <td>810.0</td>\n",
              "    </tr>\n",
              "  </tbody>\n",
              "</table>\n",
              "</div>"
            ],
            "text/plain": [
              "   customer   cat  imp  sales_x   color  dist  sales_y\n",
              "0         1  cat1  yes    100.0  yellow  10.0    110.0\n",
              "1         2  cat2   no    115.0     NaN   NaN      NaN\n",
              "2         3  cat3  yes     90.0    pink  50.0    215.0\n",
              "3         4  cat4  yes     80.0    pink  20.0    190.0\n",
              "4         5   NaN  NaN      NaN   green  15.0    810.0"
            ]
          },
          "metadata": {
            "tags": []
          },
          "execution_count": 22
        }
      ]
    },
    {
      "cell_type": "code",
      "metadata": {
        "colab": {
          "base_uri": "https://localhost:8080/",
          "height": 143
        },
        "id": "ppTvhGEPRBTB",
        "outputId": "49c37b13-80cf-4c42-defd-14d308e2f513"
      },
      "source": [
        "pd.merge(df7,df8,how='inner',on='customer') #inner is intersection"
      ],
      "execution_count": null,
      "outputs": [
        {
          "output_type": "execute_result",
          "data": {
            "text/html": [
              "<div>\n",
              "<style scoped>\n",
              "    .dataframe tbody tr th:only-of-type {\n",
              "        vertical-align: middle;\n",
              "    }\n",
              "\n",
              "    .dataframe tbody tr th {\n",
              "        vertical-align: top;\n",
              "    }\n",
              "\n",
              "    .dataframe thead th {\n",
              "        text-align: right;\n",
              "    }\n",
              "</style>\n",
              "<table border=\"1\" class=\"dataframe\">\n",
              "  <thead>\n",
              "    <tr style=\"text-align: right;\">\n",
              "      <th></th>\n",
              "      <th>customer</th>\n",
              "      <th>cat</th>\n",
              "      <th>imp</th>\n",
              "      <th>sales_x</th>\n",
              "      <th>color</th>\n",
              "      <th>dist</th>\n",
              "      <th>sales_y</th>\n",
              "    </tr>\n",
              "  </thead>\n",
              "  <tbody>\n",
              "    <tr>\n",
              "      <th>0</th>\n",
              "      <td>1</td>\n",
              "      <td>cat1</td>\n",
              "      <td>yes</td>\n",
              "      <td>100</td>\n",
              "      <td>yellow</td>\n",
              "      <td>10</td>\n",
              "      <td>110</td>\n",
              "    </tr>\n",
              "    <tr>\n",
              "      <th>1</th>\n",
              "      <td>3</td>\n",
              "      <td>cat3</td>\n",
              "      <td>yes</td>\n",
              "      <td>90</td>\n",
              "      <td>pink</td>\n",
              "      <td>50</td>\n",
              "      <td>215</td>\n",
              "    </tr>\n",
              "    <tr>\n",
              "      <th>2</th>\n",
              "      <td>4</td>\n",
              "      <td>cat4</td>\n",
              "      <td>yes</td>\n",
              "      <td>80</td>\n",
              "      <td>pink</td>\n",
              "      <td>20</td>\n",
              "      <td>190</td>\n",
              "    </tr>\n",
              "  </tbody>\n",
              "</table>\n",
              "</div>"
            ],
            "text/plain": [
              "   customer   cat  imp  sales_x   color  dist  sales_y\n",
              "0         1  cat1  yes      100  yellow    10      110\n",
              "1         3  cat3  yes       90    pink    50      215\n",
              "2         4  cat4  yes       80    pink    20      190"
            ]
          },
          "metadata": {
            "tags": []
          },
          "execution_count": 23
        }
      ]
    },
    {
      "cell_type": "code",
      "metadata": {
        "colab": {
          "base_uri": "https://localhost:8080/",
          "height": 175
        },
        "id": "uTH71YSxRIer",
        "outputId": "6db48571-c8f5-4778-fb6a-65b177ef5f59"
      },
      "source": [
        "pd.merge(df7,df8,how='left',on='customer')  #left gives all the data of left data frame"
      ],
      "execution_count": null,
      "outputs": [
        {
          "output_type": "execute_result",
          "data": {
            "text/html": [
              "<div>\n",
              "<style scoped>\n",
              "    .dataframe tbody tr th:only-of-type {\n",
              "        vertical-align: middle;\n",
              "    }\n",
              "\n",
              "    .dataframe tbody tr th {\n",
              "        vertical-align: top;\n",
              "    }\n",
              "\n",
              "    .dataframe thead th {\n",
              "        text-align: right;\n",
              "    }\n",
              "</style>\n",
              "<table border=\"1\" class=\"dataframe\">\n",
              "  <thead>\n",
              "    <tr style=\"text-align: right;\">\n",
              "      <th></th>\n",
              "      <th>customer</th>\n",
              "      <th>cat</th>\n",
              "      <th>imp</th>\n",
              "      <th>sales_x</th>\n",
              "      <th>color</th>\n",
              "      <th>dist</th>\n",
              "      <th>sales_y</th>\n",
              "    </tr>\n",
              "  </thead>\n",
              "  <tbody>\n",
              "    <tr>\n",
              "      <th>0</th>\n",
              "      <td>1</td>\n",
              "      <td>cat1</td>\n",
              "      <td>yes</td>\n",
              "      <td>100</td>\n",
              "      <td>yellow</td>\n",
              "      <td>10.0</td>\n",
              "      <td>110.0</td>\n",
              "    </tr>\n",
              "    <tr>\n",
              "      <th>1</th>\n",
              "      <td>2</td>\n",
              "      <td>cat2</td>\n",
              "      <td>no</td>\n",
              "      <td>115</td>\n",
              "      <td>NaN</td>\n",
              "      <td>NaN</td>\n",
              "      <td>NaN</td>\n",
              "    </tr>\n",
              "    <tr>\n",
              "      <th>2</th>\n",
              "      <td>3</td>\n",
              "      <td>cat3</td>\n",
              "      <td>yes</td>\n",
              "      <td>90</td>\n",
              "      <td>pink</td>\n",
              "      <td>50.0</td>\n",
              "      <td>215.0</td>\n",
              "    </tr>\n",
              "    <tr>\n",
              "      <th>3</th>\n",
              "      <td>4</td>\n",
              "      <td>cat4</td>\n",
              "      <td>yes</td>\n",
              "      <td>80</td>\n",
              "      <td>pink</td>\n",
              "      <td>20.0</td>\n",
              "      <td>190.0</td>\n",
              "    </tr>\n",
              "  </tbody>\n",
              "</table>\n",
              "</div>"
            ],
            "text/plain": [
              "   customer   cat  imp  sales_x   color  dist  sales_y\n",
              "0         1  cat1  yes      100  yellow  10.0    110.0\n",
              "1         2  cat2   no      115     NaN   NaN      NaN\n",
              "2         3  cat3  yes       90    pink  50.0    215.0\n",
              "3         4  cat4  yes       80    pink  20.0    190.0"
            ]
          },
          "metadata": {
            "tags": []
          },
          "execution_count": 24
        }
      ]
    },
    {
      "cell_type": "code",
      "metadata": {
        "id": "0uCv47sVRwEP"
      },
      "source": [
        "df9 = pd.DataFrame({'Q1':[101,102,107],\n",
        "                    'Q2':[200,150,170]},\n",
        "                   index = ['I0','I1','I2']);\n",
        "df10 = pd.DataFrame({'Q3':[301,302,307],\n",
        "                    'Q4':[400,450,470]},\n",
        "                   index = ['I0','I2','I3']);"
      ],
      "execution_count": null,
      "outputs": []
    },
    {
      "cell_type": "code",
      "metadata": {
        "colab": {
          "base_uri": "https://localhost:8080/",
          "height": 143
        },
        "id": "-eCMVfoa9m4q",
        "outputId": "222017fe-79f3-42bb-ef8f-1f00386ea2ec"
      },
      "source": [
        "\"\"\"Join works similar to Merge. Instead of joining on Column Names,it joins on index labels\"\"\"\n",
        "df9.join(df10,how='left')"
      ],
      "execution_count": null,
      "outputs": [
        {
          "output_type": "execute_result",
          "data": {
            "text/html": [
              "<div>\n",
              "<style scoped>\n",
              "    .dataframe tbody tr th:only-of-type {\n",
              "        vertical-align: middle;\n",
              "    }\n",
              "\n",
              "    .dataframe tbody tr th {\n",
              "        vertical-align: top;\n",
              "    }\n",
              "\n",
              "    .dataframe thead th {\n",
              "        text-align: right;\n",
              "    }\n",
              "</style>\n",
              "<table border=\"1\" class=\"dataframe\">\n",
              "  <thead>\n",
              "    <tr style=\"text-align: right;\">\n",
              "      <th></th>\n",
              "      <th>Q1</th>\n",
              "      <th>Q2</th>\n",
              "      <th>Q3</th>\n",
              "      <th>Q4</th>\n",
              "    </tr>\n",
              "  </thead>\n",
              "  <tbody>\n",
              "    <tr>\n",
              "      <th>I0</th>\n",
              "      <td>101</td>\n",
              "      <td>200</td>\n",
              "      <td>301.0</td>\n",
              "      <td>400.0</td>\n",
              "    </tr>\n",
              "    <tr>\n",
              "      <th>I1</th>\n",
              "      <td>102</td>\n",
              "      <td>150</td>\n",
              "      <td>NaN</td>\n",
              "      <td>NaN</td>\n",
              "    </tr>\n",
              "    <tr>\n",
              "      <th>I2</th>\n",
              "      <td>107</td>\n",
              "      <td>170</td>\n",
              "      <td>302.0</td>\n",
              "      <td>450.0</td>\n",
              "    </tr>\n",
              "  </tbody>\n",
              "</table>\n",
              "</div>"
            ],
            "text/plain": [
              "     Q1   Q2     Q3     Q4\n",
              "I0  101  200  301.0  400.0\n",
              "I1  102  150    NaN    NaN\n",
              "I2  107  170  302.0  450.0"
            ]
          },
          "metadata": {
            "tags": []
          },
          "execution_count": 26
        }
      ]
    },
    {
      "cell_type": "code",
      "metadata": {
        "colab": {
          "base_uri": "https://localhost:8080/"
        },
        "id": "hrQrj5guA7TN",
        "outputId": "cadc8339-eab1-4534-daaf-5c4a1265ac75"
      },
      "source": [
        "#Dataframe functions\n",
        "df8\n",
        "df8['color'].unique()"
      ],
      "execution_count": null,
      "outputs": [
        {
          "output_type": "execute_result",
          "data": {
            "text/plain": [
              "array(['yellow', 'pink', 'green'], dtype=object)"
            ]
          },
          "metadata": {
            "tags": []
          },
          "execution_count": 27
        }
      ]
    },
    {
      "cell_type": "code",
      "metadata": {
        "colab": {
          "base_uri": "https://localhost:8080/"
        },
        "id": "SEwbGiETBW2b",
        "outputId": "e9c6d03a-2f7e-4c6f-80be-cfebf3eed11f"
      },
      "source": [
        "df8['color'].value_counts()"
      ],
      "execution_count": null,
      "outputs": [
        {
          "output_type": "execute_result",
          "data": {
            "text/plain": [
              "pink      2\n",
              "green     1\n",
              "yellow    1\n",
              "Name: color, dtype: int64"
            ]
          },
          "metadata": {
            "tags": []
          },
          "execution_count": 28
        }
      ]
    },
    {
      "cell_type": "code",
      "metadata": {
        "colab": {
          "base_uri": "https://localhost:8080/"
        },
        "id": "Q6UrKfonBgmp",
        "outputId": "b0bd52c4-eb0f-4fb4-bddf-9c165c945062"
      },
      "source": [
        "df9.mean()"
      ],
      "execution_count": null,
      "outputs": [
        {
          "output_type": "execute_result",
          "data": {
            "text/plain": [
              "Q1    103.333333\n",
              "Q2    173.333333\n",
              "dtype: float64"
            ]
          },
          "metadata": {
            "tags": []
          },
          "execution_count": 29
        }
      ]
    },
    {
      "cell_type": "code",
      "metadata": {
        "colab": {
          "base_uri": "https://localhost:8080/"
        },
        "id": "Hfhogkw6BjZf",
        "outputId": "70011df9-9136-4587-cdd9-9a21c41d324b"
      },
      "source": [
        "df8.columns"
      ],
      "execution_count": null,
      "outputs": [
        {
          "output_type": "execute_result",
          "data": {
            "text/plain": [
              "Index(['customer', 'color', 'dist', 'sales'], dtype='object')"
            ]
          },
          "metadata": {
            "tags": []
          },
          "execution_count": 30
        }
      ]
    },
    {
      "cell_type": "code",
      "metadata": {
        "colab": {
          "base_uri": "https://localhost:8080/",
          "height": 175
        },
        "id": "WGV9q3O2GEn-",
        "outputId": "341bc018-fabd-4517-c4c7-a3326dc09b79"
      },
      "source": [
        "df8"
      ],
      "execution_count": null,
      "outputs": [
        {
          "output_type": "execute_result",
          "data": {
            "text/html": [
              "<div>\n",
              "<style scoped>\n",
              "    .dataframe tbody tr th:only-of-type {\n",
              "        vertical-align: middle;\n",
              "    }\n",
              "\n",
              "    .dataframe tbody tr th {\n",
              "        vertical-align: top;\n",
              "    }\n",
              "\n",
              "    .dataframe thead th {\n",
              "        text-align: right;\n",
              "    }\n",
              "</style>\n",
              "<table border=\"1\" class=\"dataframe\">\n",
              "  <thead>\n",
              "    <tr style=\"text-align: right;\">\n",
              "      <th></th>\n",
              "      <th>customer</th>\n",
              "      <th>color</th>\n",
              "      <th>dist</th>\n",
              "      <th>sales</th>\n",
              "    </tr>\n",
              "  </thead>\n",
              "  <tbody>\n",
              "    <tr>\n",
              "      <th>4</th>\n",
              "      <td>1</td>\n",
              "      <td>yellow</td>\n",
              "      <td>10</td>\n",
              "      <td>110</td>\n",
              "    </tr>\n",
              "    <tr>\n",
              "      <th>5</th>\n",
              "      <td>3</td>\n",
              "      <td>pink</td>\n",
              "      <td>50</td>\n",
              "      <td>215</td>\n",
              "    </tr>\n",
              "    <tr>\n",
              "      <th>6</th>\n",
              "      <td>4</td>\n",
              "      <td>pink</td>\n",
              "      <td>20</td>\n",
              "      <td>190</td>\n",
              "    </tr>\n",
              "    <tr>\n",
              "      <th>7</th>\n",
              "      <td>5</td>\n",
              "      <td>green</td>\n",
              "      <td>15</td>\n",
              "      <td>810</td>\n",
              "    </tr>\n",
              "  </tbody>\n",
              "</table>\n",
              "</div>"
            ],
            "text/plain": [
              "   customer   color  dist  sales\n",
              "4         1  yellow    10    110\n",
              "5         3    pink    50    215\n",
              "6         4    pink    20    190\n",
              "7         5   green    15    810"
            ]
          },
          "metadata": {
            "tags": []
          },
          "execution_count": 31
        }
      ]
    },
    {
      "cell_type": "code",
      "metadata": {
        "colab": {
          "base_uri": "https://localhost:8080/",
          "height": 81
        },
        "id": "T8oMfGnbGJRi",
        "outputId": "94f3deab-f984-4628-bcbb-a700778548b1"
      },
      "source": [
        "new_df = df8[(df8['customer'] != 5) & (df8['color'] != 'pink')];\n",
        "new_df"
      ],
      "execution_count": null,
      "outputs": [
        {
          "output_type": "execute_result",
          "data": {
            "text/html": [
              "<div>\n",
              "<style scoped>\n",
              "    .dataframe tbody tr th:only-of-type {\n",
              "        vertical-align: middle;\n",
              "    }\n",
              "\n",
              "    .dataframe tbody tr th {\n",
              "        vertical-align: top;\n",
              "    }\n",
              "\n",
              "    .dataframe thead th {\n",
              "        text-align: right;\n",
              "    }\n",
              "</style>\n",
              "<table border=\"1\" class=\"dataframe\">\n",
              "  <thead>\n",
              "    <tr style=\"text-align: right;\">\n",
              "      <th></th>\n",
              "      <th>customer</th>\n",
              "      <th>color</th>\n",
              "      <th>dist</th>\n",
              "      <th>sales</th>\n",
              "    </tr>\n",
              "  </thead>\n",
              "  <tbody>\n",
              "    <tr>\n",
              "      <th>4</th>\n",
              "      <td>1</td>\n",
              "      <td>yellow</td>\n",
              "      <td>10</td>\n",
              "      <td>110</td>\n",
              "    </tr>\n",
              "  </tbody>\n",
              "</table>\n",
              "</div>"
            ],
            "text/plain": [
              "   customer   color  dist  sales\n",
              "4         1  yellow    10    110"
            ]
          },
          "metadata": {
            "tags": []
          },
          "execution_count": 32
        }
      ]
    },
    {
      "cell_type": "code",
      "metadata": {
        "colab": {
          "base_uri": "https://localhost:8080/"
        },
        "id": "jgoHwYROHHF6",
        "outputId": "e5079372-b0ce-48fa-bd6d-c64c60630004"
      },
      "source": [
        "print(df8['sales'].mean());\n",
        "print(df8['sales'].min());\n",
        "print(df8['sales'].std());\n",
        "print(df8['sales'].sum());"
      ],
      "execution_count": null,
      "outputs": [
        {
          "output_type": "stream",
          "text": [
            "331.25\n",
            "110\n",
            "322.29321535934736\n",
            "1325\n"
          ],
          "name": "stdout"
        }
      ]
    },
    {
      "cell_type": "code",
      "metadata": {
        "id": "zQ-E3BFZHT2w"
      },
      "source": [
        "def profit(s):\n",
        "  return s*0.5;"
      ],
      "execution_count": null,
      "outputs": []
    },
    {
      "cell_type": "code",
      "metadata": {
        "colab": {
          "base_uri": "https://localhost:8080/"
        },
        "id": "Jn_YUIJzHaFd",
        "outputId": "86b17633-3cde-40ac-a45c-cd805e43ef8f"
      },
      "source": [
        "df8['sales'].apply(profit)"
      ],
      "execution_count": null,
      "outputs": [
        {
          "output_type": "execute_result",
          "data": {
            "text/plain": [
              "4     55.0\n",
              "5    107.5\n",
              "6     95.0\n",
              "7    405.0\n",
              "Name: sales, dtype: float64"
            ]
          },
          "metadata": {
            "tags": []
          },
          "execution_count": 35
        }
      ]
    },
    {
      "cell_type": "code",
      "metadata": {
        "colab": {
          "base_uri": "https://localhost:8080/"
        },
        "id": "usclvEJhH6Ls",
        "outputId": "878c3367-0d9d-41cc-a8c7-4ed86463b42e"
      },
      "source": [
        "df8['color'].apply(len)"
      ],
      "execution_count": null,
      "outputs": [
        {
          "output_type": "execute_result",
          "data": {
            "text/plain": [
              "4    6\n",
              "5    4\n",
              "6    4\n",
              "7    5\n",
              "Name: color, dtype: int64"
            ]
          },
          "metadata": {
            "tags": []
          },
          "execution_count": 36
        }
      ]
    },
    {
      "cell_type": "code",
      "metadata": {
        "colab": {
          "base_uri": "https://localhost:8080/",
          "height": 261
        },
        "id": "80_WpIBVNNan",
        "outputId": "5c1ed4ce-289b-4fb3-aea9-3b5cf1759f8b"
      },
      "source": [
        "\"\"\"apply will work on a series. applymap will not work on a series ,it works only on Data Frame. it works entry by entry\"\"\"\n",
        "df11 = df8[['sales','dist']];\n",
        "print(df11);\n",
        "\n",
        "df11.applymap(profit)"
      ],
      "execution_count": null,
      "outputs": [
        {
          "output_type": "stream",
          "text": [
            "   sales  dist\n",
            "4    110    10\n",
            "5    215    50\n",
            "6    190    20\n",
            "7    810    15\n"
          ],
          "name": "stdout"
        },
        {
          "output_type": "execute_result",
          "data": {
            "text/html": [
              "<div>\n",
              "<style scoped>\n",
              "    .dataframe tbody tr th:only-of-type {\n",
              "        vertical-align: middle;\n",
              "    }\n",
              "\n",
              "    .dataframe tbody tr th {\n",
              "        vertical-align: top;\n",
              "    }\n",
              "\n",
              "    .dataframe thead th {\n",
              "        text-align: right;\n",
              "    }\n",
              "</style>\n",
              "<table border=\"1\" class=\"dataframe\">\n",
              "  <thead>\n",
              "    <tr style=\"text-align: right;\">\n",
              "      <th></th>\n",
              "      <th>sales</th>\n",
              "      <th>dist</th>\n",
              "    </tr>\n",
              "  </thead>\n",
              "  <tbody>\n",
              "    <tr>\n",
              "      <th>4</th>\n",
              "      <td>55.0</td>\n",
              "      <td>5.0</td>\n",
              "    </tr>\n",
              "    <tr>\n",
              "      <th>5</th>\n",
              "      <td>107.5</td>\n",
              "      <td>25.0</td>\n",
              "    </tr>\n",
              "    <tr>\n",
              "      <th>6</th>\n",
              "      <td>95.0</td>\n",
              "      <td>10.0</td>\n",
              "    </tr>\n",
              "    <tr>\n",
              "      <th>7</th>\n",
              "      <td>405.0</td>\n",
              "      <td>7.5</td>\n",
              "    </tr>\n",
              "  </tbody>\n",
              "</table>\n",
              "</div>"
            ],
            "text/plain": [
              "   sales  dist\n",
              "4   55.0   5.0\n",
              "5  107.5  25.0\n",
              "6   95.0  10.0\n",
              "7  405.0   7.5"
            ]
          },
          "metadata": {
            "tags": []
          },
          "execution_count": 37
        }
      ]
    },
    {
      "cell_type": "code",
      "metadata": {
        "colab": {
          "base_uri": "https://localhost:8080/"
        },
        "id": "M7W2VzHoOGgJ",
        "outputId": "dd1d0dc1-b589-4a44-93aa-eb54baeb282b"
      },
      "source": [
        "def col_sum(col):\n",
        "  return sum(col);\n",
        "\n",
        "df11.apply(col_sum)\n",
        "#df11.applymap(col_sum)"
      ],
      "execution_count": null,
      "outputs": [
        {
          "output_type": "execute_result",
          "data": {
            "text/plain": [
              "sales    1325\n",
              "dist       95\n",
              "dtype: int64"
            ]
          },
          "metadata": {
            "tags": []
          },
          "execution_count": 38
        }
      ]
    },
    {
      "cell_type": "code",
      "metadata": {
        "colab": {
          "base_uri": "https://localhost:8080/",
          "height": 175
        },
        "id": "WSe_Bj5zOuEb",
        "outputId": "df5b6746-1d31-47b4-bf94-42bef92cd16f"
      },
      "source": [
        "del df8['color'];\n",
        "df8"
      ],
      "execution_count": null,
      "outputs": [
        {
          "output_type": "execute_result",
          "data": {
            "text/html": [
              "<div>\n",
              "<style scoped>\n",
              "    .dataframe tbody tr th:only-of-type {\n",
              "        vertical-align: middle;\n",
              "    }\n",
              "\n",
              "    .dataframe tbody tr th {\n",
              "        vertical-align: top;\n",
              "    }\n",
              "\n",
              "    .dataframe thead th {\n",
              "        text-align: right;\n",
              "    }\n",
              "</style>\n",
              "<table border=\"1\" class=\"dataframe\">\n",
              "  <thead>\n",
              "    <tr style=\"text-align: right;\">\n",
              "      <th></th>\n",
              "      <th>customer</th>\n",
              "      <th>dist</th>\n",
              "      <th>sales</th>\n",
              "    </tr>\n",
              "  </thead>\n",
              "  <tbody>\n",
              "    <tr>\n",
              "      <th>4</th>\n",
              "      <td>1</td>\n",
              "      <td>10</td>\n",
              "      <td>110</td>\n",
              "    </tr>\n",
              "    <tr>\n",
              "      <th>5</th>\n",
              "      <td>3</td>\n",
              "      <td>50</td>\n",
              "      <td>215</td>\n",
              "    </tr>\n",
              "    <tr>\n",
              "      <th>6</th>\n",
              "      <td>4</td>\n",
              "      <td>20</td>\n",
              "      <td>190</td>\n",
              "    </tr>\n",
              "    <tr>\n",
              "      <th>7</th>\n",
              "      <td>5</td>\n",
              "      <td>15</td>\n",
              "      <td>810</td>\n",
              "    </tr>\n",
              "  </tbody>\n",
              "</table>\n",
              "</div>"
            ],
            "text/plain": [
              "   customer  dist  sales\n",
              "4         1    10    110\n",
              "5         3    50    215\n",
              "6         4    20    190\n",
              "7         5    15    810"
            ]
          },
          "metadata": {
            "tags": []
          },
          "execution_count": 39
        }
      ]
    },
    {
      "cell_type": "code",
      "metadata": {
        "colab": {
          "base_uri": "https://localhost:8080/"
        },
        "id": "gBXQlBVIO2cD",
        "outputId": "33cebc09-2483-4384-9faf-9fca9159cca3"
      },
      "source": [
        "df8.index"
      ],
      "execution_count": null,
      "outputs": [
        {
          "output_type": "execute_result",
          "data": {
            "text/plain": [
              "Int64Index([4, 5, 6, 7], dtype='int64')"
            ]
          },
          "metadata": {
            "tags": []
          },
          "execution_count": 40
        }
      ]
    },
    {
      "cell_type": "code",
      "metadata": {
        "colab": {
          "base_uri": "https://localhost:8080/",
          "height": 175
        },
        "id": "YPeHYZ_UO9jI",
        "outputId": "28f5471b-84b6-41f6-eed0-5733cb67bc66"
      },
      "source": [
        "df8.sort_values(by='dist',inplace=True);\n",
        "df8"
      ],
      "execution_count": null,
      "outputs": [
        {
          "output_type": "execute_result",
          "data": {
            "text/html": [
              "<div>\n",
              "<style scoped>\n",
              "    .dataframe tbody tr th:only-of-type {\n",
              "        vertical-align: middle;\n",
              "    }\n",
              "\n",
              "    .dataframe tbody tr th {\n",
              "        vertical-align: top;\n",
              "    }\n",
              "\n",
              "    .dataframe thead th {\n",
              "        text-align: right;\n",
              "    }\n",
              "</style>\n",
              "<table border=\"1\" class=\"dataframe\">\n",
              "  <thead>\n",
              "    <tr style=\"text-align: right;\">\n",
              "      <th></th>\n",
              "      <th>customer</th>\n",
              "      <th>dist</th>\n",
              "      <th>sales</th>\n",
              "    </tr>\n",
              "  </thead>\n",
              "  <tbody>\n",
              "    <tr>\n",
              "      <th>4</th>\n",
              "      <td>1</td>\n",
              "      <td>10</td>\n",
              "      <td>110</td>\n",
              "    </tr>\n",
              "    <tr>\n",
              "      <th>7</th>\n",
              "      <td>5</td>\n",
              "      <td>15</td>\n",
              "      <td>810</td>\n",
              "    </tr>\n",
              "    <tr>\n",
              "      <th>6</th>\n",
              "      <td>4</td>\n",
              "      <td>20</td>\n",
              "      <td>190</td>\n",
              "    </tr>\n",
              "    <tr>\n",
              "      <th>5</th>\n",
              "      <td>3</td>\n",
              "      <td>50</td>\n",
              "      <td>215</td>\n",
              "    </tr>\n",
              "  </tbody>\n",
              "</table>\n",
              "</div>"
            ],
            "text/plain": [
              "   customer  dist  sales\n",
              "4         1    10    110\n",
              "7         5    15    810\n",
              "6         4    20    190\n",
              "5         3    50    215"
            ]
          },
          "metadata": {
            "tags": []
          },
          "execution_count": 41
        }
      ]
    },
    {
      "cell_type": "code",
      "metadata": {
        "colab": {
          "base_uri": "https://localhost:8080/",
          "height": 237
        },
        "id": "H2Zxp8Xo29LS",
        "outputId": "b43a0098-ebec-4f6d-ea61-a0db39c77633"
      },
      "source": [
        "myDict = pd.DataFrame({'Customer':['customer1','customer1','customer2','customer2','customer3','customer3'],\n",
        "                       'product1':[1.0,1.3,2.3,4.1,3.2,2.5],\n",
        "                       'product2':[2.4,5.6,2.1,5.5,3.2,6.9]},index = ['pur1','pur2','pur3','pur4','pur5','pur6']);\n",
        "\n",
        "myDict"
      ],
      "execution_count": null,
      "outputs": [
        {
          "output_type": "execute_result",
          "data": {
            "text/html": [
              "<div>\n",
              "<style scoped>\n",
              "    .dataframe tbody tr th:only-of-type {\n",
              "        vertical-align: middle;\n",
              "    }\n",
              "\n",
              "    .dataframe tbody tr th {\n",
              "        vertical-align: top;\n",
              "    }\n",
              "\n",
              "    .dataframe thead th {\n",
              "        text-align: right;\n",
              "    }\n",
              "</style>\n",
              "<table border=\"1\" class=\"dataframe\">\n",
              "  <thead>\n",
              "    <tr style=\"text-align: right;\">\n",
              "      <th></th>\n",
              "      <th>Customer</th>\n",
              "      <th>product1</th>\n",
              "      <th>product2</th>\n",
              "    </tr>\n",
              "  </thead>\n",
              "  <tbody>\n",
              "    <tr>\n",
              "      <th>pur1</th>\n",
              "      <td>customer1</td>\n",
              "      <td>1.0</td>\n",
              "      <td>2.4</td>\n",
              "    </tr>\n",
              "    <tr>\n",
              "      <th>pur2</th>\n",
              "      <td>customer1</td>\n",
              "      <td>1.3</td>\n",
              "      <td>5.6</td>\n",
              "    </tr>\n",
              "    <tr>\n",
              "      <th>pur3</th>\n",
              "      <td>customer2</td>\n",
              "      <td>2.3</td>\n",
              "      <td>2.1</td>\n",
              "    </tr>\n",
              "    <tr>\n",
              "      <th>pur4</th>\n",
              "      <td>customer2</td>\n",
              "      <td>4.1</td>\n",
              "      <td>5.5</td>\n",
              "    </tr>\n",
              "    <tr>\n",
              "      <th>pur5</th>\n",
              "      <td>customer3</td>\n",
              "      <td>3.2</td>\n",
              "      <td>3.2</td>\n",
              "    </tr>\n",
              "    <tr>\n",
              "      <th>pur6</th>\n",
              "      <td>customer3</td>\n",
              "      <td>2.5</td>\n",
              "      <td>6.9</td>\n",
              "    </tr>\n",
              "  </tbody>\n",
              "</table>\n",
              "</div>"
            ],
            "text/plain": [
              "       Customer  product1  product2\n",
              "pur1  customer1       1.0       2.4\n",
              "pur2  customer1       1.3       5.6\n",
              "pur3  customer2       2.3       2.1\n",
              "pur4  customer2       4.1       5.5\n",
              "pur5  customer3       3.2       3.2\n",
              "pur6  customer3       2.5       6.9"
            ]
          },
          "metadata": {
            "tags": []
          },
          "execution_count": 45
        }
      ]
    },
    {
      "cell_type": "code",
      "metadata": {
        "colab": {
          "base_uri": "https://localhost:8080/",
          "height": 206
        },
        "id": "x5hPPy9o4KAx",
        "outputId": "d3907039-cf9b-4470-bd25-bd7dbc4de3c1"
      },
      "source": [
        "grouped_data = myDict.groupby('Customer');\n",
        "grouped_data.describe()"
      ],
      "execution_count": null,
      "outputs": [
        {
          "output_type": "execute_result",
          "data": {
            "text/html": [
              "<div>\n",
              "<style scoped>\n",
              "    .dataframe tbody tr th:only-of-type {\n",
              "        vertical-align: middle;\n",
              "    }\n",
              "\n",
              "    .dataframe tbody tr th {\n",
              "        vertical-align: top;\n",
              "    }\n",
              "\n",
              "    .dataframe thead tr th {\n",
              "        text-align: left;\n",
              "    }\n",
              "\n",
              "    .dataframe thead tr:last-of-type th {\n",
              "        text-align: right;\n",
              "    }\n",
              "</style>\n",
              "<table border=\"1\" class=\"dataframe\">\n",
              "  <thead>\n",
              "    <tr>\n",
              "      <th></th>\n",
              "      <th colspan=\"8\" halign=\"left\">product1</th>\n",
              "      <th colspan=\"8\" halign=\"left\">product2</th>\n",
              "    </tr>\n",
              "    <tr>\n",
              "      <th></th>\n",
              "      <th>count</th>\n",
              "      <th>mean</th>\n",
              "      <th>std</th>\n",
              "      <th>min</th>\n",
              "      <th>25%</th>\n",
              "      <th>50%</th>\n",
              "      <th>75%</th>\n",
              "      <th>max</th>\n",
              "      <th>count</th>\n",
              "      <th>mean</th>\n",
              "      <th>std</th>\n",
              "      <th>min</th>\n",
              "      <th>25%</th>\n",
              "      <th>50%</th>\n",
              "      <th>75%</th>\n",
              "      <th>max</th>\n",
              "    </tr>\n",
              "    <tr>\n",
              "      <th>Customer</th>\n",
              "      <th></th>\n",
              "      <th></th>\n",
              "      <th></th>\n",
              "      <th></th>\n",
              "      <th></th>\n",
              "      <th></th>\n",
              "      <th></th>\n",
              "      <th></th>\n",
              "      <th></th>\n",
              "      <th></th>\n",
              "      <th></th>\n",
              "      <th></th>\n",
              "      <th></th>\n",
              "      <th></th>\n",
              "      <th></th>\n",
              "      <th></th>\n",
              "    </tr>\n",
              "  </thead>\n",
              "  <tbody>\n",
              "    <tr>\n",
              "      <th>customer1</th>\n",
              "      <td>2.0</td>\n",
              "      <td>1.15</td>\n",
              "      <td>0.212132</td>\n",
              "      <td>1.0</td>\n",
              "      <td>1.075</td>\n",
              "      <td>1.15</td>\n",
              "      <td>1.225</td>\n",
              "      <td>1.3</td>\n",
              "      <td>2.0</td>\n",
              "      <td>4.00</td>\n",
              "      <td>2.262742</td>\n",
              "      <td>2.4</td>\n",
              "      <td>3.200</td>\n",
              "      <td>4.00</td>\n",
              "      <td>4.800</td>\n",
              "      <td>5.6</td>\n",
              "    </tr>\n",
              "    <tr>\n",
              "      <th>customer2</th>\n",
              "      <td>2.0</td>\n",
              "      <td>3.20</td>\n",
              "      <td>1.272792</td>\n",
              "      <td>2.3</td>\n",
              "      <td>2.750</td>\n",
              "      <td>3.20</td>\n",
              "      <td>3.650</td>\n",
              "      <td>4.1</td>\n",
              "      <td>2.0</td>\n",
              "      <td>3.80</td>\n",
              "      <td>2.404163</td>\n",
              "      <td>2.1</td>\n",
              "      <td>2.950</td>\n",
              "      <td>3.80</td>\n",
              "      <td>4.650</td>\n",
              "      <td>5.5</td>\n",
              "    </tr>\n",
              "    <tr>\n",
              "      <th>customer3</th>\n",
              "      <td>2.0</td>\n",
              "      <td>2.85</td>\n",
              "      <td>0.494975</td>\n",
              "      <td>2.5</td>\n",
              "      <td>2.675</td>\n",
              "      <td>2.85</td>\n",
              "      <td>3.025</td>\n",
              "      <td>3.2</td>\n",
              "      <td>2.0</td>\n",
              "      <td>5.05</td>\n",
              "      <td>2.616295</td>\n",
              "      <td>3.2</td>\n",
              "      <td>4.125</td>\n",
              "      <td>5.05</td>\n",
              "      <td>5.975</td>\n",
              "      <td>6.9</td>\n",
              "    </tr>\n",
              "  </tbody>\n",
              "</table>\n",
              "</div>"
            ],
            "text/plain": [
              "          product1                              ... product2                         \n",
              "             count  mean       std  min    25%  ...      min    25%   50%    75%  max\n",
              "Customer                                        ...                                  \n",
              "customer1      2.0  1.15  0.212132  1.0  1.075  ...      2.4  3.200  4.00  4.800  5.6\n",
              "customer2      2.0  3.20  1.272792  2.3  2.750  ...      2.1  2.950  3.80  4.650  5.5\n",
              "customer3      2.0  2.85  0.494975  2.5  2.675  ...      3.2  4.125  5.05  5.975  6.9\n",
              "\n",
              "[3 rows x 16 columns]"
            ]
          },
          "metadata": {
            "tags": []
          },
          "execution_count": 46
        }
      ]
    },
    {
      "cell_type": "code",
      "metadata": {
        "colab": {
          "base_uri": "https://localhost:8080/",
          "height": 175
        },
        "id": "F2-KMP7y4c-M",
        "outputId": "f6f60a63-69ec-49ea-e477-e17e975de839"
      },
      "source": [
        "grouped_data.mean()"
      ],
      "execution_count": null,
      "outputs": [
        {
          "output_type": "execute_result",
          "data": {
            "text/html": [
              "<div>\n",
              "<style scoped>\n",
              "    .dataframe tbody tr th:only-of-type {\n",
              "        vertical-align: middle;\n",
              "    }\n",
              "\n",
              "    .dataframe tbody tr th {\n",
              "        vertical-align: top;\n",
              "    }\n",
              "\n",
              "    .dataframe thead th {\n",
              "        text-align: right;\n",
              "    }\n",
              "</style>\n",
              "<table border=\"1\" class=\"dataframe\">\n",
              "  <thead>\n",
              "    <tr style=\"text-align: right;\">\n",
              "      <th></th>\n",
              "      <th>product1</th>\n",
              "      <th>product2</th>\n",
              "    </tr>\n",
              "    <tr>\n",
              "      <th>Customer</th>\n",
              "      <th></th>\n",
              "      <th></th>\n",
              "    </tr>\n",
              "  </thead>\n",
              "  <tbody>\n",
              "    <tr>\n",
              "      <th>customer1</th>\n",
              "      <td>1.15</td>\n",
              "      <td>4.00</td>\n",
              "    </tr>\n",
              "    <tr>\n",
              "      <th>customer2</th>\n",
              "      <td>3.20</td>\n",
              "      <td>3.80</td>\n",
              "    </tr>\n",
              "    <tr>\n",
              "      <th>customer3</th>\n",
              "      <td>2.85</td>\n",
              "      <td>5.05</td>\n",
              "    </tr>\n",
              "  </tbody>\n",
              "</table>\n",
              "</div>"
            ],
            "text/plain": [
              "           product1  product2\n",
              "Customer                     \n",
              "customer1      1.15      4.00\n",
              "customer2      3.20      3.80\n",
              "customer3      2.85      5.05"
            ]
          },
          "metadata": {
            "tags": []
          },
          "execution_count": 47
        }
      ]
    },
    {
      "cell_type": "code",
      "metadata": {
        "colab": {
          "base_uri": "https://localhost:8080/",
          "height": 175
        },
        "id": "R-TmMeDm5QcT",
        "outputId": "6d521f77-9c4d-4be0-b52a-47d3d74aaab0"
      },
      "source": [
        "df8"
      ],
      "execution_count": null,
      "outputs": [
        {
          "output_type": "execute_result",
          "data": {
            "text/html": [
              "<div>\n",
              "<style scoped>\n",
              "    .dataframe tbody tr th:only-of-type {\n",
              "        vertical-align: middle;\n",
              "    }\n",
              "\n",
              "    .dataframe tbody tr th {\n",
              "        vertical-align: top;\n",
              "    }\n",
              "\n",
              "    .dataframe thead th {\n",
              "        text-align: right;\n",
              "    }\n",
              "</style>\n",
              "<table border=\"1\" class=\"dataframe\">\n",
              "  <thead>\n",
              "    <tr style=\"text-align: right;\">\n",
              "      <th></th>\n",
              "      <th>customer</th>\n",
              "      <th>dist</th>\n",
              "      <th>sales</th>\n",
              "    </tr>\n",
              "  </thead>\n",
              "  <tbody>\n",
              "    <tr>\n",
              "      <th>4</th>\n",
              "      <td>1</td>\n",
              "      <td>10</td>\n",
              "      <td>110</td>\n",
              "    </tr>\n",
              "    <tr>\n",
              "      <th>7</th>\n",
              "      <td>5</td>\n",
              "      <td>15</td>\n",
              "      <td>810</td>\n",
              "    </tr>\n",
              "    <tr>\n",
              "      <th>6</th>\n",
              "      <td>4</td>\n",
              "      <td>20</td>\n",
              "      <td>190</td>\n",
              "    </tr>\n",
              "    <tr>\n",
              "      <th>5</th>\n",
              "      <td>3</td>\n",
              "      <td>50</td>\n",
              "      <td>215</td>\n",
              "    </tr>\n",
              "  </tbody>\n",
              "</table>\n",
              "</div>"
            ],
            "text/plain": [
              "   customer  dist  sales\n",
              "4         1    10    110\n",
              "7         5    15    810\n",
              "6         4    20    190\n",
              "5         3    50    215"
            ]
          },
          "metadata": {
            "tags": []
          },
          "execution_count": 48
        }
      ]
    },
    {
      "cell_type": "code",
      "metadata": {
        "id": "GVENh_UA5Ts0"
      },
      "source": [
        "df8.to_csv('sample1.csv',index=True);"
      ],
      "execution_count": null,
      "outputs": []
    },
    {
      "cell_type": "code",
      "metadata": {
        "colab": {
          "base_uri": "https://localhost:8080/",
          "height": 175
        },
        "id": "7UE0R90b6KFU",
        "outputId": "fbefd518-aaed-4997-fd14-b4c1c0e5fff8"
      },
      "source": [
        "new_df8 = pd.read_csv('sample1.csv',index_col=0);\n",
        "new_df8"
      ],
      "execution_count": null,
      "outputs": [
        {
          "output_type": "execute_result",
          "data": {
            "text/html": [
              "<div>\n",
              "<style scoped>\n",
              "    .dataframe tbody tr th:only-of-type {\n",
              "        vertical-align: middle;\n",
              "    }\n",
              "\n",
              "    .dataframe tbody tr th {\n",
              "        vertical-align: top;\n",
              "    }\n",
              "\n",
              "    .dataframe thead th {\n",
              "        text-align: right;\n",
              "    }\n",
              "</style>\n",
              "<table border=\"1\" class=\"dataframe\">\n",
              "  <thead>\n",
              "    <tr style=\"text-align: right;\">\n",
              "      <th></th>\n",
              "      <th>customer</th>\n",
              "      <th>dist</th>\n",
              "      <th>sales</th>\n",
              "    </tr>\n",
              "  </thead>\n",
              "  <tbody>\n",
              "    <tr>\n",
              "      <th>4</th>\n",
              "      <td>1</td>\n",
              "      <td>10</td>\n",
              "      <td>110</td>\n",
              "    </tr>\n",
              "    <tr>\n",
              "      <th>7</th>\n",
              "      <td>5</td>\n",
              "      <td>15</td>\n",
              "      <td>810</td>\n",
              "    </tr>\n",
              "    <tr>\n",
              "      <th>6</th>\n",
              "      <td>4</td>\n",
              "      <td>20</td>\n",
              "      <td>190</td>\n",
              "    </tr>\n",
              "    <tr>\n",
              "      <th>5</th>\n",
              "      <td>3</td>\n",
              "      <td>50</td>\n",
              "      <td>215</td>\n",
              "    </tr>\n",
              "  </tbody>\n",
              "</table>\n",
              "</div>"
            ],
            "text/plain": [
              "   customer  dist  sales\n",
              "4         1    10    110\n",
              "7         5    15    810\n",
              "6         4    20    190\n",
              "5         3    50    215"
            ]
          },
          "metadata": {
            "tags": []
          },
          "execution_count": 51
        }
      ]
    },
    {
      "cell_type": "code",
      "metadata": {
        "id": "qG5oYEIv7aGn"
      },
      "source": [
        "df8.to_excel('samp.xlsx',index=False,sheet_name=\"first sheet\" )"
      ],
      "execution_count": null,
      "outputs": []
    }
  ]
}