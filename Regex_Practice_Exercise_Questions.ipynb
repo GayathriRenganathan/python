{
  "nbformat": 4,
  "nbformat_minor": 0,
  "metadata": {
    "kernelspec": {
      "display_name": "Python 3",
      "language": "python",
      "name": "python3"
    },
    "language_info": {
      "codemirror_mode": {
        "name": "ipython",
        "version": 3
      },
      "file_extension": ".py",
      "mimetype": "text/x-python",
      "name": "python",
      "nbconvert_exporter": "python",
      "pygments_lexer": "ipython3",
      "version": "3.7.4"
    },
    "colab": {
      "provenance": []
    }
  },
  "cells": [
    {
      "cell_type": "markdown",
      "metadata": {
        "id": "S1GIkTAJuIz1"
      },
      "source": [
        "### Regular Expression Practice Exercise"
      ]
    },
    {
      "cell_type": "markdown",
      "metadata": {
        "id": "ABxFxgA6uIz4"
      },
      "source": [
        "This excersie will use `''.join()` function of python\n",
        "\n",
        "What join does is, it combines the elements of a list or tuple with a common separator\n",
        "\n",
        "To be able to use finditer, we need to pass a string. We use the join function to achieve that."
      ]
    },
    {
      "cell_type": "code",
      "metadata": {
        "colab": {
          "base_uri": "https://localhost:8080/"
        },
        "id": "wzoxi7n-uIz6",
        "outputId": "d23bfa1b-8a94-43cc-e413-9163077141e3"
      },
      "source": [
        "# Example of join Functions\n",
        "a = ['This','Is','it','Also','Mine','Whatever']\n",
        "\n",
        "print(\"Joining element of 'a' using ' | ' as separator\")\n",
        "print(\" | \".join(a))\n",
        "print()\n",
        "print(\"Joining element of 'a' using ', ' as separator\")\n",
        "print(\", \".join(a))\n",
        "print()\n",
        "print(\"Joining element of 'a' without a separator\")\n",
        "print(\"\".join(a))\n",
        "print()\n",
        "print(\"Joining element of 'a' using '||' as separator\")\n",
        "print(\"||\".join(a))\n",
        "print()\n"
      ],
      "execution_count": null,
      "outputs": [
        {
          "output_type": "stream",
          "text": [
            "Joining element of 'a' using ' | ' as separator\n",
            "This | Is | it | Also | Mine | Whatever\n",
            "\n",
            "Joining element of 'a' using ', ' as separator\n",
            "This, Is, it, Also, Mine, Whatever\n",
            "\n",
            "Joining element of 'a' without a separator\n",
            "ThisIsitAlsoMineWhatever\n",
            "\n",
            "Joining element of 'a' using '||' as separator\n",
            "This||Is||it||Also||Mine||Whatever\n",
            "\n"
          ],
          "name": "stdout"
        }
      ]
    },
    {
      "cell_type": "markdown",
      "metadata": {
        "id": "9D1hfmQQuIz9"
      },
      "source": [
        "`It can be used for a column of a dataframe as well`"
      ]
    },
    {
      "cell_type": "markdown",
      "metadata": {
        "id": "VrTNu6WzuIz-"
      },
      "source": [
        "#### Import the random email data file"
      ]
    },
    {
      "cell_type": "code",
      "metadata": {
        "id": "dXyjclQGwQFk"
      },
      "source": [
        "import pandas as pd;\n",
        "import re;"
      ],
      "execution_count": null,
      "outputs": []
    },
    {
      "cell_type": "code",
      "metadata": {
        "id": "SdmqVG5euIz_"
      },
      "source": [
        "from google.colab import drive\n",
        "drive.mount('/content/drive', force_remount = True);"
      ],
      "execution_count": null,
      "outputs": []
    },
    {
      "cell_type": "code",
      "metadata": {
        "colab": {
          "resources": {
            "http://localhost:8080/nbextensions/google.colab/files.js": {
              "data": "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",
              "ok": true,
              "headers": [
                [
                  "content-type",
                  "application/javascript"
                ]
              ],
              "status": 200,
              "status_text": ""
            }
          },
          "base_uri": "https://localhost:8080/",
          "height": 73
        },
        "id": "gbLr40LOv-Cg",
        "outputId": "b0c9c62f-d34e-472e-c19d-ff8d6ec08bee"
      },
      "source": [
        "from google.colab import files;\n",
        "data = files.upload()"
      ],
      "execution_count": null,
      "outputs": [
        {
          "output_type": "display_data",
          "data": {
            "text/html": [
              "\n",
              "     <input type=\"file\" id=\"files-f5af89f8-ef26-4b8d-b3cc-71a826886a7f\" name=\"files[]\" multiple disabled\n",
              "        style=\"border:none\" />\n",
              "     <output id=\"result-f5af89f8-ef26-4b8d-b3cc-71a826886a7f\">\n",
              "      Upload widget is only available when the cell has been executed in the\n",
              "      current browser session. Please rerun this cell to enable.\n",
              "      </output>\n",
              "      <script src=\"/nbextensions/google.colab/files.js\"></script> "
            ],
            "text/plain": [
              "<IPython.core.display.HTML object>"
            ]
          },
          "metadata": {
            "tags": []
          }
        },
        {
          "output_type": "stream",
          "text": [
            "Saving Random Email Dataset.csv to Random Email Dataset.csv\n"
          ],
          "name": "stdout"
        }
      ]
    },
    {
      "cell_type": "code",
      "metadata": {
        "id": "f6vUOaodwINe"
      },
      "source": [
        "import io;\n",
        "regex = pd.read_csv(io.BytesIO(data['Random Email Dataset.csv']), index_col=0);"
      ],
      "execution_count": null,
      "outputs": []
    },
    {
      "cell_type": "markdown",
      "metadata": {
        "id": "fXdEX2dPuI0A"
      },
      "source": [
        "#### Display the Email ids"
      ]
    },
    {
      "cell_type": "code",
      "metadata": {
        "scrolled": true,
        "colab": {
          "base_uri": "https://localhost:8080/"
        },
        "id": "QqY4ZvZFuI0B",
        "outputId": "217cf53c-871e-4d75-ed6d-150c5fbcedff"
      },
      "source": [
        "regex.head();\n",
        "regex['Email Address']\n"
      ],
      "execution_count": null,
      "outputs": [
        {
          "output_type": "execute_result",
          "data": {
            "text/plain": [
              "Id\n",
              "138             mnmwuhasdwqweqw\n",
              "141         cynvhupf@gamail.com\n",
              "155         doznfpxy@gamail.com\n",
              "156           ufpgolgelastqxaoi\n",
              "160    rdvafvkummnuj@yahooo.com\n",
              "                 ...           \n",
              "985         ptvqlffe@gamail.com\n",
              "989         lzcrsiuo@gamail.com\n",
              "991         iydthkxz@gamail.com\n",
              "992           mpmwehcnjjntjvfnl\n",
              "999      mphibnuxgtr@yahooo.com\n",
              "Name: Email Address, Length: 170, dtype: object"
            ]
          },
          "metadata": {
            "tags": []
          },
          "execution_count": 19
        }
      ]
    },
    {
      "cell_type": "markdown",
      "metadata": {
        "id": "YAY3IkoRuI0B"
      },
      "source": [
        "#### FInd the number of gamail email Ids (ending with @gamail.com)"
      ]
    },
    {
      "cell_type": "code",
      "metadata": {
        "colab": {
          "base_uri": "https://localhost:8080/"
        },
        "id": "2h52BRnDuI0C",
        "outputId": "2977e801-7e76-452a-9692-20d82f2a3aa5"
      },
      "source": [
        "email = re.compile(r'[a-zA-z0-9._]+@gamail\\.com\\b')\n",
        "matches = email.finditer(\" \".join(regex['Email Address']));\n",
        "counter = 0;\n",
        "for mat in matches:\n",
        "  #print(mat);\n",
        "  counter = counter+1;\n",
        "\n",
        "print(counter)"
      ],
      "execution_count": null,
      "outputs": [
        {
          "output_type": "stream",
          "text": [
            "100\n"
          ],
          "name": "stdout"
        }
      ]
    },
    {
      "cell_type": "code",
      "metadata": {
        "id": "JRsWQuqquI0C"
      },
      "source": [],
      "execution_count": null,
      "outputs": []
    },
    {
      "cell_type": "markdown",
      "metadata": {
        "id": "YENNhMsKuI0D"
      },
      "source": [
        "#### Find the number of yahooo email Ids (ending with @yahooo.com)"
      ]
    },
    {
      "cell_type": "code",
      "metadata": {
        "colab": {
          "base_uri": "https://localhost:8080/"
        },
        "id": "CgDZZ5mPuI0D",
        "outputId": "4d58c229-1951-48a1-f166-1ed7db56ed60"
      },
      "source": [
        "YahooEmail = re.compile(r'[a-zA-z0-9._]+@yahooo\\.com\\b')\n",
        "matches = YahooEmail.finditer(\" \".join(regex['Email Address']));\n",
        "counter = 0;\n",
        "for mat in matches:\n",
        "  #print(mat);\n",
        "  counter += 1;\n",
        "\n",
        "print(counter);"
      ],
      "execution_count": null,
      "outputs": [
        {
          "output_type": "stream",
          "text": [
            "30\n"
          ],
          "name": "stdout"
        }
      ]
    },
    {
      "cell_type": "markdown",
      "metadata": {
        "id": "EjyvggusuI0E"
      },
      "source": [
        "#### Find the number of entries that are not email ids (consider the entries that do not have a @ and a .com/.in/.org in them)"
      ]
    },
    {
      "cell_type": "code",
      "metadata": {
        "colab": {
          "base_uri": "https://localhost:8080/",
          "height": 73
        },
        "id": "NbragDaD2EQK",
        "outputId": "418ee37c-fa00-472a-9b28-b4e041f2199b"
      },
      "source": [
        "mailAdd = \" \".join(regex['Email Address']);\n",
        "print(mailAdd);\n",
        "mailAdd[2460:2480]"
      ],
      "execution_count": null,
      "outputs": [
        {
          "output_type": "stream",
          "text": [
            "mnmwuhasdwqweqw cynvhupf@gamail.com doznfpxy@gamail.com ufpgolgelastqxaoi rdvafvkummnuj@yahooo.com rvkwwlntnchl@yahooo.com hrgsyomuf@gamail.com spiltjsn@yahooo.com mtrhitjlqw@gamail.com oerdomqxcb@gamail.com ojsasdweeewq jasdwweeeq gilmivlrwnfbss@yahooo.com anuaackiokhac@yahooo.com roclrzpyjf@gamail.com ahsjitbw@gamail.com iupwkgasdweqeew natzhmxfx@gamail.com ungxqtzk@gamail.com fbdvsxmz@gamail.com dfhjmsfwzo@gamail.com fctkqhbr@yahooo.com rmykhpek@gamail.com bkrfsjbxa@gamail.com rvekpvpupelcp cetxcilthi@gamail.com fdwtktzb@gamail.com cigudlhqgo@yahooo.com gasdeqeqwe yhgsbbuwi@gamail.com axnnkyzfw@gamail.com mfnuidsdkv@gamail.com kmqukhckbhk@yahooo.com bwfasdeqwqww sidhmibmc@gamail.com hajdffrjjt@gamail.com xpkgzqlonx@gamail.com vfbudpenpu@gamail.com larmsherg@gamail.com chfbukyfq@gamail.com riaotsnqb@yahooo.com ufhkwbpawf@gamail.com immznovrvt@gamail.com uuvjkmvyz@gamail.com ikxzclcijp@gamail.com coxkbauib@gamail.com epuaniefyc@gamail.com udqxrdnm@yahooo.com nuguxfaxahhv yjsrgtbkrc@gamail.com ajoxctasdwweeqe giiempwyyb@gamail.com qdvwzbhkei@gamail.com okkasdewqeew okryynvaa@gamail.com vcywoyuf@gamail.com qluwgvwiahgr tbraplsn@gamail.com lrxxvidjc@gamail.com jbgpfqchyr@gamail.com hnublhpdl@gamail.com crrflbgh@gamail.com xxhpreasdqeqwww cqdwbnfkpd@yahooo.com brkvboow@gamail.com kvucccrmersslpxove szpxrjagut@gamail.com awgzgumb@gamail.com ckkvrefqd@yahooo.com cseccgfneb@gamail.com sruptmen@gamail.com yvhhukjn@gamail.com elnhgwcbyv@gamail.com kjnjlcxwti@yahooo.com sviqhylb@gamail.com jqmadasdqwqwww yadbsvwvg@gamail.com aaorvyysxf@gamail.com xjmgparcc@gamail.com ywcqscai@gamail.com oxoqdxpgn@yahooo.com ehzuneriqo@gamail.com pqwmeexn@gamail.com xukonboq@gamail.com dasdwqqwww rbaphprlucgmjux amtwzsir@gamail.com aphoiajgtwxk@yahooo.com umxsdasdqwqeqq udfdqqwr@gamail.com kgbxxhcg@gamail.com rvymiywr@gamail.com gucwwzsvna@gamail.com fetsvhueis@yahooo.com vyhryvdws@gamail.com xduplvccf@gamail.com zaulskbal@gamail.com zzoincwqj@gamail.com gjltjnzveh@gamail.com ncxasdeqwwwe erbddjgrbovpts@yahooo.com ctkchmorojwug dmwzaxraky@gamail.com lcprqplxuvmh pkgiyzzek@gamail.com bettkasdqwwqew xioqnlwvexjfhwi axxcclugn@gamail.com axjwgwrebraowmxkq pngkfuyi@gamail.com jwgpyftju@gamail.com endklheyf@gamail.com xaygsobmj@gamail.com hvadllcan@gamail.com hasdwqeqwe kjwhthatehggl sjchuisi@gamail.com quomwvasdqwewwe mavxmlrofooa@yahooo.com essrtfudqedpca knyxtuhiky@gamail.com txjtmqrpcucjq@yahooo.com cvayqkmvp@gamail.com wsekosltxcflae@yahooo.com wlkshtyo@gamail.com ciaswdupft@gamail.com txbmspprkbwintgh omgvtomjuujltvimfxqq easgapxwumww@yahooo.com sxflxpnlbpmkpxik ksjaxtoouvadaehfooir dtphkuwur@gamail.com rhmasdqeeqwq rfcgbxvpa@gamail.com dwqehbqgmhsrqv@yahooo.com bvvgtffhqenutfqkt jxdwlnmo@gamail.com zkpccwuyxg@gamail.com scrissrlgofe@yahooo.com dcvqqlgeds@gamail.com ztvuqejs@gamail.com vycrqymksj@gamail.com umivtwugly@gamail.com dfzlhbnqgn@gamail.com jzftqqmsgg@gamail.com pdinqfvjkmtoutpe wlugzyqlho@gamail.com ubacaqudlmkkeiivjhrh gqjiromffb@gamail.com tingcagmlqe@yahooo.com dkhofbftkpelo@yahooo.com lzsfpjtao@gamail.com zebnwcxgyr@gamail.com bexgeucdsh@yahooo.com gxsasdeqqeqw muxckttvbpl@yahooo.com ewjrfvifdmcj@yahooo.com pkasdeweqew bjbkdhrbpru@yahooo.com yjxvtmpu@gamail.com qplgeulsca@gamail.com gqlksquxy@gamail.com mryphjpzmy@gamail.com zibibnujl@gamail.com iowkasdweqwqw ptvqlffe@gamail.com lzcrsiuo@gamail.com iydthkxz@gamail.com mpmwehcnjjntjvfnl mphibnuxgtr@yahooo.com\n"
          ],
          "name": "stdout"
        },
        {
          "output_type": "execute_result",
          "data": {
            "application/vnd.google.colaboratory.intrinsic+json": {
              "type": "string"
            },
            "text/plain": [
              "' wlkshtyo@gamail.com'"
            ]
          },
          "metadata": {
            "tags": []
          },
          "execution_count": 41
        }
      ]
    },
    {
      "cell_type": "code",
      "metadata": {
        "colab": {
          "base_uri": "https://localhost:8080/"
        },
        "id": "8gHd00j3uI0F",
        "outputId": "85b51b0d-95c2-465e-bf61-2234c0206b3c"
      },
      "source": [
        "email_col = regex['Email Address'];\n",
        "emailAdd = re.compile(r'[a-zA-z0-9._]+@[a-zA-Z]+\\.com\\b')\n",
        "matches = emailAdd.finditer(\" \".join(regex['Email Address']));\n",
        "counter = 0;\n",
        "for mat in matches:\n",
        "  #print(mat);\n",
        "  counter += 1;\n",
        "\n",
        "print(counter);\n",
        "print('non email entries',len(email_col)-counter)"
      ],
      "execution_count": null,
      "outputs": [
        {
          "output_type": "stream",
          "text": [
            "130\n",
            "non email entries 40\n"
          ],
          "name": "stdout"
        }
      ]
    },
    {
      "cell_type": "markdown",
      "metadata": {
        "id": "VRRSissGuI0G"
      },
      "source": [
        "#### find the total entries that have the pattern 'asd' in them"
      ]
    },
    {
      "cell_type": "code",
      "metadata": {
        "colab": {
          "base_uri": "https://localhost:8080/"
        },
        "id": "LqZujIccuI0H",
        "outputId": "c169709c-9300-4eaf-ba7f-88261aa61618"
      },
      "source": [
        "pattern1 = re.compile(r'asd')\n",
        "matches = pattern1.finditer(\" \".join(regex['Email Address']));\n",
        "counter = 0;\n",
        "for mat in matches:\n",
        "  #print(mat);\n",
        "  counter += 1;\n",
        "\n",
        "print(counter);"
      ],
      "execution_count": null,
      "outputs": [
        {
          "output_type": "stream",
          "text": [
            "20\n"
          ],
          "name": "stdout"
        }
      ]
    },
    {
      "cell_type": "markdown",
      "metadata": {
        "id": "noEm8PksuI0I"
      },
      "source": [
        "#### find the number of email Ids that start with k"
      ]
    },
    {
      "cell_type": "code",
      "metadata": {
        "colab": {
          "base_uri": "https://localhost:8080/"
        },
        "id": "0I8jlI6XuI0J",
        "outputId": "121bb168-f6d3-4021-8942-3e37710dc757"
      },
      "source": [
        "emailAdd = re.compile(r'\\bk[a-zA-z0-9._]*@[a-zA-Z]+\\.com\\b')\n",
        "matches = emailAdd.finditer(\" \".join(regex['Email Address']));\n",
        "counter = 0;\n",
        "for mat in matches:\n",
        "  #print(mat);\n",
        "  counter += 1;\n",
        "\n",
        "print(counter);"
      ],
      "execution_count": null,
      "outputs": [
        {
          "output_type": "stream",
          "text": [
            "4\n"
          ],
          "name": "stdout"
        }
      ]
    }
  ]
}