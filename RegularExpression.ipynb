{
  "nbformat": 4,
  "nbformat_minor": 0,
  "metadata": {
    "colab": {
      "provenance": []
    },
    "kernelspec": {
      "name": "python3",
      "display_name": "Python 3"
    },
    "language_info": {
      "name": "python"
    }
  },
  "cells": [
    {
      "cell_type": "markdown",
      "metadata": {
        "id": "nJO5mV_N8yGP"
      },
      "source": [
        "\n",
        "Regular Expression\n",
        "---\n",
        "It is used for searching a pattern in a string Text.\n",
        "\n",
        "Regular Expressions are case-sensitive and order-sensitive."
      ]
    },
    {
      "cell_type": "code",
      "metadata": {
        "id": "JnVZCrcM8v_Y"
      },
      "source": [
        "import re;\n",
        "\n",
        "text = '''\n",
        "abcdefghijklmnopqrstuvwxyz\n",
        "ABCDEFGHIJKLMNOPQRSTUVWXYZ\n",
        "0123456789\n",
        "123abc\n",
        "\n",
        "Hello HelloHello\n",
        "\n",
        "Metacharacters to be escaped :\n",
        "\n",
        ". ^ $ \\ * + ? [ ] { } |\n",
        "\n",
        "utexas.edu\n",
        "\n",
        "980-680-3220\n",
        "980.680.3787\n",
        "\n",
        "daniel.mitchel@utexus.edu\n",
        "Mr. John\n",
        "Mr. Dimple\n",
        "Mr Bing\n",
        "Mrs. Dane\n",
        "Mr. T\n",
        "\n",
        "'''"
      ],
      "execution_count": null,
      "outputs": []
    },
    {
      "cell_type": "code",
      "metadata": {
        "id": "POdEi4od9ccd"
      },
      "source": [
        "# we are searching abc. r - represents the following string as a raw string\n",
        "\n",
        "pattern = re.compile(r'abc');"
      ],
      "execution_count": null,
      "outputs": []
    },
    {
      "cell_type": "code",
      "metadata": {
        "colab": {
          "base_uri": "https://localhost:8080/"
        },
        "id": "uU-fiXfk-HA4",
        "outputId": "444bfff5-08e1-4130-d945-c30ff66ef12d"
      },
      "source": [
        "matches = pattern.finditer(text);\n",
        "for mat in matches:\n",
        "  print(mat);"
      ],
      "execution_count": null,
      "outputs": [
        {
          "output_type": "stream",
          "text": [
            "<re.Match object; span=(1, 4), match='abc'>\n",
            "<re.Match object; span=(69, 72), match='abc'>\n"
          ],
          "name": "stdout"
        }
      ]
    },
    {
      "cell_type": "code",
      "metadata": {
        "colab": {
          "base_uri": "https://localhost:8080/"
        },
        "id": "hsn6GlKz_HGW",
        "outputId": "4f760e32-4434-4fc0-c7a5-9ec699269d56"
      },
      "source": [
        "print(text[1:4]);\n",
        "print(text[69:72]);"
      ],
      "execution_count": null,
      "outputs": [
        {
          "output_type": "stream",
          "text": [
            "abc\n",
            "abc\n"
          ],
          "name": "stdout"
        }
      ]
    },
    {
      "cell_type": "code",
      "metadata": {
        "colab": {
          "base_uri": "https://localhost:8080/"
        },
        "id": "VkKDEKsl_lfc",
        "outputId": "1a521857-4871-45b4-9295-ee4e88e30329"
      },
      "source": [
        "# dot is a special character which indicates any char other that new line\n",
        "pattern = re.compile(r'.');\n",
        "matches = pattern.finditer(text);\n",
        "for mat in matches:\n",
        "  print(mat);"
      ],
      "execution_count": null,
      "outputs": [
        {
          "output_type": "stream",
          "text": [
            "<re.Match object; span=(1, 2), match='a'>\n",
            "<re.Match object; span=(2, 3), match='b'>\n",
            "<re.Match object; span=(3, 4), match='c'>\n",
            "<re.Match object; span=(4, 5), match='d'>\n",
            "<re.Match object; span=(5, 6), match='e'>\n",
            "<re.Match object; span=(6, 7), match='f'>\n",
            "<re.Match object; span=(7, 8), match='g'>\n",
            "<re.Match object; span=(8, 9), match='h'>\n",
            "<re.Match object; span=(9, 10), match='i'>\n",
            "<re.Match object; span=(10, 11), match='j'>\n",
            "<re.Match object; span=(11, 12), match='k'>\n",
            "<re.Match object; span=(12, 13), match='l'>\n",
            "<re.Match object; span=(13, 14), match='m'>\n",
            "<re.Match object; span=(14, 15), match='n'>\n",
            "<re.Match object; span=(15, 16), match='o'>\n",
            "<re.Match object; span=(16, 17), match='p'>\n",
            "<re.Match object; span=(17, 18), match='q'>\n",
            "<re.Match object; span=(18, 19), match='r'>\n",
            "<re.Match object; span=(19, 20), match='s'>\n",
            "<re.Match object; span=(20, 21), match='t'>\n",
            "<re.Match object; span=(21, 22), match='u'>\n",
            "<re.Match object; span=(22, 23), match='v'>\n",
            "<re.Match object; span=(23, 24), match='w'>\n",
            "<re.Match object; span=(24, 25), match='x'>\n",
            "<re.Match object; span=(25, 26), match='y'>\n",
            "<re.Match object; span=(26, 27), match='z'>\n",
            "<re.Match object; span=(28, 29), match='A'>\n",
            "<re.Match object; span=(29, 30), match='B'>\n",
            "<re.Match object; span=(30, 31), match='C'>\n",
            "<re.Match object; span=(31, 32), match='D'>\n",
            "<re.Match object; span=(32, 33), match='E'>\n",
            "<re.Match object; span=(33, 34), match='F'>\n",
            "<re.Match object; span=(34, 35), match='G'>\n",
            "<re.Match object; span=(35, 36), match='H'>\n",
            "<re.Match object; span=(36, 37), match='I'>\n",
            "<re.Match object; span=(37, 38), match='J'>\n",
            "<re.Match object; span=(38, 39), match='K'>\n",
            "<re.Match object; span=(39, 40), match='L'>\n",
            "<re.Match object; span=(40, 41), match='M'>\n",
            "<re.Match object; span=(41, 42), match='N'>\n",
            "<re.Match object; span=(42, 43), match='O'>\n",
            "<re.Match object; span=(43, 44), match='P'>\n",
            "<re.Match object; span=(44, 45), match='Q'>\n",
            "<re.Match object; span=(45, 46), match='R'>\n",
            "<re.Match object; span=(46, 47), match='S'>\n",
            "<re.Match object; span=(47, 48), match='T'>\n",
            "<re.Match object; span=(48, 49), match='U'>\n",
            "<re.Match object; span=(49, 50), match='V'>\n",
            "<re.Match object; span=(50, 51), match='W'>\n",
            "<re.Match object; span=(51, 52), match='X'>\n",
            "<re.Match object; span=(52, 53), match='Y'>\n",
            "<re.Match object; span=(53, 54), match='Z'>\n",
            "<re.Match object; span=(55, 56), match='0'>\n",
            "<re.Match object; span=(56, 57), match='1'>\n",
            "<re.Match object; span=(57, 58), match='2'>\n",
            "<re.Match object; span=(58, 59), match='3'>\n",
            "<re.Match object; span=(59, 60), match='4'>\n",
            "<re.Match object; span=(60, 61), match='5'>\n",
            "<re.Match object; span=(61, 62), match='6'>\n",
            "<re.Match object; span=(62, 63), match='7'>\n",
            "<re.Match object; span=(63, 64), match='8'>\n",
            "<re.Match object; span=(64, 65), match='9'>\n",
            "<re.Match object; span=(66, 67), match='1'>\n",
            "<re.Match object; span=(67, 68), match='2'>\n",
            "<re.Match object; span=(68, 69), match='3'>\n",
            "<re.Match object; span=(69, 70), match='a'>\n",
            "<re.Match object; span=(70, 71), match='b'>\n",
            "<re.Match object; span=(71, 72), match='c'>\n",
            "<re.Match object; span=(74, 75), match='H'>\n",
            "<re.Match object; span=(75, 76), match='e'>\n",
            "<re.Match object; span=(76, 77), match='l'>\n",
            "<re.Match object; span=(77, 78), match='l'>\n",
            "<re.Match object; span=(78, 79), match='o'>\n",
            "<re.Match object; span=(79, 80), match=' '>\n",
            "<re.Match object; span=(80, 81), match='H'>\n",
            "<re.Match object; span=(81, 82), match='e'>\n",
            "<re.Match object; span=(82, 83), match='l'>\n",
            "<re.Match object; span=(83, 84), match='l'>\n",
            "<re.Match object; span=(84, 85), match='o'>\n",
            "<re.Match object; span=(85, 86), match='H'>\n",
            "<re.Match object; span=(86, 87), match='e'>\n",
            "<re.Match object; span=(87, 88), match='l'>\n",
            "<re.Match object; span=(88, 89), match='l'>\n",
            "<re.Match object; span=(89, 90), match='o'>\n",
            "<re.Match object; span=(92, 93), match='M'>\n",
            "<re.Match object; span=(93, 94), match='e'>\n",
            "<re.Match object; span=(94, 95), match='t'>\n",
            "<re.Match object; span=(95, 96), match='a'>\n",
            "<re.Match object; span=(96, 97), match='c'>\n",
            "<re.Match object; span=(97, 98), match='h'>\n",
            "<re.Match object; span=(98, 99), match='a'>\n",
            "<re.Match object; span=(99, 100), match='r'>\n",
            "<re.Match object; span=(100, 101), match='a'>\n",
            "<re.Match object; span=(101, 102), match='c'>\n",
            "<re.Match object; span=(102, 103), match='t'>\n",
            "<re.Match object; span=(103, 104), match='e'>\n",
            "<re.Match object; span=(104, 105), match='r'>\n",
            "<re.Match object; span=(105, 106), match='s'>\n",
            "<re.Match object; span=(106, 107), match=' '>\n",
            "<re.Match object; span=(107, 108), match='t'>\n",
            "<re.Match object; span=(108, 109), match='o'>\n",
            "<re.Match object; span=(109, 110), match=' '>\n",
            "<re.Match object; span=(110, 111), match='b'>\n",
            "<re.Match object; span=(111, 112), match='e'>\n",
            "<re.Match object; span=(112, 113), match=' '>\n",
            "<re.Match object; span=(113, 114), match='e'>\n",
            "<re.Match object; span=(114, 115), match='s'>\n",
            "<re.Match object; span=(115, 116), match='c'>\n",
            "<re.Match object; span=(116, 117), match='a'>\n",
            "<re.Match object; span=(117, 118), match='p'>\n",
            "<re.Match object; span=(118, 119), match='e'>\n",
            "<re.Match object; span=(119, 120), match='d'>\n",
            "<re.Match object; span=(120, 121), match=' '>\n",
            "<re.Match object; span=(121, 122), match=':'>\n",
            "<re.Match object; span=(124, 125), match='.'>\n",
            "<re.Match object; span=(125, 126), match=' '>\n",
            "<re.Match object; span=(126, 127), match='^'>\n",
            "<re.Match object; span=(127, 128), match=' '>\n",
            "<re.Match object; span=(128, 129), match='$'>\n",
            "<re.Match object; span=(129, 130), match=' '>\n",
            "<re.Match object; span=(130, 131), match='\\\\'>\n",
            "<re.Match object; span=(131, 132), match=' '>\n",
            "<re.Match object; span=(132, 133), match='*'>\n",
            "<re.Match object; span=(133, 134), match=' '>\n",
            "<re.Match object; span=(134, 135), match='+'>\n",
            "<re.Match object; span=(135, 136), match=' '>\n",
            "<re.Match object; span=(136, 137), match='?'>\n",
            "<re.Match object; span=(137, 138), match=' '>\n",
            "<re.Match object; span=(138, 139), match='['>\n",
            "<re.Match object; span=(139, 140), match=' '>\n",
            "<re.Match object; span=(140, 141), match=']'>\n",
            "<re.Match object; span=(141, 142), match=' '>\n",
            "<re.Match object; span=(142, 143), match='{'>\n",
            "<re.Match object; span=(143, 144), match=' '>\n",
            "<re.Match object; span=(144, 145), match='}'>\n",
            "<re.Match object; span=(145, 146), match=' '>\n",
            "<re.Match object; span=(146, 147), match='|'>\n",
            "<re.Match object; span=(149, 150), match='u'>\n",
            "<re.Match object; span=(150, 151), match='t'>\n",
            "<re.Match object; span=(151, 152), match='e'>\n",
            "<re.Match object; span=(152, 153), match='x'>\n",
            "<re.Match object; span=(153, 154), match='a'>\n",
            "<re.Match object; span=(154, 155), match='s'>\n",
            "<re.Match object; span=(155, 156), match='.'>\n",
            "<re.Match object; span=(156, 157), match='e'>\n",
            "<re.Match object; span=(157, 158), match='d'>\n",
            "<re.Match object; span=(158, 159), match='u'>\n",
            "<re.Match object; span=(159, 160), match=' '>\n",
            "<re.Match object; span=(162, 163), match='9'>\n",
            "<re.Match object; span=(163, 164), match='8'>\n",
            "<re.Match object; span=(164, 165), match='0'>\n",
            "<re.Match object; span=(165, 166), match='-'>\n",
            "<re.Match object; span=(166, 167), match='6'>\n",
            "<re.Match object; span=(167, 168), match='8'>\n",
            "<re.Match object; span=(168, 169), match='0'>\n",
            "<re.Match object; span=(169, 170), match='-'>\n",
            "<re.Match object; span=(170, 171), match='3'>\n",
            "<re.Match object; span=(171, 172), match='2'>\n",
            "<re.Match object; span=(172, 173), match='2'>\n",
            "<re.Match object; span=(173, 174), match='0'>\n",
            "<re.Match object; span=(175, 176), match='9'>\n",
            "<re.Match object; span=(176, 177), match='8'>\n",
            "<re.Match object; span=(177, 178), match='0'>\n",
            "<re.Match object; span=(178, 179), match='.'>\n",
            "<re.Match object; span=(179, 180), match='6'>\n",
            "<re.Match object; span=(180, 181), match='8'>\n",
            "<re.Match object; span=(181, 182), match='0'>\n",
            "<re.Match object; span=(182, 183), match='.'>\n",
            "<re.Match object; span=(183, 184), match='3'>\n",
            "<re.Match object; span=(184, 185), match='7'>\n",
            "<re.Match object; span=(185, 186), match='8'>\n",
            "<re.Match object; span=(186, 187), match='7'>\n",
            "<re.Match object; span=(189, 190), match='d'>\n",
            "<re.Match object; span=(190, 191), match='a'>\n",
            "<re.Match object; span=(191, 192), match='n'>\n",
            "<re.Match object; span=(192, 193), match='i'>\n",
            "<re.Match object; span=(193, 194), match='e'>\n",
            "<re.Match object; span=(194, 195), match='l'>\n",
            "<re.Match object; span=(195, 196), match='.'>\n",
            "<re.Match object; span=(196, 197), match='m'>\n",
            "<re.Match object; span=(197, 198), match='i'>\n",
            "<re.Match object; span=(198, 199), match='t'>\n",
            "<re.Match object; span=(199, 200), match='c'>\n",
            "<re.Match object; span=(200, 201), match='h'>\n",
            "<re.Match object; span=(201, 202), match='e'>\n",
            "<re.Match object; span=(202, 203), match='l'>\n",
            "<re.Match object; span=(203, 204), match='@'>\n",
            "<re.Match object; span=(204, 205), match='u'>\n",
            "<re.Match object; span=(205, 206), match='t'>\n",
            "<re.Match object; span=(206, 207), match='e'>\n",
            "<re.Match object; span=(207, 208), match='x'>\n",
            "<re.Match object; span=(208, 209), match='u'>\n",
            "<re.Match object; span=(209, 210), match='s'>\n",
            "<re.Match object; span=(210, 211), match='.'>\n",
            "<re.Match object; span=(211, 212), match='e'>\n",
            "<re.Match object; span=(212, 213), match='d'>\n",
            "<re.Match object; span=(213, 214), match='u'>\n",
            "<re.Match object; span=(215, 216), match='M'>\n",
            "<re.Match object; span=(216, 217), match='r'>\n",
            "<re.Match object; span=(217, 218), match='.'>\n",
            "<re.Match object; span=(218, 219), match='J'>\n",
            "<re.Match object; span=(219, 220), match='o'>\n",
            "<re.Match object; span=(220, 221), match='h'>\n",
            "<re.Match object; span=(221, 222), match='n'>\n",
            "<re.Match object; span=(223, 224), match='M'>\n",
            "<re.Match object; span=(224, 225), match='r'>\n",
            "<re.Match object; span=(225, 226), match='.'>\n",
            "<re.Match object; span=(226, 227), match='D'>\n",
            "<re.Match object; span=(227, 228), match='i'>\n",
            "<re.Match object; span=(228, 229), match='m'>\n",
            "<re.Match object; span=(229, 230), match='p'>\n",
            "<re.Match object; span=(230, 231), match='l'>\n",
            "<re.Match object; span=(231, 232), match='e'>\n",
            "<re.Match object; span=(233, 234), match='M'>\n",
            "<re.Match object; span=(234, 235), match='r'>\n",
            "<re.Match object; span=(235, 236), match='.'>\n",
            "<re.Match object; span=(236, 237), match='B'>\n",
            "<re.Match object; span=(237, 238), match='i'>\n",
            "<re.Match object; span=(238, 239), match='n'>\n",
            "<re.Match object; span=(239, 240), match='g'>\n"
          ],
          "name": "stdout"
        }
      ]
    },
    {
      "cell_type": "code",
      "metadata": {
        "colab": {
          "base_uri": "https://localhost:8080/"
        },
        "id": "YDFmJFPaAE9p",
        "outputId": "81c4689d-4fc6-4cde-cf65-5fad1eeadc9d"
      },
      "source": [
        "pattern = re.compile(r'\\.');\n",
        "matches = pattern.finditer(text);\n",
        "for mat in matches:\n",
        "  print(mat);"
      ],
      "execution_count": null,
      "outputs": [
        {
          "output_type": "stream",
          "text": [
            "<re.Match object; span=(124, 125), match='.'>\n",
            "<re.Match object; span=(155, 156), match='.'>\n",
            "<re.Match object; span=(178, 179), match='.'>\n",
            "<re.Match object; span=(182, 183), match='.'>\n",
            "<re.Match object; span=(195, 196), match='.'>\n",
            "<re.Match object; span=(210, 211), match='.'>\n",
            "<re.Match object; span=(217, 218), match='.'>\n",
            "<re.Match object; span=(225, 226), match='.'>\n",
            "<re.Match object; span=(235, 236), match='.'>\n"
          ],
          "name": "stdout"
        }
      ]
    },
    {
      "cell_type": "code",
      "metadata": {
        "colab": {
          "base_uri": "https://localhost:8080/"
        },
        "id": "iYd7HvBAAI9b",
        "outputId": "1b1a3f57-d89b-4757-f3a8-dde3540161de"
      },
      "source": [
        "# \\d - any Digit 0-9\n",
        "pattern = re.compile(r'\\d');\n",
        "matches = pattern.finditer(text);\n",
        "for mat in matches:\n",
        "  print(mat);"
      ],
      "execution_count": null,
      "outputs": [
        {
          "output_type": "stream",
          "text": [
            "<re.Match object; span=(55, 56), match='0'>\n",
            "<re.Match object; span=(56, 57), match='1'>\n",
            "<re.Match object; span=(57, 58), match='2'>\n",
            "<re.Match object; span=(58, 59), match='3'>\n",
            "<re.Match object; span=(59, 60), match='4'>\n",
            "<re.Match object; span=(60, 61), match='5'>\n",
            "<re.Match object; span=(61, 62), match='6'>\n",
            "<re.Match object; span=(62, 63), match='7'>\n",
            "<re.Match object; span=(63, 64), match='8'>\n",
            "<re.Match object; span=(64, 65), match='9'>\n",
            "<re.Match object; span=(66, 67), match='1'>\n",
            "<re.Match object; span=(67, 68), match='2'>\n",
            "<re.Match object; span=(68, 69), match='3'>\n",
            "<re.Match object; span=(162, 163), match='9'>\n",
            "<re.Match object; span=(163, 164), match='8'>\n",
            "<re.Match object; span=(164, 165), match='0'>\n",
            "<re.Match object; span=(166, 167), match='6'>\n",
            "<re.Match object; span=(167, 168), match='8'>\n",
            "<re.Match object; span=(168, 169), match='0'>\n",
            "<re.Match object; span=(170, 171), match='3'>\n",
            "<re.Match object; span=(171, 172), match='2'>\n",
            "<re.Match object; span=(172, 173), match='2'>\n",
            "<re.Match object; span=(173, 174), match='0'>\n",
            "<re.Match object; span=(175, 176), match='9'>\n",
            "<re.Match object; span=(176, 177), match='8'>\n",
            "<re.Match object; span=(177, 178), match='0'>\n",
            "<re.Match object; span=(179, 180), match='6'>\n",
            "<re.Match object; span=(180, 181), match='8'>\n",
            "<re.Match object; span=(181, 182), match='0'>\n",
            "<re.Match object; span=(183, 184), match='3'>\n",
            "<re.Match object; span=(184, 185), match='7'>\n",
            "<re.Match object; span=(185, 186), match='8'>\n",
            "<re.Match object; span=(186, 187), match='7'>\n"
          ],
          "name": "stdout"
        }
      ]
    },
    {
      "cell_type": "code",
      "metadata": {
        "colab": {
          "base_uri": "https://localhost:8080/"
        },
        "id": "dY2oonjQBWzr",
        "outputId": "e0e6ed92-2f73-4089-a78e-221ef91870dc"
      },
      "source": [
        "#\\D - Anything other than a digit\n",
        "pattern = re.compile(r'\\D');\n",
        "matches = pattern.finditer(text);\n",
        "for mat in matches:\n",
        "  print(mat);"
      ],
      "execution_count": null,
      "outputs": [
        {
          "output_type": "stream",
          "text": [
            "<re.Match object; span=(0, 1), match='\\n'>\n",
            "<re.Match object; span=(1, 2), match='a'>\n",
            "<re.Match object; span=(2, 3), match='b'>\n",
            "<re.Match object; span=(3, 4), match='c'>\n",
            "<re.Match object; span=(4, 5), match='d'>\n",
            "<re.Match object; span=(5, 6), match='e'>\n",
            "<re.Match object; span=(6, 7), match='f'>\n",
            "<re.Match object; span=(7, 8), match='g'>\n",
            "<re.Match object; span=(8, 9), match='h'>\n",
            "<re.Match object; span=(9, 10), match='i'>\n",
            "<re.Match object; span=(10, 11), match='j'>\n",
            "<re.Match object; span=(11, 12), match='k'>\n",
            "<re.Match object; span=(12, 13), match='l'>\n",
            "<re.Match object; span=(13, 14), match='m'>\n",
            "<re.Match object; span=(14, 15), match='n'>\n",
            "<re.Match object; span=(15, 16), match='o'>\n",
            "<re.Match object; span=(16, 17), match='p'>\n",
            "<re.Match object; span=(17, 18), match='q'>\n",
            "<re.Match object; span=(18, 19), match='r'>\n",
            "<re.Match object; span=(19, 20), match='s'>\n",
            "<re.Match object; span=(20, 21), match='t'>\n",
            "<re.Match object; span=(21, 22), match='u'>\n",
            "<re.Match object; span=(22, 23), match='v'>\n",
            "<re.Match object; span=(23, 24), match='w'>\n",
            "<re.Match object; span=(24, 25), match='x'>\n",
            "<re.Match object; span=(25, 26), match='y'>\n",
            "<re.Match object; span=(26, 27), match='z'>\n",
            "<re.Match object; span=(27, 28), match='\\n'>\n",
            "<re.Match object; span=(28, 29), match='A'>\n",
            "<re.Match object; span=(29, 30), match='B'>\n",
            "<re.Match object; span=(30, 31), match='C'>\n",
            "<re.Match object; span=(31, 32), match='D'>\n",
            "<re.Match object; span=(32, 33), match='E'>\n",
            "<re.Match object; span=(33, 34), match='F'>\n",
            "<re.Match object; span=(34, 35), match='G'>\n",
            "<re.Match object; span=(35, 36), match='H'>\n",
            "<re.Match object; span=(36, 37), match='I'>\n",
            "<re.Match object; span=(37, 38), match='J'>\n",
            "<re.Match object; span=(38, 39), match='K'>\n",
            "<re.Match object; span=(39, 40), match='L'>\n",
            "<re.Match object; span=(40, 41), match='M'>\n",
            "<re.Match object; span=(41, 42), match='N'>\n",
            "<re.Match object; span=(42, 43), match='O'>\n",
            "<re.Match object; span=(43, 44), match='P'>\n",
            "<re.Match object; span=(44, 45), match='Q'>\n",
            "<re.Match object; span=(45, 46), match='R'>\n",
            "<re.Match object; span=(46, 47), match='S'>\n",
            "<re.Match object; span=(47, 48), match='T'>\n",
            "<re.Match object; span=(48, 49), match='U'>\n",
            "<re.Match object; span=(49, 50), match='V'>\n",
            "<re.Match object; span=(50, 51), match='W'>\n",
            "<re.Match object; span=(51, 52), match='X'>\n",
            "<re.Match object; span=(52, 53), match='Y'>\n",
            "<re.Match object; span=(53, 54), match='Z'>\n",
            "<re.Match object; span=(54, 55), match='\\n'>\n",
            "<re.Match object; span=(65, 66), match='\\n'>\n",
            "<re.Match object; span=(69, 70), match='a'>\n",
            "<re.Match object; span=(70, 71), match='b'>\n",
            "<re.Match object; span=(71, 72), match='c'>\n",
            "<re.Match object; span=(72, 73), match='\\n'>\n",
            "<re.Match object; span=(73, 74), match='\\n'>\n",
            "<re.Match object; span=(74, 75), match='H'>\n",
            "<re.Match object; span=(75, 76), match='e'>\n",
            "<re.Match object; span=(76, 77), match='l'>\n",
            "<re.Match object; span=(77, 78), match='l'>\n",
            "<re.Match object; span=(78, 79), match='o'>\n",
            "<re.Match object; span=(79, 80), match=' '>\n",
            "<re.Match object; span=(80, 81), match='H'>\n",
            "<re.Match object; span=(81, 82), match='e'>\n",
            "<re.Match object; span=(82, 83), match='l'>\n",
            "<re.Match object; span=(83, 84), match='l'>\n",
            "<re.Match object; span=(84, 85), match='o'>\n",
            "<re.Match object; span=(85, 86), match='H'>\n",
            "<re.Match object; span=(86, 87), match='e'>\n",
            "<re.Match object; span=(87, 88), match='l'>\n",
            "<re.Match object; span=(88, 89), match='l'>\n",
            "<re.Match object; span=(89, 90), match='o'>\n",
            "<re.Match object; span=(90, 91), match='\\n'>\n",
            "<re.Match object; span=(91, 92), match='\\n'>\n",
            "<re.Match object; span=(92, 93), match='M'>\n",
            "<re.Match object; span=(93, 94), match='e'>\n",
            "<re.Match object; span=(94, 95), match='t'>\n",
            "<re.Match object; span=(95, 96), match='a'>\n",
            "<re.Match object; span=(96, 97), match='c'>\n",
            "<re.Match object; span=(97, 98), match='h'>\n",
            "<re.Match object; span=(98, 99), match='a'>\n",
            "<re.Match object; span=(99, 100), match='r'>\n",
            "<re.Match object; span=(100, 101), match='a'>\n",
            "<re.Match object; span=(101, 102), match='c'>\n",
            "<re.Match object; span=(102, 103), match='t'>\n",
            "<re.Match object; span=(103, 104), match='e'>\n",
            "<re.Match object; span=(104, 105), match='r'>\n",
            "<re.Match object; span=(105, 106), match='s'>\n",
            "<re.Match object; span=(106, 107), match=' '>\n",
            "<re.Match object; span=(107, 108), match='t'>\n",
            "<re.Match object; span=(108, 109), match='o'>\n",
            "<re.Match object; span=(109, 110), match=' '>\n",
            "<re.Match object; span=(110, 111), match='b'>\n",
            "<re.Match object; span=(111, 112), match='e'>\n",
            "<re.Match object; span=(112, 113), match=' '>\n",
            "<re.Match object; span=(113, 114), match='e'>\n",
            "<re.Match object; span=(114, 115), match='s'>\n",
            "<re.Match object; span=(115, 116), match='c'>\n",
            "<re.Match object; span=(116, 117), match='a'>\n",
            "<re.Match object; span=(117, 118), match='p'>\n",
            "<re.Match object; span=(118, 119), match='e'>\n",
            "<re.Match object; span=(119, 120), match='d'>\n",
            "<re.Match object; span=(120, 121), match=' '>\n",
            "<re.Match object; span=(121, 122), match=':'>\n",
            "<re.Match object; span=(122, 123), match='\\n'>\n",
            "<re.Match object; span=(123, 124), match='\\n'>\n",
            "<re.Match object; span=(124, 125), match='.'>\n",
            "<re.Match object; span=(125, 126), match=' '>\n",
            "<re.Match object; span=(126, 127), match='^'>\n",
            "<re.Match object; span=(127, 128), match=' '>\n",
            "<re.Match object; span=(128, 129), match='$'>\n",
            "<re.Match object; span=(129, 130), match=' '>\n",
            "<re.Match object; span=(130, 131), match='\\\\'>\n",
            "<re.Match object; span=(131, 132), match=' '>\n",
            "<re.Match object; span=(132, 133), match='*'>\n",
            "<re.Match object; span=(133, 134), match=' '>\n",
            "<re.Match object; span=(134, 135), match='+'>\n",
            "<re.Match object; span=(135, 136), match=' '>\n",
            "<re.Match object; span=(136, 137), match='?'>\n",
            "<re.Match object; span=(137, 138), match=' '>\n",
            "<re.Match object; span=(138, 139), match='['>\n",
            "<re.Match object; span=(139, 140), match=' '>\n",
            "<re.Match object; span=(140, 141), match=']'>\n",
            "<re.Match object; span=(141, 142), match=' '>\n",
            "<re.Match object; span=(142, 143), match='{'>\n",
            "<re.Match object; span=(143, 144), match=' '>\n",
            "<re.Match object; span=(144, 145), match='}'>\n",
            "<re.Match object; span=(145, 146), match=' '>\n",
            "<re.Match object; span=(146, 147), match='|'>\n",
            "<re.Match object; span=(147, 148), match='\\n'>\n",
            "<re.Match object; span=(148, 149), match='\\n'>\n",
            "<re.Match object; span=(149, 150), match='u'>\n",
            "<re.Match object; span=(150, 151), match='t'>\n",
            "<re.Match object; span=(151, 152), match='e'>\n",
            "<re.Match object; span=(152, 153), match='x'>\n",
            "<re.Match object; span=(153, 154), match='a'>\n",
            "<re.Match object; span=(154, 155), match='s'>\n",
            "<re.Match object; span=(155, 156), match='.'>\n",
            "<re.Match object; span=(156, 157), match='e'>\n",
            "<re.Match object; span=(157, 158), match='d'>\n",
            "<re.Match object; span=(158, 159), match='u'>\n",
            "<re.Match object; span=(159, 160), match=' '>\n",
            "<re.Match object; span=(160, 161), match='\\n'>\n",
            "<re.Match object; span=(161, 162), match='\\n'>\n",
            "<re.Match object; span=(165, 166), match='-'>\n",
            "<re.Match object; span=(169, 170), match='-'>\n",
            "<re.Match object; span=(174, 175), match='\\n'>\n",
            "<re.Match object; span=(178, 179), match='.'>\n",
            "<re.Match object; span=(182, 183), match='.'>\n",
            "<re.Match object; span=(187, 188), match='\\n'>\n",
            "<re.Match object; span=(188, 189), match='\\n'>\n",
            "<re.Match object; span=(189, 190), match='d'>\n",
            "<re.Match object; span=(190, 191), match='a'>\n",
            "<re.Match object; span=(191, 192), match='n'>\n",
            "<re.Match object; span=(192, 193), match='i'>\n",
            "<re.Match object; span=(193, 194), match='e'>\n",
            "<re.Match object; span=(194, 195), match='l'>\n",
            "<re.Match object; span=(195, 196), match='.'>\n",
            "<re.Match object; span=(196, 197), match='m'>\n",
            "<re.Match object; span=(197, 198), match='i'>\n",
            "<re.Match object; span=(198, 199), match='t'>\n",
            "<re.Match object; span=(199, 200), match='c'>\n",
            "<re.Match object; span=(200, 201), match='h'>\n",
            "<re.Match object; span=(201, 202), match='e'>\n",
            "<re.Match object; span=(202, 203), match='l'>\n",
            "<re.Match object; span=(203, 204), match='@'>\n",
            "<re.Match object; span=(204, 205), match='u'>\n",
            "<re.Match object; span=(205, 206), match='t'>\n",
            "<re.Match object; span=(206, 207), match='e'>\n",
            "<re.Match object; span=(207, 208), match='x'>\n",
            "<re.Match object; span=(208, 209), match='u'>\n",
            "<re.Match object; span=(209, 210), match='s'>\n",
            "<re.Match object; span=(210, 211), match='.'>\n",
            "<re.Match object; span=(211, 212), match='e'>\n",
            "<re.Match object; span=(212, 213), match='d'>\n",
            "<re.Match object; span=(213, 214), match='u'>\n",
            "<re.Match object; span=(214, 215), match='\\n'>\n",
            "<re.Match object; span=(215, 216), match='M'>\n",
            "<re.Match object; span=(216, 217), match='r'>\n",
            "<re.Match object; span=(217, 218), match='.'>\n",
            "<re.Match object; span=(218, 219), match='J'>\n",
            "<re.Match object; span=(219, 220), match='o'>\n",
            "<re.Match object; span=(220, 221), match='h'>\n",
            "<re.Match object; span=(221, 222), match='n'>\n",
            "<re.Match object; span=(222, 223), match='\\n'>\n",
            "<re.Match object; span=(223, 224), match='M'>\n",
            "<re.Match object; span=(224, 225), match='r'>\n",
            "<re.Match object; span=(225, 226), match='.'>\n",
            "<re.Match object; span=(226, 227), match='D'>\n",
            "<re.Match object; span=(227, 228), match='i'>\n",
            "<re.Match object; span=(228, 229), match='m'>\n",
            "<re.Match object; span=(229, 230), match='p'>\n",
            "<re.Match object; span=(230, 231), match='l'>\n",
            "<re.Match object; span=(231, 232), match='e'>\n",
            "<re.Match object; span=(232, 233), match='\\n'>\n",
            "<re.Match object; span=(233, 234), match='M'>\n",
            "<re.Match object; span=(234, 235), match='r'>\n",
            "<re.Match object; span=(235, 236), match='.'>\n",
            "<re.Match object; span=(236, 237), match='B'>\n",
            "<re.Match object; span=(237, 238), match='i'>\n",
            "<re.Match object; span=(238, 239), match='n'>\n",
            "<re.Match object; span=(239, 240), match='g'>\n",
            "<re.Match object; span=(240, 241), match='\\n'>\n",
            "<re.Match object; span=(241, 242), match='\\n'>\n"
          ],
          "name": "stdout"
        }
      ]
    },
    {
      "cell_type": "code",
      "metadata": {
        "colab": {
          "base_uri": "https://localhost:8080/"
        },
        "id": "gEcsdFX7BjY0",
        "outputId": "a88114be-1f92-4f05-e286-f012b58bb043"
      },
      "source": [
        "#\\w - word character (a-z, A-Z, 0-9, _)\n",
        "pattern = re.compile(r'\\w');\n",
        "matches = pattern.finditer(text);\n",
        "for mat in matches:\n",
        "  print(mat);"
      ],
      "execution_count": null,
      "outputs": [
        {
          "output_type": "stream",
          "text": [
            "<re.Match object; span=(1, 2), match='a'>\n",
            "<re.Match object; span=(2, 3), match='b'>\n",
            "<re.Match object; span=(3, 4), match='c'>\n",
            "<re.Match object; span=(4, 5), match='d'>\n",
            "<re.Match object; span=(5, 6), match='e'>\n",
            "<re.Match object; span=(6, 7), match='f'>\n",
            "<re.Match object; span=(7, 8), match='g'>\n",
            "<re.Match object; span=(8, 9), match='h'>\n",
            "<re.Match object; span=(9, 10), match='i'>\n",
            "<re.Match object; span=(10, 11), match='j'>\n",
            "<re.Match object; span=(11, 12), match='k'>\n",
            "<re.Match object; span=(12, 13), match='l'>\n",
            "<re.Match object; span=(13, 14), match='m'>\n",
            "<re.Match object; span=(14, 15), match='n'>\n",
            "<re.Match object; span=(15, 16), match='o'>\n",
            "<re.Match object; span=(16, 17), match='p'>\n",
            "<re.Match object; span=(17, 18), match='q'>\n",
            "<re.Match object; span=(18, 19), match='r'>\n",
            "<re.Match object; span=(19, 20), match='s'>\n",
            "<re.Match object; span=(20, 21), match='t'>\n",
            "<re.Match object; span=(21, 22), match='u'>\n",
            "<re.Match object; span=(22, 23), match='v'>\n",
            "<re.Match object; span=(23, 24), match='w'>\n",
            "<re.Match object; span=(24, 25), match='x'>\n",
            "<re.Match object; span=(25, 26), match='y'>\n",
            "<re.Match object; span=(26, 27), match='z'>\n",
            "<re.Match object; span=(28, 29), match='A'>\n",
            "<re.Match object; span=(29, 30), match='B'>\n",
            "<re.Match object; span=(30, 31), match='C'>\n",
            "<re.Match object; span=(31, 32), match='D'>\n",
            "<re.Match object; span=(32, 33), match='E'>\n",
            "<re.Match object; span=(33, 34), match='F'>\n",
            "<re.Match object; span=(34, 35), match='G'>\n",
            "<re.Match object; span=(35, 36), match='H'>\n",
            "<re.Match object; span=(36, 37), match='I'>\n",
            "<re.Match object; span=(37, 38), match='J'>\n",
            "<re.Match object; span=(38, 39), match='K'>\n",
            "<re.Match object; span=(39, 40), match='L'>\n",
            "<re.Match object; span=(40, 41), match='M'>\n",
            "<re.Match object; span=(41, 42), match='N'>\n",
            "<re.Match object; span=(42, 43), match='O'>\n",
            "<re.Match object; span=(43, 44), match='P'>\n",
            "<re.Match object; span=(44, 45), match='Q'>\n",
            "<re.Match object; span=(45, 46), match='R'>\n",
            "<re.Match object; span=(46, 47), match='S'>\n",
            "<re.Match object; span=(47, 48), match='T'>\n",
            "<re.Match object; span=(48, 49), match='U'>\n",
            "<re.Match object; span=(49, 50), match='V'>\n",
            "<re.Match object; span=(50, 51), match='W'>\n",
            "<re.Match object; span=(51, 52), match='X'>\n",
            "<re.Match object; span=(52, 53), match='Y'>\n",
            "<re.Match object; span=(53, 54), match='Z'>\n",
            "<re.Match object; span=(55, 56), match='0'>\n",
            "<re.Match object; span=(56, 57), match='1'>\n",
            "<re.Match object; span=(57, 58), match='2'>\n",
            "<re.Match object; span=(58, 59), match='3'>\n",
            "<re.Match object; span=(59, 60), match='4'>\n",
            "<re.Match object; span=(60, 61), match='5'>\n",
            "<re.Match object; span=(61, 62), match='6'>\n",
            "<re.Match object; span=(62, 63), match='7'>\n",
            "<re.Match object; span=(63, 64), match='8'>\n",
            "<re.Match object; span=(64, 65), match='9'>\n",
            "<re.Match object; span=(66, 67), match='1'>\n",
            "<re.Match object; span=(67, 68), match='2'>\n",
            "<re.Match object; span=(68, 69), match='3'>\n",
            "<re.Match object; span=(69, 70), match='a'>\n",
            "<re.Match object; span=(70, 71), match='b'>\n",
            "<re.Match object; span=(71, 72), match='c'>\n",
            "<re.Match object; span=(74, 75), match='H'>\n",
            "<re.Match object; span=(75, 76), match='e'>\n",
            "<re.Match object; span=(76, 77), match='l'>\n",
            "<re.Match object; span=(77, 78), match='l'>\n",
            "<re.Match object; span=(78, 79), match='o'>\n",
            "<re.Match object; span=(80, 81), match='H'>\n",
            "<re.Match object; span=(81, 82), match='e'>\n",
            "<re.Match object; span=(82, 83), match='l'>\n",
            "<re.Match object; span=(83, 84), match='l'>\n",
            "<re.Match object; span=(84, 85), match='o'>\n",
            "<re.Match object; span=(85, 86), match='H'>\n",
            "<re.Match object; span=(86, 87), match='e'>\n",
            "<re.Match object; span=(87, 88), match='l'>\n",
            "<re.Match object; span=(88, 89), match='l'>\n",
            "<re.Match object; span=(89, 90), match='o'>\n",
            "<re.Match object; span=(92, 93), match='M'>\n",
            "<re.Match object; span=(93, 94), match='e'>\n",
            "<re.Match object; span=(94, 95), match='t'>\n",
            "<re.Match object; span=(95, 96), match='a'>\n",
            "<re.Match object; span=(96, 97), match='c'>\n",
            "<re.Match object; span=(97, 98), match='h'>\n",
            "<re.Match object; span=(98, 99), match='a'>\n",
            "<re.Match object; span=(99, 100), match='r'>\n",
            "<re.Match object; span=(100, 101), match='a'>\n",
            "<re.Match object; span=(101, 102), match='c'>\n",
            "<re.Match object; span=(102, 103), match='t'>\n",
            "<re.Match object; span=(103, 104), match='e'>\n",
            "<re.Match object; span=(104, 105), match='r'>\n",
            "<re.Match object; span=(105, 106), match='s'>\n",
            "<re.Match object; span=(107, 108), match='t'>\n",
            "<re.Match object; span=(108, 109), match='o'>\n",
            "<re.Match object; span=(110, 111), match='b'>\n",
            "<re.Match object; span=(111, 112), match='e'>\n",
            "<re.Match object; span=(113, 114), match='e'>\n",
            "<re.Match object; span=(114, 115), match='s'>\n",
            "<re.Match object; span=(115, 116), match='c'>\n",
            "<re.Match object; span=(116, 117), match='a'>\n",
            "<re.Match object; span=(117, 118), match='p'>\n",
            "<re.Match object; span=(118, 119), match='e'>\n",
            "<re.Match object; span=(119, 120), match='d'>\n",
            "<re.Match object; span=(149, 150), match='u'>\n",
            "<re.Match object; span=(150, 151), match='t'>\n",
            "<re.Match object; span=(151, 152), match='e'>\n",
            "<re.Match object; span=(152, 153), match='x'>\n",
            "<re.Match object; span=(153, 154), match='a'>\n",
            "<re.Match object; span=(154, 155), match='s'>\n",
            "<re.Match object; span=(156, 157), match='e'>\n",
            "<re.Match object; span=(157, 158), match='d'>\n",
            "<re.Match object; span=(158, 159), match='u'>\n",
            "<re.Match object; span=(162, 163), match='9'>\n",
            "<re.Match object; span=(163, 164), match='8'>\n",
            "<re.Match object; span=(164, 165), match='0'>\n",
            "<re.Match object; span=(166, 167), match='6'>\n",
            "<re.Match object; span=(167, 168), match='8'>\n",
            "<re.Match object; span=(168, 169), match='0'>\n",
            "<re.Match object; span=(170, 171), match='3'>\n",
            "<re.Match object; span=(171, 172), match='2'>\n",
            "<re.Match object; span=(172, 173), match='2'>\n",
            "<re.Match object; span=(173, 174), match='0'>\n",
            "<re.Match object; span=(175, 176), match='9'>\n",
            "<re.Match object; span=(176, 177), match='8'>\n",
            "<re.Match object; span=(177, 178), match='0'>\n",
            "<re.Match object; span=(179, 180), match='6'>\n",
            "<re.Match object; span=(180, 181), match='8'>\n",
            "<re.Match object; span=(181, 182), match='0'>\n",
            "<re.Match object; span=(183, 184), match='3'>\n",
            "<re.Match object; span=(184, 185), match='7'>\n",
            "<re.Match object; span=(185, 186), match='8'>\n",
            "<re.Match object; span=(186, 187), match='7'>\n",
            "<re.Match object; span=(189, 190), match='d'>\n",
            "<re.Match object; span=(190, 191), match='a'>\n",
            "<re.Match object; span=(191, 192), match='n'>\n",
            "<re.Match object; span=(192, 193), match='i'>\n",
            "<re.Match object; span=(193, 194), match='e'>\n",
            "<re.Match object; span=(194, 195), match='l'>\n",
            "<re.Match object; span=(196, 197), match='m'>\n",
            "<re.Match object; span=(197, 198), match='i'>\n",
            "<re.Match object; span=(198, 199), match='t'>\n",
            "<re.Match object; span=(199, 200), match='c'>\n",
            "<re.Match object; span=(200, 201), match='h'>\n",
            "<re.Match object; span=(201, 202), match='e'>\n",
            "<re.Match object; span=(202, 203), match='l'>\n",
            "<re.Match object; span=(204, 205), match='u'>\n",
            "<re.Match object; span=(205, 206), match='t'>\n",
            "<re.Match object; span=(206, 207), match='e'>\n",
            "<re.Match object; span=(207, 208), match='x'>\n",
            "<re.Match object; span=(208, 209), match='u'>\n",
            "<re.Match object; span=(209, 210), match='s'>\n",
            "<re.Match object; span=(211, 212), match='e'>\n",
            "<re.Match object; span=(212, 213), match='d'>\n",
            "<re.Match object; span=(213, 214), match='u'>\n",
            "<re.Match object; span=(215, 216), match='M'>\n",
            "<re.Match object; span=(216, 217), match='r'>\n",
            "<re.Match object; span=(218, 219), match='J'>\n",
            "<re.Match object; span=(219, 220), match='o'>\n",
            "<re.Match object; span=(220, 221), match='h'>\n",
            "<re.Match object; span=(221, 222), match='n'>\n",
            "<re.Match object; span=(223, 224), match='M'>\n",
            "<re.Match object; span=(224, 225), match='r'>\n",
            "<re.Match object; span=(226, 227), match='D'>\n",
            "<re.Match object; span=(227, 228), match='i'>\n",
            "<re.Match object; span=(228, 229), match='m'>\n",
            "<re.Match object; span=(229, 230), match='p'>\n",
            "<re.Match object; span=(230, 231), match='l'>\n",
            "<re.Match object; span=(231, 232), match='e'>\n",
            "<re.Match object; span=(233, 234), match='M'>\n",
            "<re.Match object; span=(234, 235), match='r'>\n",
            "<re.Match object; span=(236, 237), match='B'>\n",
            "<re.Match object; span=(237, 238), match='i'>\n",
            "<re.Match object; span=(238, 239), match='n'>\n",
            "<re.Match object; span=(239, 240), match='g'>\n"
          ],
          "name": "stdout"
        }
      ]
    },
    {
      "cell_type": "code",
      "metadata": {
        "colab": {
          "base_uri": "https://localhost:8080/"
        },
        "id": "potFKJI1CenG",
        "outputId": "a46af4ad-8a0a-44c2-9942-176098ded1c5"
      },
      "source": [
        "#Regular Expression find a non overlapping set\n",
        "pattern = re.compile(r'\\d\\w');\n",
        "matches = pattern.finditer(text);\n",
        "for mat in matches:\n",
        "  print(mat);"
      ],
      "execution_count": null,
      "outputs": [
        {
          "output_type": "stream",
          "text": [
            "<re.Match object; span=(55, 57), match='01'>\n",
            "<re.Match object; span=(57, 59), match='23'>\n",
            "<re.Match object; span=(59, 61), match='45'>\n",
            "<re.Match object; span=(61, 63), match='67'>\n",
            "<re.Match object; span=(63, 65), match='89'>\n",
            "<re.Match object; span=(66, 68), match='12'>\n",
            "<re.Match object; span=(68, 70), match='3a'>\n",
            "<re.Match object; span=(162, 164), match='98'>\n",
            "<re.Match object; span=(166, 168), match='68'>\n",
            "<re.Match object; span=(170, 172), match='32'>\n",
            "<re.Match object; span=(172, 174), match='20'>\n",
            "<re.Match object; span=(175, 177), match='98'>\n",
            "<re.Match object; span=(179, 181), match='68'>\n",
            "<re.Match object; span=(183, 185), match='37'>\n",
            "<re.Match object; span=(185, 187), match='87'>\n"
          ],
          "name": "stdout"
        }
      ]
    },
    {
      "cell_type": "code",
      "metadata": {
        "colab": {
          "base_uri": "https://localhost:8080/"
        },
        "id": "gnhwFV6eB8E4",
        "outputId": "3d5260ff-3b9a-4d42-a81c-e38db7c849cc"
      },
      "source": [
        "# \\s- White Space(space, tab, new line)\n",
        "# \\S- Not White Space(space, tab, new line)\n",
        "pattern = re.compile(r'\\d\\s');\n",
        "matches = pattern.finditer(text);\n",
        "for mat in matches:\n",
        "  print(mat);"
      ],
      "execution_count": null,
      "outputs": [
        {
          "output_type": "stream",
          "text": [
            "<re.Match object; span=(64, 66), match='9\\n'>\n",
            "<re.Match object; span=(173, 175), match='0\\n'>\n",
            "<re.Match object; span=(186, 188), match='7\\n'>\n"
          ],
          "name": "stdout"
        }
      ]
    },
    {
      "cell_type": "markdown",
      "metadata": {
        "id": "pX291_ybDKOl"
      },
      "source": [
        "# Word Boundary\n",
        "\n",
        "\\b - Word Boundary\n",
        "\n",
        "\\B - Not Word Boundary\n",
        "\n",
        "word boundary is a space, tab, new line"
      ]
    },
    {
      "cell_type": "code",
      "metadata": {
        "colab": {
          "base_uri": "https://localhost:8080/"
        },
        "id": "pLmB-AkSC9bF",
        "outputId": "8abdd75b-977f-40c1-a0aa-a505e8534b2e"
      },
      "source": [
        "#Hello HelloHello\n",
        "pattern = re.compile(r'Hello');\n",
        "matches = pattern.finditer(text);\n",
        "for mat in matches:\n",
        "  print(mat);"
      ],
      "execution_count": null,
      "outputs": [
        {
          "output_type": "stream",
          "text": [
            "<re.Match object; span=(74, 79), match='Hello'>\n",
            "<re.Match object; span=(80, 85), match='Hello'>\n",
            "<re.Match object; span=(85, 90), match='Hello'>\n"
          ],
          "name": "stdout"
        }
      ]
    },
    {
      "cell_type": "code",
      "metadata": {
        "colab": {
          "base_uri": "https://localhost:8080/"
        },
        "id": "UfjzUamcEN3X",
        "outputId": "b2d48943-00a3-4e59-edcb-fbc43ca23837"
      },
      "source": [
        "pattern = re.compile(r'Hello\\b');\n",
        "matches = pattern.finditer(text);\n",
        "for mat in matches:\n",
        "  print(mat);"
      ],
      "execution_count": null,
      "outputs": [
        {
          "output_type": "stream",
          "text": [
            "<re.Match object; span=(74, 79), match='Hello'>\n",
            "<re.Match object; span=(85, 90), match='Hello'>\n"
          ],
          "name": "stdout"
        }
      ]
    },
    {
      "cell_type": "code",
      "metadata": {
        "colab": {
          "base_uri": "https://localhost:8080/"
        },
        "id": "CISiUE7XEQVB",
        "outputId": "4aafef9f-5a2f-4f70-c7c5-4db228d8daff"
      },
      "source": [
        "pattern = re.compile(r'\\bHello\\b');\n",
        "matches = pattern.finditer(text);\n",
        "for mat in matches:\n",
        "  print(mat);"
      ],
      "execution_count": null,
      "outputs": [
        {
          "output_type": "stream",
          "text": [
            "<re.Match object; span=(74, 79), match='Hello'>\n"
          ],
          "name": "stdout"
        }
      ]
    },
    {
      "cell_type": "code",
      "metadata": {
        "colab": {
          "base_uri": "https://localhost:8080/"
        },
        "id": "eHVIyoR-EXQi",
        "outputId": "3f00240d-6dfa-40b9-829f-a12403894d24"
      },
      "source": [
        "pattern = re.compile(r'\\BHello\\b');\n",
        "matches = pattern.finditer(text);\n",
        "for mat in matches:\n",
        "  print(mat);"
      ],
      "execution_count": null,
      "outputs": [
        {
          "output_type": "stream",
          "text": [
            "<re.Match object; span=(85, 90), match='Hello'>\n"
          ],
          "name": "stdout"
        }
      ]
    },
    {
      "cell_type": "code",
      "metadata": {
        "colab": {
          "base_uri": "https://localhost:8080/"
        },
        "id": "GL3oHn6vEhd-",
        "outputId": "072da22c-e46d-4d44-a96b-9b5f50f13950"
      },
      "source": [
        "# - and . are considered word boundary\n",
        "pattern = re.compile(r'\\b\\d');\n",
        "matches = pattern.finditer(text);\n",
        "for mat in matches:\n",
        "  print(mat);"
      ],
      "execution_count": null,
      "outputs": [
        {
          "output_type": "stream",
          "text": [
            "<re.Match object; span=(55, 56), match='0'>\n",
            "<re.Match object; span=(66, 67), match='1'>\n",
            "<re.Match object; span=(162, 163), match='9'>\n",
            "<re.Match object; span=(166, 167), match='6'>\n",
            "<re.Match object; span=(170, 171), match='3'>\n",
            "<re.Match object; span=(175, 176), match='9'>\n",
            "<re.Match object; span=(179, 180), match='6'>\n",
            "<re.Match object; span=(183, 184), match='3'>\n"
          ],
          "name": "stdout"
        }
      ]
    },
    {
      "cell_type": "code",
      "metadata": {
        "colab": {
          "base_uri": "https://localhost:8080/"
        },
        "id": "XgxQ9piCFjuk",
        "outputId": "282bfa13-a5ef-40cf-dd02-acdb5ff7bb30"
      },
      "source": [
        "# ^ - Beginning of a String\n",
        "# $ - end of a String\n",
        "pattern = re.compile(r'^\\s');\n",
        "matches = pattern.finditer(text);\n",
        "for mat in matches:\n",
        "  print(mat);"
      ],
      "execution_count": null,
      "outputs": [
        {
          "output_type": "stream",
          "text": [
            "<re.Match object; span=(0, 1), match='\\n'>\n"
          ],
          "name": "stdout"
        }
      ]
    },
    {
      "cell_type": "markdown",
      "metadata": {
        "id": "cfZY2Qbtryw0"
      },
      "source": [
        "Character Set\n",
        "\n",
        "[]- represents a set from which it tries to match one char"
      ]
    },
    {
      "cell_type": "code",
      "metadata": {
        "colab": {
          "base_uri": "https://localhost:8080/"
        },
        "id": "r2vjMClXr0dk",
        "outputId": "3b5e72dd-b8b2-47b3-dad2-26da804d2ecc"
      },
      "source": [
        "pattern = re.compile(r'[123]\\w');\n",
        "matches = pattern.finditer(text);\n",
        "for mat in matches:\n",
        "  print(mat);"
      ],
      "execution_count": null,
      "outputs": [
        {
          "output_type": "stream",
          "text": [
            "<re.Match object; span=(56, 58), match='12'>\n",
            "<re.Match object; span=(58, 60), match='34'>\n",
            "<re.Match object; span=(66, 68), match='12'>\n",
            "<re.Match object; span=(68, 70), match='3a'>\n",
            "<re.Match object; span=(170, 172), match='32'>\n",
            "<re.Match object; span=(172, 174), match='20'>\n",
            "<re.Match object; span=(183, 185), match='37'>\n"
          ],
          "name": "stdout"
        }
      ]
    },
    {
      "cell_type": "code",
      "metadata": {
        "id": "OOdiiI2GsOAp"
      },
      "source": [
        "pattern = re.compile(r'[a-z][a-z]');\n",
        "matches = pattern.finditer(text);\n",
        "for mat in matches:\n",
        "  print(mat);"
      ],
      "execution_count": null,
      "outputs": []
    },
    {
      "cell_type": "code",
      "metadata": {
        "id": "XyijXyZwswQ2"
      },
      "source": [
        "#to find - , put it at the end\n",
        "pattern = re.compile(r'[a-zA-z0-9][a-zA-Z-]');\n",
        "matches = pattern.finditer(text);\n",
        "for mat in matches:\n",
        "  print(mat);"
      ],
      "execution_count": null,
      "outputs": []
    },
    {
      "cell_type": "code",
      "metadata": {
        "colab": {
          "base_uri": "https://localhost:8080/"
        },
        "id": "CMbH5ap3taVw",
        "outputId": "bdc78440-b0c8-4d73-871a-9f4eb264f267"
      },
      "source": [
        "# [^ ] - Matches anything not in the bracket\n",
        "pattern = re.compile(r'[a-zA-Z][^a-zA-Z]');\n",
        "matches = pattern.finditer(text);\n",
        "for mat in matches:\n",
        "  print(mat);"
      ],
      "execution_count": null,
      "outputs": [
        {
          "output_type": "stream",
          "text": [
            "<re.Match object; span=(26, 28), match='z\\n'>\n",
            "<re.Match object; span=(53, 55), match='Z\\n'>\n",
            "<re.Match object; span=(71, 73), match='c\\n'>\n",
            "<re.Match object; span=(78, 80), match='o '>\n",
            "<re.Match object; span=(89, 91), match='o\\n'>\n",
            "<re.Match object; span=(105, 107), match='s '>\n",
            "<re.Match object; span=(108, 110), match='o '>\n",
            "<re.Match object; span=(111, 113), match='e '>\n",
            "<re.Match object; span=(119, 121), match='d '>\n",
            "<re.Match object; span=(154, 156), match='s.'>\n",
            "<re.Match object; span=(158, 160), match='u '>\n",
            "<re.Match object; span=(194, 196), match='l.'>\n",
            "<re.Match object; span=(202, 204), match='l@'>\n",
            "<re.Match object; span=(209, 211), match='s.'>\n",
            "<re.Match object; span=(213, 215), match='u\\n'>\n",
            "<re.Match object; span=(216, 218), match='r.'>\n",
            "<re.Match object; span=(221, 223), match='n\\n'>\n",
            "<re.Match object; span=(224, 226), match='r.'>\n",
            "<re.Match object; span=(231, 233), match='e\\n'>\n",
            "<re.Match object; span=(234, 236), match='r.'>\n",
            "<re.Match object; span=(239, 241), match='g\\n'>\n"
          ],
          "name": "stdout"
        }
      ]
    },
    {
      "cell_type": "markdown",
      "metadata": {
        "id": "HyKp5AFGuFvu"
      },
      "source": [
        "Character Group"
      ]
    },
    {
      "cell_type": "code",
      "metadata": {
        "colab": {
          "base_uri": "https://localhost:8080/"
        },
        "id": "AkfBq8K8uE9q",
        "outputId": "4f048124-2682-4c4a-bbb5-7e9ce03628df"
      },
      "source": [
        "pattern = re.compile(r'(abc|edu|texas)\\b');\n",
        "matches = pattern.finditer(text);\n",
        "for mat in matches:\n",
        "  print(mat);"
      ],
      "execution_count": null,
      "outputs": [
        {
          "output_type": "stream",
          "text": [
            "<re.Match object; span=(69, 72), match='abc'>\n",
            "<re.Match object; span=(150, 155), match='texas'>\n",
            "<re.Match object; span=(156, 159), match='edu'>\n",
            "<re.Match object; span=(211, 214), match='edu'>\n"
          ],
          "name": "stdout"
        }
      ]
    },
    {
      "cell_type": "code",
      "metadata": {
        "colab": {
          "base_uri": "https://localhost:8080/"
        },
        "id": "fHOndEbJuxFH",
        "outputId": "df59d81f-88e1-4f0c-8133-bc1324a7018a"
      },
      "source": [
        "pattern = re.compile(r'([A-Z]|llo)[a-zA-Z]');\n",
        "matches = pattern.finditer(text);\n",
        "for mat in matches:\n",
        "  print(mat);"
      ],
      "execution_count": null,
      "outputs": [
        {
          "output_type": "stream",
          "text": [
            "<re.Match object; span=(28, 30), match='AB'>\n",
            "<re.Match object; span=(30, 32), match='CD'>\n",
            "<re.Match object; span=(32, 34), match='EF'>\n",
            "<re.Match object; span=(34, 36), match='GH'>\n",
            "<re.Match object; span=(36, 38), match='IJ'>\n",
            "<re.Match object; span=(38, 40), match='KL'>\n",
            "<re.Match object; span=(40, 42), match='MN'>\n",
            "<re.Match object; span=(42, 44), match='OP'>\n",
            "<re.Match object; span=(44, 46), match='QR'>\n",
            "<re.Match object; span=(46, 48), match='ST'>\n",
            "<re.Match object; span=(48, 50), match='UV'>\n",
            "<re.Match object; span=(50, 52), match='WX'>\n",
            "<re.Match object; span=(52, 54), match='YZ'>\n",
            "<re.Match object; span=(74, 76), match='He'>\n",
            "<re.Match object; span=(80, 82), match='He'>\n",
            "<re.Match object; span=(82, 86), match='lloH'>\n",
            "<re.Match object; span=(92, 94), match='Me'>\n",
            "<re.Match object; span=(215, 217), match='Mr'>\n",
            "<re.Match object; span=(218, 220), match='Jo'>\n",
            "<re.Match object; span=(223, 225), match='Mr'>\n",
            "<re.Match object; span=(226, 228), match='Di'>\n",
            "<re.Match object; span=(233, 235), match='Mr'>\n",
            "<re.Match object; span=(236, 238), match='Bi'>\n"
          ],
          "name": "stdout"
        }
      ]
    },
    {
      "cell_type": "markdown",
      "metadata": {
        "id": "51JqX8uJvSrK"
      },
      "source": [
        "Quantifiers\n",
        "\n",
        "*   \"*\" - 0 or more\n",
        "*   \"+\" - 1 or more\n",
        "*   \"?\" - 0 or one\n",
        "*   {3}  - find exact number within the bracket\n",
        "*   {3,4} - find in btw the range (min, max)\n"
      ]
    },
    {
      "cell_type": "code",
      "metadata": {
        "colab": {
          "base_uri": "https://localhost:8080/"
        },
        "id": "kLyh-CAcwGy1",
        "outputId": "a0dd7026-a450-4168-d4ed-d2df2308891c"
      },
      "source": [
        "# ? means whether char mentioned before that can be there or not\n",
        "# Find all men's name\n",
        "pattern = re.compile(r'Mr\\.?\\s[A-Z]');\n",
        "matches = pattern.finditer(text);\n",
        "for mat in matches:\n",
        "  print(mat);\n",
        "\n"
      ],
      "execution_count": null,
      "outputs": [
        {
          "output_type": "stream",
          "text": [
            "<re.Match object; span=(215, 220), match='Mr. J'>\n",
            "<re.Match object; span=(224, 229), match='Mr. D'>\n",
            "<re.Match object; span=(235, 239), match='Mr B'>\n"
          ],
          "name": "stdout"
        }
      ]
    },
    {
      "cell_type": "code",
      "metadata": {
        "colab": {
          "base_uri": "https://localhost:8080/"
        },
        "id": "GzeTw50dwsV7",
        "outputId": "1a527909-96df-4b23-aa60-1a377782c607"
      },
      "source": [
        "# * means pattern mentioned before this symbol will be matched until that pattern is not matched\n",
        "pattern = re.compile(r'Mr\\.?\\s[A-Z][a-z]*');\n",
        "matches = pattern.finditer(text);\n",
        "for mat in matches:\n",
        "  print(mat);"
      ],
      "execution_count": null,
      "outputs": [
        {
          "output_type": "stream",
          "text": [
            "<re.Match object; span=(215, 223), match='Mr. John'>\n",
            "<re.Match object; span=(224, 234), match='Mr. Dimple'>\n",
            "<re.Match object; span=(235, 242), match='Mr Bing'>\n",
            "<re.Match object; span=(253, 258), match='Mr. T'>\n"
          ],
          "name": "stdout"
        }
      ]
    },
    {
      "cell_type": "code",
      "metadata": {
        "colab": {
          "base_uri": "https://localhost:8080/"
        },
        "id": "eqrC3CTpxUg5",
        "outputId": "df7b3c8e-ff02-44ab-912d-52132775f085"
      },
      "source": [
        "#this will eliminate Mr. T\n",
        "pattern = re.compile(r'Mr\\.?\\s[A-Z][a-z]+');\n",
        "matches = pattern.finditer(text);\n",
        "for mat in matches:\n",
        "  print(mat);"
      ],
      "execution_count": null,
      "outputs": [
        {
          "output_type": "stream",
          "text": [
            "<re.Match object; span=(215, 223), match='Mr. John'>\n",
            "<re.Match object; span=(224, 234), match='Mr. Dimple'>\n",
            "<re.Match object; span=(235, 242), match='Mr Bing'>\n"
          ],
          "name": "stdout"
        }
      ]
    },
    {
      "cell_type": "code",
      "metadata": {
        "colab": {
          "base_uri": "https://localhost:8080/"
        },
        "id": "edpwwbruxnwU",
        "outputId": "358ce536-b6f0-433b-ec49-a73376710cb0"
      },
      "source": [
        "#Find all Person Name\n",
        "pattern = re.compile(r'M(s|rs)\\.?\\s[A-Z][a-z]*');\n",
        "matches = pattern.finditer(text);\n",
        "for mat in matches:\n",
        "  print(mat);"
      ],
      "execution_count": null,
      "outputs": [
        {
          "output_type": "stream",
          "text": [
            "<re.Match object; span=(243, 252), match='Mrs. Dane'>\n"
          ],
          "name": "stdout"
        }
      ]
    },
    {
      "cell_type": "code",
      "metadata": {
        "colab": {
          "base_uri": "https://localhost:8080/"
        },
        "id": "SRXVt6h9yoBR",
        "outputId": "311caa75-09f2-4c20-ae62-d295bd3c1087"
      },
      "source": [
        "#find phone number\n",
        "pattern = re.compile(r'\\d{3}[.-]\\d{3}[.-]\\d{4}');\n",
        "matches = pattern.finditer(text);\n",
        "for mat in matches:\n",
        "  print(mat);"
      ],
      "execution_count": null,
      "outputs": [
        {
          "output_type": "stream",
          "text": [
            "<re.Match object; span=(162, 174), match='980-680-3220'>\n",
            "<re.Match object; span=(175, 187), match='980.680.3787'>\n"
          ],
          "name": "stdout"
        }
      ]
    },
    {
      "cell_type": "code",
      "metadata": {
        "colab": {
          "base_uri": "https://localhost:8080/"
        },
        "id": "aMVvN2spy1BX",
        "outputId": "6431368f-9cfd-4e93-e336-02fac13f2c89"
      },
      "source": [
        "#find domain name\n",
        "pattern = re.compile(r'[a-zA-Z0-9_]+\\.[a-z]{3}');\n",
        "matches = pattern.finditer(text);\n",
        "for mat in matches:\n",
        "  print(mat);"
      ],
      "execution_count": null,
      "outputs": [
        {
          "output_type": "stream",
          "text": [
            "<re.Match object; span=(149, 159), match='utexas.edu'>\n",
            "<re.Match object; span=(189, 199), match='daniel.mit'>\n",
            "<re.Match object; span=(204, 214), match='utexus.edu'>\n"
          ],
          "name": "stdout"
        }
      ]
    },
    {
      "cell_type": "code",
      "metadata": {
        "colab": {
          "base_uri": "https://localhost:8080/"
        },
        "id": "sNNavjQKzLzF",
        "outputId": "6ae93499-88a1-41f9-da03-f2e841fda827"
      },
      "source": [
        "# find email\n",
        "#find phone number\n",
        "pattern = re.compile(r'[a-zA-z0-9_+.-]+@[a-zA-Z0-9-]+\\.[a-zA-Z0-9-]+');\n",
        "matches = pattern.finditer(text);\n",
        "for mat in matches:\n",
        "  print(mat);"
      ],
      "execution_count": null,
      "outputs": [
        {
          "output_type": "stream",
          "text": [
            "<re.Match object; span=(189, 214), match='daniel.mitchel@utexus.edu'>\n"
          ],
          "name": "stdout"
        }
      ]
    },
    {
      "cell_type": "markdown",
      "metadata": {
        "id": "_JGz1xJK0o74"
      },
      "source": [
        "Accessing information from the Match object\n"
      ]
    },
    {
      "cell_type": "code",
      "metadata": {
        "colab": {
          "base_uri": "https://localhost:8080/"
        },
        "id": "7WDLOfuU0vNP",
        "outputId": "5ceefff5-5713-48a3-e3e0-111e0eaeb16c"
      },
      "source": [
        "# find email\n",
        "#find phone number\n",
        "pattern = re.compile(r'[a-zA-z0-9_+.-]+@[a-zA-Z0-9-]+\\.[a-zA-Z0-9-]{2,4}');\n",
        "matches = pattern.finditer(text);\n",
        "for mat in matches:\n",
        "  print(mat.span(0));\n",
        "  print(mat.group(0));\n",
        "  print(text[mat.span(0)[0]:mat.span(0)[1]]);"
      ],
      "execution_count": null,
      "outputs": [
        {
          "output_type": "stream",
          "text": [
            "(189, 214)\n",
            "daniel.mitchel@utexus.edu\n",
            "daniel.mitchel@utexus.edu\n"
          ],
          "name": "stdout"
        }
      ]
    },
    {
      "cell_type": "code",
      "metadata": {
        "id": "xEVkDaIT0oTU"
      },
      "source": [
        "urls = '''\n",
        "https://www.goggle.com\n",
        "https://www.yahoo.com\n",
        "https://www.whitehouse.gov\n",
        "http://craiglist.com\n",
        "'''"
      ],
      "execution_count": null,
      "outputs": []
    },
    {
      "cell_type": "code",
      "metadata": {
        "colab": {
          "base_uri": "https://localhost:8080/"
        },
        "id": "ggdem7Xl2oLv",
        "outputId": "cd9f0892-e539-4f26-b7d8-a2ac7e9417c7"
      },
      "source": [
        "#find url\n",
        "pattern = re.compile(r'https?://(www.)?\\w+.\\w+');\n",
        "matches = pattern.finditer(urls);\n",
        "for mat in matches:\n",
        "  print(mat);"
      ],
      "execution_count": null,
      "outputs": [
        {
          "output_type": "stream",
          "text": [
            "<re.Match object; span=(1, 23), match='https://www.goggle.com'>\n",
            "<re.Match object; span=(24, 45), match='https://www.yahoo.com'>\n",
            "<re.Match object; span=(46, 72), match='https://www.whitehouse.gov'>\n",
            "<re.Match object; span=(73, 93), match='http://craiglist.com'>\n"
          ],
          "name": "stdout"
        }
      ]
    },
    {
      "cell_type": "code",
      "metadata": {
        "colab": {
          "base_uri": "https://localhost:8080/"
        },
        "id": "nsZw0KZ93fk7",
        "outputId": "c2d39c02-2da0-4312-a0e9-b0ac426968f7"
      },
      "source": [
        "pattern = re.compile(r'https?://(www.)?(\\w+)(.\\w+)');\n",
        "matches = pattern.finditer(urls);\n",
        "for mat in matches:\n",
        "  print(mat.group(2)+mat.group(3));"
      ],
      "execution_count": null,
      "outputs": [
        {
          "output_type": "stream",
          "text": [
            "goggle.com\n",
            "yahoo.com\n",
            "whitehouse.gov\n",
            "craiglist.com\n"
          ],
          "name": "stdout"
        }
      ]
    },
    {
      "cell_type": "code",
      "metadata": {
        "colab": {
          "base_uri": "https://localhost:8080/"
        },
        "id": "ru9rjOMd4Top",
        "outputId": "6aee3ea1-cbd8-4530-8909-a5f7135fc49f"
      },
      "source": [
        "pattern = re.compile(r'https?://(www.)?(\\w+)(.\\w+)');\n",
        "matches = pattern.finditer(urls);\n",
        "for mat in matches:\n",
        "  print(urls[mat.span(2)[0]:mat.span(2)[1]]+urls[mat.span(3)[0]:mat.span(3)[1]]);"
      ],
      "execution_count": null,
      "outputs": [
        {
          "output_type": "stream",
          "text": [
            "goggle.com\n",
            "yahoo.com\n",
            "whitehouse.gov\n",
            "craiglist.com\n"
          ],
          "name": "stdout"
        }
      ]
    }
  ]
}