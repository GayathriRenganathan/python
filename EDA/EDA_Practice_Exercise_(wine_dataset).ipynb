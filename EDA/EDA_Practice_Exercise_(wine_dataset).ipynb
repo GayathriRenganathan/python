{
  "nbformat": 4,
  "nbformat_minor": 0,
  "metadata": {
    "kernelspec": {
      "display_name": "Python 3",
      "language": "python",
      "name": "python3"
    },
    "language_info": {
      "codemirror_mode": {
        "name": "ipython",
        "version": 3
      },
      "file_extension": ".py",
      "mimetype": "text/x-python",
      "name": "python",
      "nbconvert_exporter": "python",
      "pygments_lexer": "ipython3",
      "version": "3.7.3"
    },
    "colab": {
      "provenance": []
    }
  },
  "cells": [
    {
      "cell_type": "markdown",
      "metadata": {
        "id": "bF25spOFD9Tj"
      },
      "source": [
        "## Practice Exercise"
      ]
    },
    {
      "cell_type": "code",
      "metadata": {
        "colab": {
          "base_uri": "https://localhost:8080/"
        },
        "id": "mKEdPxBnEEV1",
        "outputId": "4d4f8157-94d6-4d62-9377-a6821f02dea2"
      },
      "source": [
        "from google.colab import drive\n",
        "drive.mount('/content/drive')"
      ],
      "execution_count": null,
      "outputs": [
        {
          "output_type": "stream",
          "name": "stdout",
          "text": [
            "Mounted at /content/drive\n"
          ]
        }
      ]
    },
    {
      "cell_type": "markdown",
      "metadata": {
        "id": "TcfR6F63D9Ts"
      },
      "source": [
        "### About the Data set (Wine Quality.csv)\n",
        "Attribute Information:\n",
        "\n",
        "The dataset are related to red and white variants of the \"Vinho Verde\" wine. Vinho verde is a unique product from the Minho (northwest) region of Portugal. Medium in alcohol, is it particularly appreciated due to its freshness (specially in the summer).\n",
        "\n",
        "    1 - fixed acidity\n",
        "    2 - volatile acidity\n",
        "    3 - citric acid\n",
        "    4 - residual sugar\n",
        "    5 - chlorides\n",
        "    6 - free sulfur dioxide\n",
        "    7 - total sulfur dioxide\n",
        "    8 - density\n",
        "    9 - pH\n",
        "    10 - sulphates\n",
        "    11 - alcohol Output variable (based on sensory data):\n",
        "    12 - quality (score between 0 and 10)"
      ]
    },
    {
      "cell_type": "markdown",
      "metadata": {
        "id": "ybUxjrc0D9Tu"
      },
      "source": [
        "## 1. Load the libraries:"
      ]
    },
    {
      "cell_type": "code",
      "metadata": {
        "id": "cfjdr10fD9Tu"
      },
      "source": [
        "import numpy as np\n",
        "import pandas as pd\n",
        "import seaborn as sns\n",
        "from matplotlib import pyplot as plt\n",
        "from scipy.stats import skew, norm, probplot, boxcox, f_oneway\n"
      ],
      "execution_count": null,
      "outputs": []
    },
    {
      "cell_type": "markdown",
      "metadata": {
        "id": "n66lImluD9Tx"
      },
      "source": [
        "## 2. Importing the dataset"
      ]
    },
    {
      "cell_type": "code",
      "metadata": {
        "colab": {
          "resources": {
            "http://localhost:8080/nbextensions/google.colab/files.js": {
              "data": "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",
              "ok": true,
              "headers": [
                [
                  "content-type",
                  "application/javascript"
                ]
              ],
              "status": 200,
              "status_text": ""
            }
          },
          "base_uri": "https://localhost:8080/",
          "height": 73
        },
        "id": "_MVnnJkDD9Tx",
        "outputId": "58b83e83-6ad1-45b7-bd5b-4204a497534c"
      },
      "source": [
        "#wines  = pd.read_csv('Wine_data.csv')\n",
        "from google.colab import files\n",
        "import io;\n",
        "dat = files.upload()\n"
      ],
      "execution_count": null,
      "outputs": [
        {
          "output_type": "display_data",
          "data": {
            "text/html": [
              "\n",
              "     <input type=\"file\" id=\"files-c9e991ab-20d2-4cf8-ad22-1237058259b1\" name=\"files[]\" multiple disabled\n",
              "        style=\"border:none\" />\n",
              "     <output id=\"result-c9e991ab-20d2-4cf8-ad22-1237058259b1\">\n",
              "      Upload widget is only available when the cell has been executed in the\n",
              "      current browser session. Please rerun this cell to enable.\n",
              "      </output>\n",
              "      <script src=\"/nbextensions/google.colab/files.js\"></script> "
            ],
            "text/plain": [
              "<IPython.core.display.HTML object>"
            ]
          },
          "metadata": {}
        },
        {
          "output_type": "stream",
          "name": "stdout",
          "text": [
            "Saving Wine_data.csv to Wine_data.csv\n"
          ]
        }
      ]
    },
    {
      "cell_type": "code",
      "metadata": {
        "colab": {
          "base_uri": "https://localhost:8080/",
          "height": 147
        },
        "id": "d68w_BJ9E37o",
        "outputId": "1457f18f-a1ea-4f1c-e91c-d09967e332ad"
      },
      "source": [
        "wines = pd.read_csv(io.BytesIO(dat['Wine_data.csv']));\n",
        "wines .head(2)"
      ],
      "execution_count": null,
      "outputs": [
        {
          "output_type": "execute_result",
          "data": {
            "text/html": [
              "<div>\n",
              "<style scoped>\n",
              "    .dataframe tbody tr th:only-of-type {\n",
              "        vertical-align: middle;\n",
              "    }\n",
              "\n",
              "    .dataframe tbody tr th {\n",
              "        vertical-align: top;\n",
              "    }\n",
              "\n",
              "    .dataframe thead th {\n",
              "        text-align: right;\n",
              "    }\n",
              "</style>\n",
              "<table border=\"1\" class=\"dataframe\">\n",
              "  <thead>\n",
              "    <tr style=\"text-align: right;\">\n",
              "      <th></th>\n",
              "      <th>fixed acidity</th>\n",
              "      <th>volatile acidity</th>\n",
              "      <th>citric acid</th>\n",
              "      <th>residual sugar</th>\n",
              "      <th>chlorides</th>\n",
              "      <th>free sulfur dioxide</th>\n",
              "      <th>total sulfur dioxide</th>\n",
              "      <th>density</th>\n",
              "      <th>pH</th>\n",
              "      <th>sulphates</th>\n",
              "      <th>alcohol</th>\n",
              "      <th>quality</th>\n",
              "    </tr>\n",
              "  </thead>\n",
              "  <tbody>\n",
              "    <tr>\n",
              "      <th>0</th>\n",
              "      <td>7.0</td>\n",
              "      <td>0.27</td>\n",
              "      <td>0.36</td>\n",
              "      <td>20.7</td>\n",
              "      <td>0.045</td>\n",
              "      <td>45.0</td>\n",
              "      <td>170.0</td>\n",
              "      <td>1.001</td>\n",
              "      <td>3.0</td>\n",
              "      <td>0.45</td>\n",
              "      <td>8.8</td>\n",
              "      <td>6</td>\n",
              "    </tr>\n",
              "    <tr>\n",
              "      <th>1</th>\n",
              "      <td>6.3</td>\n",
              "      <td>0.30</td>\n",
              "      <td>0.34</td>\n",
              "      <td>1.6</td>\n",
              "      <td>0.049</td>\n",
              "      <td>14.0</td>\n",
              "      <td>132.0</td>\n",
              "      <td>0.994</td>\n",
              "      <td>3.3</td>\n",
              "      <td>0.49</td>\n",
              "      <td>9.5</td>\n",
              "      <td>6</td>\n",
              "    </tr>\n",
              "  </tbody>\n",
              "</table>\n",
              "</div>"
            ],
            "text/plain": [
              "   fixed acidity  volatile acidity  citric acid  ...  sulphates  alcohol  quality\n",
              "0            7.0              0.27         0.36  ...       0.45      8.8        6\n",
              "1            6.3              0.30         0.34  ...       0.49      9.5        6\n",
              "\n",
              "[2 rows x 12 columns]"
            ]
          },
          "metadata": {},
          "execution_count": 6
        }
      ]
    },
    {
      "cell_type": "markdown",
      "metadata": {
        "id": "_xTfjYDBD9Tz"
      },
      "source": [
        "## 3.EDA Descriptive Statistics:"
      ]
    },
    {
      "cell_type": "markdown",
      "metadata": {
        "id": "KVZtTWaOD9T0"
      },
      "source": [
        "### 3.1.  Measures of Central Tendency\n",
        "\n",
        "Measures of Central Tendency define significant, representative and adequate values for a set of data, depending on what you want to analyze. They are the\n",
        "\n",
        "1. mean\n",
        "2. median\n",
        "3. quantiles and mode."
      ]
    },
    {
      "cell_type": "markdown",
      "metadata": {
        "id": "Aw_RyT5qD9T1"
      },
      "source": [
        "### 3.2 Check the  mean ,Mode, Median and Quantile for dataset?"
      ]
    },
    {
      "cell_type": "markdown",
      "metadata": {
        "id": "GrkmgFW-D9T2"
      },
      "source": [
        "#### Mean"
      ]
    },
    {
      "cell_type": "code",
      "metadata": {
        "id": "w8UBEIU8D9T3",
        "outputId": "d440fa7e-3de3-49c0-c560-96c2c368f3ea"
      },
      "source": [
        "wines.mean()\n"
      ],
      "execution_count": null,
      "outputs": [
        {
          "data": {
            "text/plain": [
              "fixed acidity             6.854788\n",
              "volatile acidity          0.278241\n",
              "citric acid               0.334192\n",
              "residual sugar            6.391415\n",
              "chlorides                 0.045772\n",
              "free sulfur dioxide      35.308085\n",
              "total sulfur dioxide    138.360657\n",
              "density                   0.994027\n",
              "pH                        3.188267\n",
              "sulphates                 0.489847\n",
              "alcohol                  10.514267\n",
              "quality                   5.877909\n",
              "dtype: float64"
            ]
          },
          "execution_count": 7,
          "metadata": {},
          "output_type": "execute_result"
        }
      ]
    },
    {
      "cell_type": "markdown",
      "metadata": {
        "id": "uOMPyNNcD9T3"
      },
      "source": [
        "#### Mode"
      ]
    },
    {
      "cell_type": "code",
      "metadata": {
        "id": "Tm8Bv63eD9T4",
        "outputId": "65192694-0ff4-4556-bbcb-5c3c1bfcac3c"
      },
      "source": [
        "wines.mode()\n"
      ],
      "execution_count": null,
      "outputs": [
        {
          "data": {
            "text/html": [
              "<div>\n",
              "<style scoped>\n",
              "    .dataframe tbody tr th:only-of-type {\n",
              "        vertical-align: middle;\n",
              "    }\n",
              "\n",
              "    .dataframe tbody tr th {\n",
              "        vertical-align: top;\n",
              "    }\n",
              "\n",
              "    .dataframe thead th {\n",
              "        text-align: right;\n",
              "    }\n",
              "</style>\n",
              "<table border=\"1\" class=\"dataframe\">\n",
              "  <thead>\n",
              "    <tr style=\"text-align: right;\">\n",
              "      <th></th>\n",
              "      <th>fixed acidity</th>\n",
              "      <th>volatile acidity</th>\n",
              "      <th>citric acid</th>\n",
              "      <th>residual sugar</th>\n",
              "      <th>chlorides</th>\n",
              "      <th>free sulfur dioxide</th>\n",
              "      <th>total sulfur dioxide</th>\n",
              "      <th>density</th>\n",
              "      <th>pH</th>\n",
              "      <th>sulphates</th>\n",
              "      <th>alcohol</th>\n",
              "      <th>quality</th>\n",
              "    </tr>\n",
              "  </thead>\n",
              "  <tbody>\n",
              "    <tr>\n",
              "      <th>0</th>\n",
              "      <td>6.8</td>\n",
              "      <td>0.28</td>\n",
              "      <td>0.3</td>\n",
              "      <td>1.2</td>\n",
              "      <td>0.044</td>\n",
              "      <td>29.0</td>\n",
              "      <td>111.0</td>\n",
              "      <td>0.992</td>\n",
              "      <td>3.14</td>\n",
              "      <td>0.5</td>\n",
              "      <td>9.4</td>\n",
              "      <td>6</td>\n",
              "    </tr>\n",
              "  </tbody>\n",
              "</table>\n",
              "</div>"
            ],
            "text/plain": [
              "   fixed acidity  volatile acidity  citric acid  residual sugar  chlorides  \\\n",
              "0            6.8              0.28          0.3             1.2      0.044   \n",
              "\n",
              "   free sulfur dioxide  total sulfur dioxide  density    pH  sulphates  \\\n",
              "0                 29.0                 111.0    0.992  3.14        0.5   \n",
              "\n",
              "   alcohol  quality  \n",
              "0      9.4        6  "
            ]
          },
          "execution_count": 8,
          "metadata": {},
          "output_type": "execute_result"
        }
      ]
    },
    {
      "cell_type": "markdown",
      "metadata": {
        "id": "vLoEQPvID9T4"
      },
      "source": [
        "#### Median and Quantile"
      ]
    },
    {
      "cell_type": "code",
      "metadata": {
        "id": "J7t6DhJ1D9T4",
        "outputId": "fcb90832-ef6d-4596-9600-c57a516020ce"
      },
      "source": [
        "wines.median()"
      ],
      "execution_count": null,
      "outputs": [
        {
          "data": {
            "text/plain": [
              "fixed acidity             6.80000\n",
              "volatile acidity          0.26000\n",
              "citric acid               0.32000\n",
              "residual sugar            5.20000\n",
              "chlorides                 0.04300\n",
              "free sulfur dioxide      34.00000\n",
              "total sulfur dioxide    134.00000\n",
              "density                   0.99374\n",
              "pH                        3.18000\n",
              "sulphates                 0.47000\n",
              "alcohol                  10.40000\n",
              "quality                   6.00000\n",
              "dtype: float64"
            ]
          },
          "execution_count": 9,
          "metadata": {},
          "output_type": "execute_result"
        }
      ]
    },
    {
      "cell_type": "markdown",
      "metadata": {
        "id": "BIGgWR1kD9T5"
      },
      "source": [
        "### 3.4 check (Quantile 25%,50%,75%) for dataset"
      ]
    },
    {
      "cell_type": "markdown",
      "metadata": {
        "id": "cpykfOq9D9T5"
      },
      "source": [
        "#### Quantile 25%"
      ]
    },
    {
      "cell_type": "code",
      "metadata": {
        "id": "18TeFRIUD9T5",
        "outputId": "ed78e698-10bb-4b20-a709-aa0012f2c71c"
      },
      "source": [
        "wines.quantile(q=0.25)"
      ],
      "execution_count": null,
      "outputs": [
        {
          "data": {
            "text/plain": [
              "fixed acidity             6.300000\n",
              "volatile acidity          0.210000\n",
              "citric acid               0.270000\n",
              "residual sugar            1.700000\n",
              "chlorides                 0.036000\n",
              "free sulfur dioxide      23.000000\n",
              "total sulfur dioxide    108.000000\n",
              "density                   0.991723\n",
              "pH                        3.090000\n",
              "sulphates                 0.410000\n",
              "alcohol                   9.500000\n",
              "quality                   5.000000\n",
              "Name: 0.25, dtype: float64"
            ]
          },
          "execution_count": 10,
          "metadata": {},
          "output_type": "execute_result"
        }
      ]
    },
    {
      "cell_type": "markdown",
      "metadata": {
        "id": "T8CuHGFwD9T6"
      },
      "source": [
        "\n",
        "#### Quantile 50%"
      ]
    },
    {
      "cell_type": "code",
      "metadata": {
        "id": "--1rIA9mD9T6",
        "outputId": "73c11345-8dfe-4ae4-9137-db9eef888cfb"
      },
      "source": [
        "wines.quantile(q=0.50)"
      ],
      "execution_count": null,
      "outputs": [
        {
          "data": {
            "text/plain": [
              "fixed acidity             6.80000\n",
              "volatile acidity          0.26000\n",
              "citric acid               0.32000\n",
              "residual sugar            5.20000\n",
              "chlorides                 0.04300\n",
              "free sulfur dioxide      34.00000\n",
              "total sulfur dioxide    134.00000\n",
              "density                   0.99374\n",
              "pH                        3.18000\n",
              "sulphates                 0.47000\n",
              "alcohol                  10.40000\n",
              "quality                   6.00000\n",
              "Name: 0.5, dtype: float64"
            ]
          },
          "execution_count": 11,
          "metadata": {},
          "output_type": "execute_result"
        }
      ]
    },
    {
      "cell_type": "markdown",
      "metadata": {
        "id": "SYOaMZorD9T6"
      },
      "source": [
        "#### Quantile 75%"
      ]
    },
    {
      "cell_type": "code",
      "metadata": {
        "id": "X1J2K30zD9T7",
        "outputId": "705c1dff-4036-4aa5-b92a-7cb80000e335"
      },
      "source": [
        "wines.quantile(q=0.75)"
      ],
      "execution_count": null,
      "outputs": [
        {
          "data": {
            "text/plain": [
              "fixed acidity             7.3000\n",
              "volatile acidity          0.3200\n",
              "citric acid               0.3900\n",
              "residual sugar            9.9000\n",
              "chlorides                 0.0500\n",
              "free sulfur dioxide      46.0000\n",
              "total sulfur dioxide    167.0000\n",
              "density                   0.9961\n",
              "pH                        3.2800\n",
              "sulphates                 0.5500\n",
              "alcohol                  11.4000\n",
              "quality                   6.0000\n",
              "Name: 0.75, dtype: float64"
            ]
          },
          "execution_count": 12,
          "metadata": {},
          "output_type": "execute_result"
        }
      ]
    },
    {
      "cell_type": "markdown",
      "metadata": {
        "id": "KRdoNKiwD9T8"
      },
      "source": [
        "## 4. Measures of Dispersion"
      ]
    },
    {
      "cell_type": "markdown",
      "metadata": {
        "id": "z__7XPUqD9T8"
      },
      "source": [
        "Measures of Dispersion are measures that indicate how spread the data is, or how they vary. The measures of dispersion are range, variance, standard deviation and the absolute deviation, or mean absolute deviation."
      ]
    },
    {
      "cell_type": "markdown",
      "metadata": {
        "id": "9g-NtpIxD9T8"
      },
      "source": [
        "### 4.1 check the Range,Variance,Standard Deviation,Absolute Deviation or Mean Absolute Deviation?"
      ]
    },
    {
      "cell_type": "markdown",
      "metadata": {
        "id": "jfk8ANHND9T9"
      },
      "source": [
        "#### Range"
      ]
    },
    {
      "cell_type": "code",
      "metadata": {
        "id": "0qGXa60dD9T9",
        "outputId": "e2659a0a-d4c3-4adf-c40a-6a84bab610cc"
      },
      "source": [
        "print(wines.max() - wines.min())"
      ],
      "execution_count": null,
      "outputs": [
        {
          "name": "stdout",
          "output_type": "stream",
          "text": [
            "fixed acidity            10.40000\n",
            "volatile acidity          1.02000\n",
            "citric acid               1.66000\n",
            "residual sugar           65.20000\n",
            "chlorides                 0.33700\n",
            "free sulfur dioxide     287.00000\n",
            "total sulfur dioxide    431.00000\n",
            "density                   0.05187\n",
            "pH                        1.10000\n",
            "sulphates                 0.86000\n",
            "alcohol                   6.20000\n",
            "quality                   6.00000\n",
            "dtype: float64\n"
          ]
        }
      ]
    },
    {
      "cell_type": "markdown",
      "metadata": {
        "id": "x1_FMFZCD9T9"
      },
      "source": [
        "#### Variance"
      ]
    },
    {
      "cell_type": "code",
      "metadata": {
        "id": "4ldZAAGvD9T9",
        "outputId": "4a890abb-1a54-43ba-883e-3b26162bb939"
      },
      "source": [
        "print(wines.var())"
      ],
      "execution_count": null,
      "outputs": [
        {
          "name": "stdout",
          "output_type": "stream",
          "text": [
            "fixed acidity              0.712114\n",
            "volatile acidity           0.010160\n",
            "citric acid                0.014646\n",
            "residual sugar            25.725770\n",
            "chlorides                  0.000477\n",
            "free sulfur dioxide      289.242720\n",
            "total sulfur dioxide    1806.085491\n",
            "density                    0.000009\n",
            "pH                         0.022801\n",
            "sulphates                  0.013025\n",
            "alcohol                    1.514427\n",
            "quality                    0.784356\n",
            "dtype: float64\n"
          ]
        }
      ]
    },
    {
      "cell_type": "markdown",
      "metadata": {
        "id": "fNhNMsRjD9T-"
      },
      "source": [
        "#### Standard Deviation"
      ]
    },
    {
      "cell_type": "code",
      "metadata": {
        "id": "_ZaQgJOxD9T-",
        "outputId": "9b4a0b25-c2f8-4de3-a995-08856c485346"
      },
      "source": [
        "print(wines.std())"
      ],
      "execution_count": null,
      "outputs": [
        {
          "name": "stdout",
          "output_type": "stream",
          "text": [
            "fixed acidity            0.843868\n",
            "volatile acidity         0.100795\n",
            "citric acid              0.121020\n",
            "residual sugar           5.072058\n",
            "chlorides                0.021848\n",
            "free sulfur dioxide     17.007137\n",
            "total sulfur dioxide    42.498065\n",
            "density                  0.002991\n",
            "pH                       0.151001\n",
            "sulphates                0.114126\n",
            "alcohol                  1.230621\n",
            "quality                  0.885639\n",
            "dtype: float64\n"
          ]
        }
      ]
    },
    {
      "cell_type": "markdown",
      "metadata": {
        "id": "dUy6jgJ2D9T-"
      },
      "source": [
        "#### Absolute Deviation or Mean Absolute Deviation"
      ]
    },
    {
      "cell_type": "code",
      "metadata": {
        "id": "5Af_PSXVD9T-",
        "outputId": "fb5b0d26-ed68-43df-8494-6d3f51b3e9d6"
      },
      "source": [
        "print(wines.mad())"
      ],
      "execution_count": null,
      "outputs": [
        {
          "name": "stdout",
          "output_type": "stream",
          "text": [
            "fixed acidity            0.644923\n",
            "volatile acidity         0.073803\n",
            "citric acid              0.086411\n",
            "residual sugar           4.227788\n",
            "chlorides                0.011462\n",
            "free sulfur dioxide     13.149156\n",
            "total sulfur dioxide    34.282442\n",
            "density                  0.002447\n",
            "pH                       0.118204\n",
            "sulphates                0.087504\n",
            "alcohol                  1.034213\n",
            "quality                  0.670793\n",
            "dtype: float64\n"
          ]
        }
      ]
    },
    {
      "cell_type": "markdown",
      "metadata": {
        "id": "8A2YBwHAD9T_"
      },
      "source": [
        "## 5. Covariance and Correlation"
      ]
    },
    {
      "cell_type": "markdown",
      "metadata": {
        "id": "16hdLXmmD9T_"
      },
      "source": [
        "1. Covariance is a numerical measure that indicates the inter-dependency between two variables.\n",
        "2. Covariance indicates how two variables behave together in relation to their averages.\n",
        "3. A covariance of 0 indicates that the variables are totally independant, while a high and positive covariance value means that a variable is big when the other is big. Analogously, a negative covariance with a high absolute value means that one variable is big when the other is small.\n",
        "4. Covariance can be calculated through the cov() function."
      ]
    },
    {
      "cell_type": "markdown",
      "metadata": {
        "id": "67BRrel-D9UA"
      },
      "source": [
        "### 5.1 Check the Covariance and Correlation scores . write your Observations?"
      ]
    },
    {
      "cell_type": "markdown",
      "metadata": {
        "id": "0ey22sB2D9UB"
      },
      "source": [
        "#### Covariance"
      ]
    },
    {
      "cell_type": "code",
      "metadata": {
        "id": "rNVFrLrHD9UB",
        "outputId": "28c95968-25de-4f9d-a796-974ff61f309f"
      },
      "source": [
        "print(wines.cov())"
      ],
      "execution_count": null,
      "outputs": [
        {
          "name": "stdout",
          "output_type": "stream",
          "text": [
            "                      fixed acidity  volatile acidity  citric acid  \\\n",
            "fixed acidity              0.712114         -0.001931     0.029533   \n",
            "volatile acidity          -0.001931          0.010160    -0.001823   \n",
            "citric acid                0.029533         -0.001823     0.014646   \n",
            "residual sugar             0.381022          0.032865     0.057829   \n",
            "chlorides                  0.000426          0.000155     0.000302   \n",
            "free sulfur dioxide       -0.708919         -0.166300     0.193630   \n",
            "total sulfur dioxide       3.266013          0.382354     0.622989   \n",
            "density                    0.000670          0.000008     0.000054   \n",
            "pH                        -0.054265         -0.000486    -0.002992   \n",
            "sulphates                 -0.001651         -0.000411     0.000861   \n",
            "alcohol                   -0.125533          0.008400    -0.011278   \n",
            "quality                   -0.084947         -0.017382    -0.000987   \n",
            "\n",
            "                      residual sugar  chlorides  free sulfur dioxide  \\\n",
            "fixed acidity               0.381022   0.000426            -0.708919   \n",
            "volatile acidity            0.032865   0.000155            -0.166300   \n",
            "citric acid                 0.057829   0.000302             0.193630   \n",
            "residual sugar             25.725770   0.009828            25.800578   \n",
            "chlorides                   0.009828   0.000477             0.037674   \n",
            "free sulfur dioxide        25.800578   0.037674           289.242720   \n",
            "total sulfur dioxide       86.531303   0.184687           444.865891   \n",
            "density                     0.012727   0.000017             0.014966   \n",
            "pH                         -0.148684  -0.000298            -0.001587   \n",
            "sulphates                  -0.015435   0.000042             0.114938   \n",
            "alcohol                    -2.812740  -0.009684            -5.234509   \n",
            "quality                    -0.438316  -0.004062             0.122878   \n",
            "\n",
            "                      total sulfur dioxide   density        pH  sulphates  \\\n",
            "fixed acidity                     3.266013  0.000670 -0.054265  -0.001651   \n",
            "volatile acidity                  0.382354  0.000008 -0.000486  -0.000411   \n",
            "citric acid                       0.622989  0.000054 -0.002992   0.000861   \n",
            "residual sugar                   86.531303  0.012727 -0.148684  -0.015435   \n",
            "chlorides                         0.184687  0.000017 -0.000298   0.000042   \n",
            "free sulfur dioxide             444.865891  0.014966 -0.001587   0.114938   \n",
            "total sulfur dioxide           1806.085491  0.067352  0.014894   0.652645   \n",
            "density                           0.067352  0.000009 -0.000042   0.000025   \n",
            "pH                                0.014894 -0.000042  0.022801   0.002688   \n",
            "sulphates                         0.652645  0.000025  0.002688   0.013025   \n",
            "alcohol                         -23.476605 -0.002871  0.022565  -0.002448   \n",
            "quality                          -6.576746 -0.000814  0.013297   0.005425   \n",
            "\n",
            "                        alcohol   quality  \n",
            "fixed acidity         -0.125533 -0.084947  \n",
            "volatile acidity       0.008400 -0.017382  \n",
            "citric acid           -0.011278 -0.000987  \n",
            "residual sugar        -2.812740 -0.438316  \n",
            "chlorides             -0.009684 -0.004062  \n",
            "free sulfur dioxide   -5.234509  0.122878  \n",
            "total sulfur dioxide -23.476605 -6.576746  \n",
            "density               -0.002871 -0.000814  \n",
            "pH                     0.022565  0.013297  \n",
            "sulphates             -0.002448  0.005425  \n",
            "alcohol                1.514427  0.474726  \n",
            "quality                0.474726  0.784356  \n"
          ]
        }
      ]
    },
    {
      "cell_type": "markdown",
      "metadata": {
        "id": "dc81paxXD9UB"
      },
      "source": [
        "#### Observation:\n",
        "    * hard to be understood and compared, because it gives us values in different scales as the variables change.\n",
        "    * For a better comparison, we normalize covariance to a value that will always be between -1 and 1, so it can be better understood"
      ]
    },
    {
      "cell_type": "markdown",
      "metadata": {
        "id": "TXakKvzvD9UC"
      },
      "source": [
        "#### Correlation"
      ]
    },
    {
      "cell_type": "code",
      "metadata": {
        "id": "khDhyyvjD9UC",
        "outputId": "c25ac00e-afb4-429b-b3b8-693833ea6ead"
      },
      "source": [
        "print(wines.corr())"
      ],
      "execution_count": null,
      "outputs": [
        {
          "name": "stdout",
          "output_type": "stream",
          "text": [
            "                      fixed acidity  volatile acidity  citric acid  \\\n",
            "fixed acidity              1.000000         -0.022697     0.289181   \n",
            "volatile acidity          -0.022697          1.000000    -0.149472   \n",
            "citric acid                0.289181         -0.149472     1.000000   \n",
            "residual sugar             0.089021          0.064286     0.094212   \n",
            "chlorides                  0.023086          0.070512     0.114364   \n",
            "free sulfur dioxide       -0.049396         -0.097012     0.094077   \n",
            "total sulfur dioxide       0.091070          0.089261     0.121131   \n",
            "density                    0.265331          0.027114     0.149503   \n",
            "pH                        -0.425858         -0.031915    -0.163748   \n",
            "sulphates                 -0.017143         -0.035728     0.062331   \n",
            "alcohol                   -0.120881          0.067718    -0.075729   \n",
            "quality                   -0.113663         -0.194723    -0.009209   \n",
            "\n",
            "                      residual sugar  chlorides  free sulfur dioxide  \\\n",
            "fixed acidity               0.089021   0.023086            -0.049396   \n",
            "volatile acidity            0.064286   0.070512            -0.097012   \n",
            "citric acid                 0.094212   0.114364             0.094077   \n",
            "residual sugar              1.000000   0.088685             0.299098   \n",
            "chlorides                   0.088685   1.000000             0.101392   \n",
            "free sulfur dioxide         0.299098   0.101392             1.000000   \n",
            "total sulfur dioxide        0.401439   0.198910             0.615501   \n",
            "density                     0.838966   0.257211             0.294210   \n",
            "pH                         -0.194133  -0.090439            -0.000618   \n",
            "sulphates                  -0.026664   0.016763             0.059217   \n",
            "alcohol                    -0.450631  -0.360189            -0.250104   \n",
            "quality                    -0.097577  -0.209934             0.008158   \n",
            "\n",
            "                      total sulfur dioxide   density        pH  sulphates  \\\n",
            "fixed acidity                     0.091070  0.265331 -0.425858  -0.017143   \n",
            "volatile acidity                  0.089261  0.027114 -0.031915  -0.035728   \n",
            "citric acid                       0.121131  0.149503 -0.163748   0.062331   \n",
            "residual sugar                    0.401439  0.838966 -0.194133  -0.026664   \n",
            "chlorides                         0.198910  0.257211 -0.090439   0.016763   \n",
            "free sulfur dioxide               0.615501  0.294210 -0.000618   0.059217   \n",
            "total sulfur dioxide              1.000000  0.529881  0.002321   0.134562   \n",
            "density                           0.529881  1.000000 -0.093591   0.074493   \n",
            "pH                                0.002321 -0.093591  1.000000   0.155951   \n",
            "sulphates                         0.134562  0.074493  0.155951   1.000000   \n",
            "alcohol                          -0.448892 -0.780138  0.121432  -0.017433   \n",
            "quality                          -0.174737 -0.307123  0.099427   0.053678   \n",
            "\n",
            "                       alcohol   quality  \n",
            "fixed acidity        -0.120881 -0.113663  \n",
            "volatile acidity      0.067718 -0.194723  \n",
            "citric acid          -0.075729 -0.009209  \n",
            "residual sugar       -0.450631 -0.097577  \n",
            "chlorides            -0.360189 -0.209934  \n",
            "free sulfur dioxide  -0.250104  0.008158  \n",
            "total sulfur dioxide -0.448892 -0.174737  \n",
            "density              -0.780138 -0.307123  \n",
            "pH                    0.121432  0.099427  \n",
            "sulphates            -0.017433  0.053678  \n",
            "alcohol               1.000000  0.435575  \n",
            "quality               0.435575  1.000000  \n"
          ]
        }
      ]
    },
    {
      "cell_type": "markdown",
      "metadata": {
        "id": "v0mundhoD9UC"
      },
      "source": [
        "#### Observation:\n",
        "    \n",
        "1. This value is the correlation. Correlation is always between -1, a perfect anti-correlation, and 1, perfect correlation\n",
        "2. Finally, it is also important to note the famous concept that says that “correlation does not imply causation”."
      ]
    },
    {
      "cell_type": "markdown",
      "metadata": {
        "id": "8eBvQXM0D9UD"
      },
      "source": [
        "### 6.1 check the dataset.describe()?"
      ]
    },
    {
      "cell_type": "code",
      "metadata": {
        "id": "Ic6i5WGkD9UD",
        "outputId": "155cf794-1a35-4120-9299-9db91baae644"
      },
      "source": [
        "wines.describe()"
      ],
      "execution_count": null,
      "outputs": [
        {
          "data": {
            "text/html": [
              "<div>\n",
              "<style scoped>\n",
              "    .dataframe tbody tr th:only-of-type {\n",
              "        vertical-align: middle;\n",
              "    }\n",
              "\n",
              "    .dataframe tbody tr th {\n",
              "        vertical-align: top;\n",
              "    }\n",
              "\n",
              "    .dataframe thead th {\n",
              "        text-align: right;\n",
              "    }\n",
              "</style>\n",
              "<table border=\"1\" class=\"dataframe\">\n",
              "  <thead>\n",
              "    <tr style=\"text-align: right;\">\n",
              "      <th></th>\n",
              "      <th>fixed acidity</th>\n",
              "      <th>volatile acidity</th>\n",
              "      <th>citric acid</th>\n",
              "      <th>residual sugar</th>\n",
              "      <th>chlorides</th>\n",
              "      <th>free sulfur dioxide</th>\n",
              "      <th>total sulfur dioxide</th>\n",
              "      <th>density</th>\n",
              "      <th>pH</th>\n",
              "      <th>sulphates</th>\n",
              "      <th>alcohol</th>\n",
              "      <th>quality</th>\n",
              "    </tr>\n",
              "  </thead>\n",
              "  <tbody>\n",
              "    <tr>\n",
              "      <th>count</th>\n",
              "      <td>4898.000000</td>\n",
              "      <td>4898.000000</td>\n",
              "      <td>4898.000000</td>\n",
              "      <td>4898.000000</td>\n",
              "      <td>4898.000000</td>\n",
              "      <td>4898.000000</td>\n",
              "      <td>4898.000000</td>\n",
              "      <td>4898.000000</td>\n",
              "      <td>4898.000000</td>\n",
              "      <td>4898.000000</td>\n",
              "      <td>4898.000000</td>\n",
              "      <td>4898.000000</td>\n",
              "    </tr>\n",
              "    <tr>\n",
              "      <th>mean</th>\n",
              "      <td>6.854788</td>\n",
              "      <td>0.278241</td>\n",
              "      <td>0.334192</td>\n",
              "      <td>6.391415</td>\n",
              "      <td>0.045772</td>\n",
              "      <td>35.308085</td>\n",
              "      <td>138.360657</td>\n",
              "      <td>0.994027</td>\n",
              "      <td>3.188267</td>\n",
              "      <td>0.489847</td>\n",
              "      <td>10.514267</td>\n",
              "      <td>5.877909</td>\n",
              "    </tr>\n",
              "    <tr>\n",
              "      <th>std</th>\n",
              "      <td>0.843868</td>\n",
              "      <td>0.100795</td>\n",
              "      <td>0.121020</td>\n",
              "      <td>5.072058</td>\n",
              "      <td>0.021848</td>\n",
              "      <td>17.007137</td>\n",
              "      <td>42.498065</td>\n",
              "      <td>0.002991</td>\n",
              "      <td>0.151001</td>\n",
              "      <td>0.114126</td>\n",
              "      <td>1.230621</td>\n",
              "      <td>0.885639</td>\n",
              "    </tr>\n",
              "    <tr>\n",
              "      <th>min</th>\n",
              "      <td>3.800000</td>\n",
              "      <td>0.080000</td>\n",
              "      <td>0.000000</td>\n",
              "      <td>0.600000</td>\n",
              "      <td>0.009000</td>\n",
              "      <td>2.000000</td>\n",
              "      <td>9.000000</td>\n",
              "      <td>0.987110</td>\n",
              "      <td>2.720000</td>\n",
              "      <td>0.220000</td>\n",
              "      <td>8.000000</td>\n",
              "      <td>3.000000</td>\n",
              "    </tr>\n",
              "    <tr>\n",
              "      <th>25%</th>\n",
              "      <td>6.300000</td>\n",
              "      <td>0.210000</td>\n",
              "      <td>0.270000</td>\n",
              "      <td>1.700000</td>\n",
              "      <td>0.036000</td>\n",
              "      <td>23.000000</td>\n",
              "      <td>108.000000</td>\n",
              "      <td>0.991723</td>\n",
              "      <td>3.090000</td>\n",
              "      <td>0.410000</td>\n",
              "      <td>9.500000</td>\n",
              "      <td>5.000000</td>\n",
              "    </tr>\n",
              "    <tr>\n",
              "      <th>50%</th>\n",
              "      <td>6.800000</td>\n",
              "      <td>0.260000</td>\n",
              "      <td>0.320000</td>\n",
              "      <td>5.200000</td>\n",
              "      <td>0.043000</td>\n",
              "      <td>34.000000</td>\n",
              "      <td>134.000000</td>\n",
              "      <td>0.993740</td>\n",
              "      <td>3.180000</td>\n",
              "      <td>0.470000</td>\n",
              "      <td>10.400000</td>\n",
              "      <td>6.000000</td>\n",
              "    </tr>\n",
              "    <tr>\n",
              "      <th>75%</th>\n",
              "      <td>7.300000</td>\n",
              "      <td>0.320000</td>\n",
              "      <td>0.390000</td>\n",
              "      <td>9.900000</td>\n",
              "      <td>0.050000</td>\n",
              "      <td>46.000000</td>\n",
              "      <td>167.000000</td>\n",
              "      <td>0.996100</td>\n",
              "      <td>3.280000</td>\n",
              "      <td>0.550000</td>\n",
              "      <td>11.400000</td>\n",
              "      <td>6.000000</td>\n",
              "    </tr>\n",
              "    <tr>\n",
              "      <th>max</th>\n",
              "      <td>14.200000</td>\n",
              "      <td>1.100000</td>\n",
              "      <td>1.660000</td>\n",
              "      <td>65.800000</td>\n",
              "      <td>0.346000</td>\n",
              "      <td>289.000000</td>\n",
              "      <td>440.000000</td>\n",
              "      <td>1.038980</td>\n",
              "      <td>3.820000</td>\n",
              "      <td>1.080000</td>\n",
              "      <td>14.200000</td>\n",
              "      <td>9.000000</td>\n",
              "    </tr>\n",
              "  </tbody>\n",
              "</table>\n",
              "</div>"
            ],
            "text/plain": [
              "       fixed acidity  volatile acidity  citric acid  residual sugar  \\\n",
              "count    4898.000000       4898.000000  4898.000000     4898.000000   \n",
              "mean        6.854788          0.278241     0.334192        6.391415   \n",
              "std         0.843868          0.100795     0.121020        5.072058   \n",
              "min         3.800000          0.080000     0.000000        0.600000   \n",
              "25%         6.300000          0.210000     0.270000        1.700000   \n",
              "50%         6.800000          0.260000     0.320000        5.200000   \n",
              "75%         7.300000          0.320000     0.390000        9.900000   \n",
              "max        14.200000          1.100000     1.660000       65.800000   \n",
              "\n",
              "         chlorides  free sulfur dioxide  total sulfur dioxide      density  \\\n",
              "count  4898.000000          4898.000000           4898.000000  4898.000000   \n",
              "mean      0.045772            35.308085            138.360657     0.994027   \n",
              "std       0.021848            17.007137             42.498065     0.002991   \n",
              "min       0.009000             2.000000              9.000000     0.987110   \n",
              "25%       0.036000            23.000000            108.000000     0.991723   \n",
              "50%       0.043000            34.000000            134.000000     0.993740   \n",
              "75%       0.050000            46.000000            167.000000     0.996100   \n",
              "max       0.346000           289.000000            440.000000     1.038980   \n",
              "\n",
              "                pH    sulphates      alcohol      quality  \n",
              "count  4898.000000  4898.000000  4898.000000  4898.000000  \n",
              "mean      3.188267     0.489847    10.514267     5.877909  \n",
              "std       0.151001     0.114126     1.230621     0.885639  \n",
              "min       2.720000     0.220000     8.000000     3.000000  \n",
              "25%       3.090000     0.410000     9.500000     5.000000  \n",
              "50%       3.180000     0.470000    10.400000     6.000000  \n",
              "75%       3.280000     0.550000    11.400000     6.000000  \n",
              "max       3.820000     1.080000    14.200000     9.000000  "
            ]
          },
          "execution_count": 23,
          "metadata": {},
          "output_type": "execute_result"
        }
      ]
    },
    {
      "cell_type": "markdown",
      "metadata": {
        "id": "0T6CSbp6D9UD"
      },
      "source": [
        "#### 6.2 Create the numeric_features"
      ]
    },
    {
      "cell_type": "code",
      "metadata": {
        "colab": {
          "base_uri": "https://localhost:8080/"
        },
        "id": "ONZ302J0D9UD",
        "outputId": "dc67b916-8bfa-457a-f27c-c60ae5d6d911"
      },
      "source": [
        "numeric_features = list(wines.dtypes[(wines.dtypes != \"str\") & (wines.dtypes !='object')].index)\n",
        "numeric_features\n"
      ],
      "execution_count": null,
      "outputs": [
        {
          "output_type": "execute_result",
          "data": {
            "text/plain": [
              "['fixed acidity',\n",
              " 'volatile acidity',\n",
              " 'citric acid',\n",
              " 'residual sugar',\n",
              " 'chlorides',\n",
              " 'free sulfur dioxide',\n",
              " 'total sulfur dioxide',\n",
              " 'density',\n",
              " 'pH',\n",
              " 'sulphates',\n",
              " 'alcohol',\n",
              " 'quality']"
            ]
          },
          "metadata": {},
          "execution_count": 9
        }
      ]
    },
    {
      "cell_type": "markdown",
      "metadata": {
        "id": "Gkb2JpHXD9UD"
      },
      "source": [
        "#### 6.3 Create the skewed_features = wines[numeric_features]"
      ]
    },
    {
      "cell_type": "code",
      "metadata": {
        "id": "eaWkb9UdD9UE"
      },
      "source": [
        "skewed_features = wines[numeric_features].apply(lambda x : skew (x.dropna())).sort_values(ascending=False)\n"
      ],
      "execution_count": null,
      "outputs": []
    },
    {
      "cell_type": "markdown",
      "metadata": {
        "id": "TcAjRC6dD9UE"
      },
      "source": [
        "#### 6.4 Create DataFrame for skewness?"
      ]
    },
    {
      "cell_type": "code",
      "metadata": {
        "colab": {
          "base_uri": "https://localhost:8080/",
          "height": 425
        },
        "id": "tdqZgEnmD9UE",
        "outputId": "eed54628-82d4-4989-da38-e8c5c9e3a88a"
      },
      "source": [
        "#compute skewness\n",
        "skewness = pd.DataFrame({'Skew' :skewed_features})\n",
        "skewness\n"
      ],
      "execution_count": null,
      "outputs": [
        {
          "output_type": "execute_result",
          "data": {
            "text/html": [
              "<div>\n",
              "<style scoped>\n",
              "    .dataframe tbody tr th:only-of-type {\n",
              "        vertical-align: middle;\n",
              "    }\n",
              "\n",
              "    .dataframe tbody tr th {\n",
              "        vertical-align: top;\n",
              "    }\n",
              "\n",
              "    .dataframe thead th {\n",
              "        text-align: right;\n",
              "    }\n",
              "</style>\n",
              "<table border=\"1\" class=\"dataframe\">\n",
              "  <thead>\n",
              "    <tr style=\"text-align: right;\">\n",
              "      <th></th>\n",
              "      <th>Skew</th>\n",
              "    </tr>\n",
              "  </thead>\n",
              "  <tbody>\n",
              "    <tr>\n",
              "      <th>chlorides</th>\n",
              "      <td>5.021792</td>\n",
              "    </tr>\n",
              "    <tr>\n",
              "      <th>volatile acidity</th>\n",
              "      <td>1.576497</td>\n",
              "    </tr>\n",
              "    <tr>\n",
              "      <th>free sulfur dioxide</th>\n",
              "      <td>1.406314</td>\n",
              "    </tr>\n",
              "    <tr>\n",
              "      <th>citric acid</th>\n",
              "      <td>1.281528</td>\n",
              "    </tr>\n",
              "    <tr>\n",
              "      <th>residual sugar</th>\n",
              "      <td>1.076764</td>\n",
              "    </tr>\n",
              "    <tr>\n",
              "      <th>density</th>\n",
              "      <td>0.977474</td>\n",
              "    </tr>\n",
              "    <tr>\n",
              "      <th>sulphates</th>\n",
              "      <td>0.976894</td>\n",
              "    </tr>\n",
              "    <tr>\n",
              "      <th>fixed acidity</th>\n",
              "      <td>0.647553</td>\n",
              "    </tr>\n",
              "    <tr>\n",
              "      <th>alcohol</th>\n",
              "      <td>0.487193</td>\n",
              "    </tr>\n",
              "    <tr>\n",
              "      <th>pH</th>\n",
              "      <td>0.457642</td>\n",
              "    </tr>\n",
              "    <tr>\n",
              "      <th>total sulfur dioxide</th>\n",
              "      <td>0.390590</td>\n",
              "    </tr>\n",
              "    <tr>\n",
              "      <th>quality</th>\n",
              "      <td>0.155749</td>\n",
              "    </tr>\n",
              "  </tbody>\n",
              "</table>\n",
              "</div>"
            ],
            "text/plain": [
              "                          Skew\n",
              "chlorides             5.021792\n",
              "volatile acidity      1.576497\n",
              "free sulfur dioxide   1.406314\n",
              "citric acid           1.281528\n",
              "residual sugar        1.076764\n",
              "density               0.977474\n",
              "sulphates             0.976894\n",
              "fixed acidity         0.647553\n",
              "alcohol               0.487193\n",
              "pH                    0.457642\n",
              "total sulfur dioxide  0.390590\n",
              "quality               0.155749"
            ]
          },
          "metadata": {},
          "execution_count": 12
        }
      ]
    },
    {
      "cell_type": "markdown",
      "metadata": {
        "id": "_rvWkJiaD9UE"
      },
      "source": [
        "#### 6.5 Create to Get only higest skewed = [abs(skewness) > 0.7] features?"
      ]
    },
    {
      "cell_type": "code",
      "metadata": {
        "scrolled": true,
        "colab": {
          "base_uri": "https://localhost:8080/"
        },
        "id": "qwtrDYdTD9UF",
        "outputId": "632ff62a-51fa-492c-96be-c8c16b955ca5"
      },
      "source": [
        "# Get only higest skewed features\n",
        "skewness = skewness[abs(skewness) > 0.7]\n",
        "skewness = skewness.dropna()\n",
        "print (\"There are {} highly skewed numerical features. We can transform them.\".format(skewness.shape[0]))\n"
      ],
      "execution_count": null,
      "outputs": [
        {
          "output_type": "stream",
          "name": "stdout",
          "text": [
            "There are 7 highly skewed numerical features. We can transform them.\n"
          ]
        }
      ]
    },
    {
      "cell_type": "code",
      "metadata": {
        "id": "QV8_rPFeD9UF"
      },
      "source": [],
      "execution_count": null,
      "outputs": []
    },
    {
      "cell_type": "code",
      "metadata": {
        "id": "shMPjs-9D9UF"
      },
      "source": [],
      "execution_count": null,
      "outputs": []
    }
  ]
}