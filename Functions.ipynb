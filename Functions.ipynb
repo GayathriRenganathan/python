{
  "nbformat": 4,
  "nbformat_minor": 0,
  "metadata": {
    "colab": {
      "provenance": []
    },
    "kernelspec": {
      "name": "python3",
      "display_name": "Python 3"
    },
    "language_info": {
      "name": "python"
    }
  },
  "cells": [
    {
      "cell_type": "markdown",
      "metadata": {
        "id": "F-CLP8jtaD42"
      },
      "source": [
        "User Defined Function\n",
        "\n",
        "1) using def\n",
        "\n",
        "2) using Lambda function"
      ]
    },
    {
      "cell_type": "code",
      "metadata": {
        "colab": {
          "base_uri": "https://localhost:8080/"
        },
        "id": "jMcMvOsSZzmA",
        "outputId": "344b7dfd-53c6-4c21-b990-4f0d46bb1092"
      },
      "source": [
        "#function to calculate x^2 + 7\n",
        "def x2p7(x):\n",
        "  \"\"\"function to calculate x^2 + 7\"\"\"\n",
        "  y = x*x;\n",
        "  z = y +7;\n",
        "  return z;\n",
        "\n",
        "print(x2p7(5));\n",
        "print(x2p7.__doc__);\n"
      ],
      "execution_count": null,
      "outputs": [
        {
          "output_type": "stream",
          "text": [
            "32\n",
            "function to calculate x^2 + 7\n",
            "<function x2p7 at 0x7ff45e294050>\n"
          ],
          "name": "stdout"
        }
      ]
    },
    {
      "cell_type": "code",
      "metadata": {
        "colab": {
          "base_uri": "https://localhost:8080/"
        },
        "id": "Eqht6Q_Fbi4S",
        "outputId": "be42ccca-095f-45db-f6e4-e58db8b06c5f"
      },
      "source": [
        "def multiplyArray(x,y):\n",
        "  lenx = len(x);\n",
        "  leny = len(y);\n",
        "  z = [0] *(lenx * leny);\n",
        "  counter = 0;\n",
        "  for i in x:\n",
        "    for j in y:\n",
        "      z[counter] = i * j;\n",
        "      counter = counter + 1;\n",
        "  return z;\n",
        "\n",
        "print(multiplyArray([1,2,3],[4,5,6]));\n"
      ],
      "execution_count": null,
      "outputs": [
        {
          "output_type": "stream",
          "text": [
            "[4, 5, 6, 8, 10, 12, 12, 15, 18]\n"
          ],
          "name": "stdout"
        }
      ]
    },
    {
      "cell_type": "code",
      "metadata": {
        "colab": {
          "base_uri": "https://localhost:8080/"
        },
        "id": "0ANs68RsegAu",
        "outputId": "441b97b3-a555-4e6d-eba4-df026f0bb8a8"
      },
      "source": [
        "x2p7v2 = lambda x : x*x+7;\n",
        "print(x2p7v2(5));"
      ],
      "execution_count": null,
      "outputs": [
        {
          "output_type": "stream",
          "text": [
            "32\n"
          ],
          "name": "stdout"
        }
      ]
    }
  ]
}