{
  "nbformat": 4,
  "nbformat_minor": 0,
  "metadata": {
    "colab": {
      "provenance": []
    },
    "kernelspec": {
      "name": "python3",
      "display_name": "Python 3"
    },
    "language_info": {
      "name": "python"
    }
  },
  "cells": [
    {
      "cell_type": "code",
      "metadata": {
        "id": "Ex_ZaoAeRJp6"
      },
      "source": [
        "import numpy as np"
      ],
      "execution_count": null,
      "outputs": []
    },
    {
      "cell_type": "code",
      "metadata": {
        "colab": {
          "base_uri": "https://localhost:8080/"
        },
        "id": "EKdDAvZ2Rqkn",
        "outputId": "71831c97-907f-4489-c125-6f3746406b40"
      },
      "source": [
        "print(np.sqrt(49))\n",
        "print(np.cos(np.pi))\n",
        "print(np.log(np.exp(5.2)))"
      ],
      "execution_count": null,
      "outputs": [
        {
          "output_type": "stream",
          "text": [
            "7.0\n",
            "-1.0\n",
            "5.2\n"
          ],
          "name": "stdout"
        }
      ]
    },
    {
      "cell_type": "code",
      "metadata": {
        "colab": {
          "base_uri": "https://localhost:8080/"
        },
        "id": "z8_O-ZZFSclo",
        "outputId": "4381c41d-4ddb-4532-c419-dc7ab10113ae"
      },
      "source": [
        "vec = np.array([1,2,4])\n",
        "print(vec);\n",
        "vec2 = np.arange(0,15); #second parameter is exclusive\n",
        "print(vec2);\n",
        "vec3 = np.arange(0,25,5);\n",
        "print(vec3);"
      ],
      "execution_count": null,
      "outputs": [
        {
          "output_type": "stream",
          "text": [
            "[1 2 4]\n",
            "[ 0  1  2  3  4  5  6  7  8  9 10 11 12 13 14]\n",
            "[ 0  5 10 15 20]\n"
          ],
          "name": "stdout"
        }
      ]
    },
    {
      "cell_type": "code",
      "metadata": {
        "colab": {
          "base_uri": "https://localhost:8080/"
        },
        "id": "YZP5vHZAnX3o",
        "outputId": "3f54377d-c049-4178-88cc-2ac0cdc7e758"
      },
      "source": [
        "vec4 = np.linspace(0,5,10);\n",
        "print(vec4);\n",
        "print('');\n",
        "print(vec4.reshape(5,2));\n",
        "print(vec4);"
      ],
      "execution_count": null,
      "outputs": [
        {
          "output_type": "stream",
          "text": [
            "[0.         0.55555556 1.11111111 1.66666667 2.22222222 2.77777778\n",
            " 3.33333333 3.88888889 4.44444444 5.        ]\n",
            "\n",
            "[[0.         0.55555556]\n",
            " [1.11111111 1.66666667]\n",
            " [2.22222222 2.77777778]\n",
            " [3.33333333 3.88888889]\n",
            " [4.44444444 5.        ]]\n",
            "[0.         0.55555556 1.11111111 1.66666667 2.22222222 2.77777778\n",
            " 3.33333333 3.88888889 4.44444444 5.        ]\n"
          ],
          "name": "stdout"
        }
      ]
    },
    {
      "cell_type": "code",
      "metadata": {
        "colab": {
          "base_uri": "https://localhost:8080/"
        },
        "id": "T3dTTIi6n1ZS",
        "outputId": "73d1c3a2-2ff3-44b0-9808-b9de79173ade"
      },
      "source": [
        "mat = np.zeros([5,3])\n",
        "print(mat);\n",
        "mat1 = np.ones([2,5]);\n",
        "print(mat1);\n",
        "mat2 = np.eye(3);\n",
        "print(mat2);"
      ],
      "execution_count": null,
      "outputs": [
        {
          "output_type": "stream",
          "text": [
            "[[0. 0. 0.]\n",
            " [0. 0. 0.]\n",
            " [0. 0. 0.]\n",
            " [0. 0. 0.]\n",
            " [0. 0. 0.]]\n",
            "[[1. 1. 1. 1. 1.]\n",
            " [1. 1. 1. 1. 1.]]\n",
            "[[1. 0. 0.]\n",
            " [0. 1. 0.]\n",
            " [0. 0. 1.]]\n"
          ],
          "name": "stdout"
        }
      ]
    },
    {
      "cell_type": "code",
      "metadata": {
        "colab": {
          "base_uri": "https://localhost:8080/"
        },
        "id": "jQrOKs-3JpxR",
        "outputId": "cad7556d-1a17-4a51-965c-8df6abf481ed"
      },
      "source": [
        "mat_sam = np.array([[1,2,1],[4,5,6],[1,8,9]]);\n",
        "vec_sam = np.array([3,7,8]);\n",
        "product = np.matmul(mat_sam,vec_sam);\n",
        "print(product);\n",
        "\n",
        "print(np.linalg.solve(mat_sam,product));\n",
        "print(np.linalg.inv(mat_sam));"
      ],
      "execution_count": null,
      "outputs": [
        {
          "output_type": "stream",
          "text": [
            "[ 25  95 131]\n",
            "[3. 7. 8.]\n",
            "[[ 0.08333333  0.27777778 -0.19444444]\n",
            " [ 0.83333333 -0.22222222  0.05555556]\n",
            " [-0.75        0.16666667  0.08333333]]\n"
          ],
          "name": "stdout"
        }
      ]
    },
    {
      "cell_type": "code",
      "metadata": {
        "colab": {
          "base_uri": "https://localhost:8080/"
        },
        "id": "E57lYoweKq9l",
        "outputId": "8e432cf1-40c6-47a1-f294-6f9dcfbc2c52"
      },
      "source": [
        "vec7 = np.array(['red','Red','ora','ora',0]);\n",
        "print(np.unique(vec7));"
      ],
      "execution_count": null,
      "outputs": [
        {
          "output_type": "stream",
          "text": [
            "['0' 'Red' 'ora' 'red']\n"
          ],
          "name": "stdout"
        }
      ]
    },
    {
      "cell_type": "code",
      "metadata": {
        "id": "xY7VZs1HLNi6",
        "outputId": "ac893e07-5a6f-4ead-c3c3-d72bfa68642a",
        "colab": {
          "base_uri": "https://localhost:8080/"
        }
      },
      "source": [
        "# we can also use numpy to generate samples of a random variable\n",
        "rand_mat = np.random.rand(5,5) # uniform random variable\n",
        "print(rand_mat)\n",
        "rand_mat2 = np.random.randn(10,5) # standard normal random variable\n",
        "print('')\n",
        "print(rand_mat2)"
      ],
      "execution_count": null,
      "outputs": [
        {
          "output_type": "stream",
          "text": [
            "[[0.16438885 0.02703606 0.96542054 0.39381875 0.99992171]\n",
            " [0.90287292 0.31795938 0.28436322 0.6403563  0.91505209]\n",
            " [0.0573794  0.46146127 0.71273656 0.13647697 0.3171007 ]\n",
            " [0.52250395 0.20018831 0.5710396  0.81776118 0.19160986]\n",
            " [0.45469214 0.70481455 0.6141179  0.39484144 0.5033264 ]]\n",
            "\n",
            "[[ 1.845209    0.94599163 -0.24029901 -0.37785569 -1.34613814]\n",
            " [-0.21354864 -0.11117267 -1.9547939   0.68900524  0.10228202]\n",
            " [-0.40757665  0.09348776  0.0064106   0.00385364  0.34262902]\n",
            " [-0.54877896  1.4633181  -1.34781049 -0.04657695  0.15002806]\n",
            " [ 0.76651906  1.9198152  -1.54528113  0.99531002 -0.60109994]\n",
            " [ 2.29733279 -0.44399406 -1.73575936  1.59252346  0.65575884]\n",
            " [-1.35216367  2.17145922 -1.33845508 -0.14590567 -1.13320894]\n",
            " [ 0.65922671  0.69479363 -0.49944282  1.06100282 -0.36624368]\n",
            " [-1.13338002 -0.24332884  1.08493361 -0.00867568  0.51924546]\n",
            " [ 1.03361033 -0.51294244 -1.31508677  0.79283171  0.64625484]]\n"
          ],
          "name": "stdout"
        }
      ]
    },
    {
      "cell_type": "markdown",
      "metadata": {
        "id": "iEM3lBE0ky74"
      },
      "source": [
        "Collections\n",
        "\n",
        " 1) List - Collection of objects surrounded by \"[ ]\"\n",
        "\n",
        " 2) Tuple - similar to list but this is immutable. Represented by \"(  )\"\n",
        "\n",
        " 3)  Set - unordered List and does not allow duplicates and represented by \"{  }\"\n",
        "\n",
        " 4) Dictionary - Key Value pair"
      ]
    },
    {
      "cell_type": "code",
      "metadata": {
        "colab": {
          "base_uri": "https://localhost:8080/"
        },
        "id": "V8PqQL_BlEkI",
        "outputId": "583e341a-9741-4314-cb3f-9147d90eea3f"
      },
      "source": [
        "alist = [\"python\", 2.1, 1,\"Gayu\", 6];\n",
        "print(alist);\n",
        "print(alist[0]);\n",
        "print(alist[-1]);\n",
        "alist[2] = 3;\n",
        "print(alist);\n",
        "alist.append(\"to the back\");\n",
        "print(alist);\n",
        "alist.pop();\n",
        "print(alist);"
      ],
      "execution_count": null,
      "outputs": [
        {
          "output_type": "stream",
          "text": [
            "['python', 2.1, 1, 'Gayu', 6]\n",
            "python\n",
            "6\n",
            "['python', 2.1, 3, 'Gayu', 6]\n",
            "['python', 2.1, 3, 'Gayu', 6, 'to the back']\n",
            "['python', 2.1, 3, 'Gayu', 6]\n"
          ],
          "name": "stdout"
        }
      ]
    },
    {
      "cell_type": "code",
      "metadata": {
        "colab": {
          "base_uri": "https://localhost:8080/"
        },
        "id": "ME4SY93-ma4Z",
        "outputId": "4816a741-60cb-4ed6-928d-264e0eacfa60"
      },
      "source": [
        "#Initialize list with all same element for n size\n",
        "list1 = [5]*4;\n",
        "print(list1);"
      ],
      "execution_count": null,
      "outputs": [
        {
          "output_type": "stream",
          "text": [
            "[5, 5, 5, 5]\n"
          ],
          "name": "stdout"
        }
      ]
    },
    {
      "cell_type": "code",
      "metadata": {
        "colab": {
          "base_uri": "https://localhost:8080/"
        },
        "id": "WOMCSghXmqfp",
        "outputId": "52d010b8-a89f-4b85-cf7d-a5cad3d47d1f"
      },
      "source": [
        "#we can use list as entries of list\n",
        "alist[1] = [1,2,4];\n",
        "print(alist);\n",
        "print(alist[1][1]);"
      ],
      "execution_count": null,
      "outputs": [
        {
          "output_type": "stream",
          "text": [
            "['python', [1, 2, 4], 3, 'Gayu', 6]\n",
            "2\n"
          ],
          "name": "stdout"
        }
      ]
    },
    {
      "cell_type": "code",
      "metadata": {
        "colab": {
          "base_uri": "https://localhost:8080/"
        },
        "id": "xS6UPXmmnOO5",
        "outputId": "a9ced2f7-9a20-4ea6-9ac0-7e903aaf8cdb"
      },
      "source": [
        "#copying the list. Simply assigning the list to another variable shares same memory/reference.\n",
        "copy_list = alist;\n",
        "print(alist);\n",
        "print(copy_list);\n",
        "print(\"-------------\");\n",
        "copy_list[1] = 2.1;\n",
        "print(alist);\n",
        "print(copy_list);\n",
        "print(\"------------\");\n",
        "copy_list = alist.copy();\n",
        "copy_list[1] =  [1,2,4];\n",
        "print(alist);\n",
        "print(copy_list);"
      ],
      "execution_count": null,
      "outputs": [
        {
          "output_type": "stream",
          "text": [
            "['python', [1, 2, 4], 3, 'Gayu', 6]\n",
            "['python', [1, 2, 4], 3, 'Gayu', 6]\n",
            "-------------\n",
            "['python', 2.1, 3, 'Gayu', 6]\n",
            "['python', 2.1, 3, 'Gayu', 6]\n",
            "------------\n",
            "['python', 2.1, 3, 'Gayu', 6]\n",
            "['python', [1, 2, 4], 3, 'Gayu', 6]\n"
          ],
          "name": "stdout"
        }
      ]
    },
    {
      "cell_type": "code",
      "metadata": {
        "colab": {
          "base_uri": "https://localhost:8080/"
        },
        "id": "2Wpkstlgqvxg",
        "outputId": "42fee6d4-3abc-442c-bc00-3c055c65861a"
      },
      "source": [
        "atuple = (1, 233,233, 13, 11);\n",
        "print(atuple);\n",
        "print(atuple[1]);\n",
        "# this will not work !! tuple[1] = 11;\n",
        "# work around - convert tuple to list\n",
        "tuple_list = list(atuple);\n",
        "tuple_list[1] = 100;\n",
        "print(tuple_list);\n"
      ],
      "execution_count": null,
      "outputs": [
        {
          "output_type": "stream",
          "text": [
            "(1, 233, 233, 13, 11)\n",
            "233\n",
            "[1, 100, 233, 13, 11]\n"
          ],
          "name": "stdout"
        }
      ]
    },
    {
      "cell_type": "code",
      "metadata": {
        "colab": {
          "base_uri": "https://localhost:8080/"
        },
        "id": "swkxmzzmuc0B",
        "outputId": "4a8e3382-a16f-492d-ed03-5e6bc5e284ef"
      },
      "source": [
        "aSet = {1,2,3,1};\n",
        "print(aSet);\n",
        "#print(aSet[1]); # throws error --  as they are unordered\n",
        "print(2 in aSet);\n",
        "\n",
        "aSet.add(\"water\");\n",
        "aSet.remove(2);\n",
        "print(aSet);"
      ],
      "execution_count": null,
      "outputs": [
        {
          "output_type": "stream",
          "text": [
            "{1, 2, 3}\n",
            "True\n",
            "{1, 3, 'water'}\n"
          ],
          "name": "stdout"
        }
      ]
    },
    {
      "cell_type": "code",
      "metadata": {
        "colab": {
          "base_uri": "https://localhost:8080/"
        },
        "id": "7kJRV_Y559HA",
        "outputId": "5e3a7526-56b9-4d14-e4c4-67acd6c361f1"
      },
      "source": [
        "aDict = {\n",
        "    \"name\" : \"Gayathri\",\n",
        "    \"phone\" :\"Realme\",\n",
        "    \"age\" : 27\n",
        "};\n",
        "print(aDict);\n",
        "print(aDict[\"name\"]);\n",
        "aDict[\"phone\"] = \"Samsung\";\n",
        "aDict[\"country\"] = \"USA\";\n",
        "print(aDict);"
      ],
      "execution_count": null,
      "outputs": [
        {
          "output_type": "stream",
          "text": [
            "{'name': 'Gayathri', 'phone': 'Realme', 'age': 27}\n",
            "Gayathri\n",
            "{'name': 'Gayathri', 'phone': 'Samsung', 'age': 27, 'country': 'USA'}\n"
          ],
          "name": "stdout"
        }
      ]
    },
    {
      "cell_type": "code",
      "metadata": {
        "colab": {
          "base_uri": "https://localhost:8080/"
        },
        "id": "USAlrRoy7VAl",
        "outputId": "c1204571-9970-4351-d490-381d990c7afd"
      },
      "source": [
        "#Accessing data in list\n",
        "list_sample = [1,4,64,22,34,23];\n",
        "print(list_sample[2:5]);\n",
        "print(list_sample[2:3]);\n",
        "print(list_sample[-3:-1]);"
      ],
      "execution_count": null,
      "outputs": [
        {
          "output_type": "stream",
          "text": [
            "[64, 22, 34]\n",
            "[64]\n",
            "[22, 34]\n"
          ],
          "name": "stdout"
        }
      ]
    }
  ]
}